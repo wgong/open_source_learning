{
 "cells": [
  {
   "cell_type": "markdown",
   "metadata": {},
   "source": [
    "https://www.baeldung.com/curl-rest\n",
    "\n",
    "\n",
    "https://jsonplaceholder.typicode.com/\n",
    "is a great REST API test site"
   ]
  },
  {
   "cell_type": "markdown",
   "metadata": {},
   "source": [
    "### Save curl output"
   ]
  },
  {
   "cell_type": "markdown",
   "metadata": {},
   "source": [
    "save curl output response to a file\n",
    "\n",
    "    $ curl -o jsonplaceholder.html https://jsonplaceholder.typicode.com/"
   ]
  },
  {
   "cell_type": "code",
   "execution_count": 1,
   "metadata": {},
   "outputs": [
    {
     "name": "stderr",
     "output_type": "stream",
     "text": [
      "  % Total    % Received % Xferd  Average Speed   Time    Time     Time  Current\n",
      "                                 Dload  Upload   Total   Spent    Left  Speed\n",
      "\n",
      "  0     0    0     0    0     0      0      0 --:--:-- --:--:-- --:--:--     0\n",
      "  0     0    0     0    0     0      0      0 --:--:-- --:--:-- --:--:--     0\n",
      "100    83  100    83    0     0    313      0 --:--:-- --:--:-- --:--:--   313\n"
     ]
    }
   ],
   "source": [
    "!curl -o todos-1.json https://jsonplaceholder.typicode.com/todos/1"
   ]
  },
  {
   "cell_type": "code",
   "execution_count": 2,
   "metadata": {},
   "outputs": [
    {
     "name": "stdout",
     "output_type": "stream",
     "text": [
      "{\n",
      "  \"userId\": 1,\n",
      "  \"id\": 1,\n",
      "  \"title\": \"delectus aut autem\",\n",
      "  \"completed\": false\n",
      "}\n"
     ]
    }
   ],
   "source": [
    "!cat todos-1.json"
   ]
  },
  {
   "cell_type": "markdown",
   "metadata": {},
   "source": [
    "### HTTP Methods with curl"
   ]
  },
  {
   "cell_type": "markdown",
   "metadata": {},
   "source": [
    "#### GET"
   ]
  },
  {
   "cell_type": "code",
   "execution_count": 4,
   "metadata": {},
   "outputs": [
    {
     "name": "stdout",
     "output_type": "stream",
     "text": [
      "{\n",
      "  \"albumId\": 1,\n",
      "  \"id\": 1,\n",
      "  \"title\": \"accusamus beatae ad facilis cum similique qui sunt\",\n",
      "  \"url\": \"https://via.placeholder.com/600/92c952\",\n",
      "  \"thumbnailUrl\": \"https://via.placeholder.com/150/92c952\"\n",
      "}\n"
     ]
    },
    {
     "name": "stderr",
     "output_type": "stream",
     "text": [
      "  % Total    % Received % Xferd  Average Speed   Time    Time     Time  Current\n",
      "                                 Dload  Upload   Total   Spent    Left  Speed\n",
      "\n",
      "  0     0    0     0    0     0      0      0 --:--:-- --:--:-- --:--:--     0\n",
      "100   205  100   205    0     0   1191      0 --:--:-- --:--:-- --:--:--  1191\n"
     ]
    }
   ],
   "source": [
    "! curl  https://jsonplaceholder.typicode.com/photos/1"
   ]
  },
  {
   "cell_type": "markdown",
   "metadata": {},
   "source": [
    "#### POST"
   ]
  },
  {
   "cell_type": "code",
   "execution_count": 5,
   "metadata": {},
   "outputs": [
    {
     "name": "stdout",
     "output_type": "stream",
     "text": [
      "{\n",
      "  \"id\": 10,\n",
      "  \"name\": \"Clementina DuBuque\",\n",
      "  \"username\": \"Moriah.Stanton\",\n",
      "  \"email\": \"Rey.Padberg@karina.biz\",\n",
      "  \"address\": {\n",
      "    \"street\": \"Kattie Turnpike\",\n",
      "    \"suite\": \"Suite 198\",\n",
      "    \"city\": \"Lebsackbury\",\n",
      "    \"zipcode\": \"31428-2261\",\n",
      "    \"geo\": {\n",
      "      \"lat\": \"-38.2386\",\n",
      "      \"lng\": \"57.2232\"\n",
      "    }\n",
      "  },\n",
      "  \"phone\": \"024-648-3804\",\n",
      "  \"website\": \"ambrose.net\",\n",
      "  \"company\": {\n",
      "    \"name\": \"Hoeger LLC\",\n",
      "    \"catchPhrase\": \"Centralized empowering task-force\",\n",
      "    \"bs\": \"target end-to-end models\"\n",
      "  }\n",
      "}\n"
     ]
    },
    {
     "name": "stderr",
     "output_type": "stream",
     "text": [
      "  % Total    % Received % Xferd  Average Speed   Time    Time     Time  Current\n",
      "                                 Dload  Upload   Total   Spent    Left  Speed\n",
      "\n",
      "  0     0    0     0    0     0      0      0 --:--:-- --:--:-- --:--:--     0\n",
      "100   511  100   511    0     0   1921      0 --:--:-- --:--:-- --:--:--  1921\n"
     ]
    }
   ],
   "source": [
    "! curl  \"https://jsonplaceholder.typicode.com/users/10\""
   ]
  },
  {
   "cell_type": "code",
   "execution_count": 7,
   "metadata": {},
   "outputs": [
    {
     "name": "stdout",
     "output_type": "stream",
     "text": [
      "{}\n"
     ]
    },
    {
     "name": "stderr",
     "output_type": "stream",
     "text": [
      "  % Total    % Received % Xferd  Average Speed   Time    Time     Time  Current\n",
      "                                 Dload  Upload   Total   Spent    Left  Speed\n",
      "\n",
      "  0     0    0     0    0     0      0      0 --:--:-- --:--:-- --:--:--     0\n",
      "100     2  100     2    0     0      7      0 --:--:-- --:--:-- --:--:--     7\n"
     ]
    }
   ],
   "source": [
    "! curl \"https://jsonplaceholder.typicode.com/users/id=10&username=Moria.Stanley\""
   ]
  },
  {
   "cell_type": "code",
   "execution_count": 8,
   "metadata": {},
   "outputs": [
    {
     "name": "stdout",
     "output_type": "stream",
     "text": [
      "{\n",
      "  \"id\": 10,\n",
      "  \"name\": \"Clementina DuBuque\",\n",
      "  \"username\": \"Moriah.Stanton\",\n",
      "  \"email\": \"Rey.Padberg@karina.biz\",\n",
      "  \"address\": {\n",
      "    \"street\": \"Kattie Turnpike\",\n",
      "    \"suite\": \"Suite 198\",\n",
      "    \"city\": \"Lebsackbury\",\n",
      "    \"zipcode\": \"31428-2261\",\n",
      "    \"geo\": {\n",
      "      \"lat\": \"-38.2386\",\n",
      "      \"lng\": \"57.2232\"\n",
      "    }\n",
      "  },\n",
      "  \"phone\": \"024-648-3804\",\n",
      "  \"website\": \"ambrose.net\",\n",
      "  \"company\": {\n",
      "    \"name\": \"Hoeger LLC\",\n",
      "    \"catchPhrase\": \"Centralized empowering task-force\",\n",
      "    \"bs\": \"target end-to-end models\"\n",
      "  }\n",
      "}\n"
     ]
    },
    {
     "name": "stderr",
     "output_type": "stream",
     "text": [
      "  % Total    % Received % Xferd  Average Speed   Time    Time     Time  Current\n",
      "                                 Dload  Upload   Total   Spent    Left  Speed\n",
      "\n",
      "  0     0    0     0    0     0      0      0 --:--:-- --:--:-- --:--:--     0\n",
      "100   511  100   511    0     0   2333      0 --:--:-- --:--:-- --:--:--  2333\n"
     ]
    }
   ],
   "source": [
    "! curl  \"https://jsonplaceholder.typicode.com/users/10\""
   ]
  },
  {
   "cell_type": "markdown",
   "metadata": {},
   "source": [
    "#### Delete"
   ]
  },
  {
   "cell_type": "code",
   "execution_count": 9,
   "metadata": {},
   "outputs": [
    {
     "name": "stdout",
     "output_type": "stream",
     "text": [
      "{}\n"
     ]
    },
    {
     "name": "stderr",
     "output_type": "stream",
     "text": [
      "  % Total    % Received % Xferd  Average Speed   Time    Time     Time  Current\n",
      "                                 Dload  Upload   Total   Spent    Left  Speed\n",
      "\n",
      "  0     0    0     0    0     0      0      0 --:--:-- --:--:-- --:--:--     0\n",
      "  0     0    0     0    0     0      0      0 --:--:-- --:--:-- --:--:--     0\n",
      "100     2  100     2    0     0      4      0 --:--:-- --:--:-- --:--:--     4\n"
     ]
    }
   ],
   "source": [
    "! curl -X DELETE https://jsonplaceholder.typicode.com/users/10"
   ]
  },
  {
   "cell_type": "code",
   "execution_count": 10,
   "metadata": {},
   "outputs": [
    {
     "name": "stdout",
     "output_type": "stream",
     "text": [
      "{\n",
      "  \"id\": 10,\n",
      "  \"name\": \"Clementina DuBuque\",\n",
      "  \"username\": \"Moriah.Stanton\",\n",
      "  \"email\": \"Rey.Padberg@karina.biz\",\n",
      "  \"address\": {\n",
      "    \"street\": \"Kattie Turnpike\",\n",
      "    \"suite\": \"Suite 198\",\n",
      "    \"city\": \"Lebsackbury\",\n",
      "    \"zipcode\": \"31428-2261\",\n",
      "    \"geo\": {\n",
      "      \"lat\": \"-38.2386\",\n",
      "      \"lng\": \"57.2232\"\n",
      "    }\n",
      "  },\n",
      "  \"phone\": \"024-648-3804\",\n",
      "  \"website\": \"ambrose.net\",\n",
      "  \"company\": {\n",
      "    \"name\": \"Hoeger LLC\",\n",
      "    \"catchPhrase\": \"Centralized empowering task-force\",\n",
      "    \"bs\": \"target end-to-end models\"\n",
      "  }\n",
      "}\n"
     ]
    },
    {
     "name": "stderr",
     "output_type": "stream",
     "text": [
      "  % Total    % Received % Xferd  Average Speed   Time    Time     Time  Current\n",
      "                                 Dload  Upload   Total   Spent    Left  Speed\n",
      "\n",
      "  0     0    0     0    0     0      0      0 --:--:-- --:--:-- --:--:--     0\n",
      "100   511  100   511    0     0    990      0 --:--:-- --:--:-- --:--:--   990\n"
     ]
    }
   ],
   "source": [
    "!curl https://jsonplaceholder.typicode.com/users/10"
   ]
  },
  {
   "cell_type": "markdown",
   "metadata": {},
   "source": [
    "### Install JSON-server\n",
    "\n",
    "http://nmotw.in/json-server/\n",
    "\n",
    "\n",
    "https://github.com/typicode/json-server\n",
    "\n",
    "    $ npm install -g json-server\n",
    "    \n",
    "    $ json-server --watch db.json"
   ]
  },
  {
   "cell_type": "markdown",
   "metadata": {},
   "source": [
    "#### get the entire db"
   ]
  },
  {
   "cell_type": "code",
   "execution_count": 20,
   "metadata": {},
   "outputs": [
    {
     "name": "stdout",
     "output_type": "stream",
     "text": [
      "{\n",
      "  \"posts\": [\n",
      "    {\n",
      "      \"id\": 1,\n",
      "      \"title\": \"json-server\",\n",
      "      \"author\": \"typicode\"\n",
      "    },\n",
      "    {\n",
      "      \"id\": 3,\n",
      "      \"title\": \"Docker\",\n",
      "      \"author\": \"shipper\"\n",
      "    },\n",
      "    {\n",
      "      \"title\": \"learn Ansible\",\n",
      "      \"author\": \"annabella\",\n",
      "      \"id\": \"21\"\n",
      "    },\n",
      "    {\n",
      "      \"id\": 4,\n",
      "      \"title\": \"apache-server\",\n",
      "      \"author\": \"apache\"\n",
      "    },\n",
      "    {\n",
      "      \"id\": \"5\",\n",
      "      \"title\": \"learn Docker Compose\",\n",
      "      \"author\": \"Mei\"\n",
      "    },\n",
      "    {\n",
      "      \"id\": \"2\",\n",
      "      \"title\": \"Play with Jenkins\",\n",
      "      \"author\": \"oracle\"\n",
      "    }\n",
      "  ],\n",
      "  \"comments\": [\n",
      "    {\n",
      "      \"id\": 1,\n",
      "      \"body\": \"json-server\",\n",
      "      \"postId\": 1\n",
      "    },\n",
      "    {\n",
      "      \"id\": 2,\n",
      "      \"body\": \"easy to use\",\n",
      "      \"postId\": 1\n",
      "    },\n",
      "    {\n",
      "      \"id\": 4,\n",
      "      \"body\": \"Docker is fun\",\n",
      "      \"postId\": 3\n",
      "    },\n",
      "    {\n",
      "      \"id\": 5,\n",
      "      \"body\": \"Docker great future\",\n",
      "      \"postId\": 3\n",
      "    },\n",
      "    {\n",
      "      \"id\": \"6\",\n",
      "      \"postId\": \"4\",\n",
      "      \"body\": \"Apache is powerful\"\n",
      "    }\n",
      "  ],\n",
      "  \"profile\": {\n",
      "    \"name\": \"typicode\"\n",
      "  }\n",
      "}\n"
     ]
    },
    {
     "name": "stderr",
     "output_type": "stream",
     "text": [
      "  % Total    % Received % Xferd  Average Speed   Time    Time     Time  Current\n",
      "                                 Dload  Upload   Total   Spent    Left  Speed\n",
      "\n",
      "  0     0    0     0    0     0      0      0 --:--:-- --:--:-- --:--:--     0\n",
      "100  1000  100  1000    0     0   4000      0 --:--:-- --:--:-- --:--:--  4255\n"
     ]
    }
   ],
   "source": [
    "!curl  http://localhost:3000/db"
   ]
  },
  {
   "cell_type": "markdown",
   "metadata": {},
   "source": [
    "## HTTP Methods"
   ]
  },
  {
   "cell_type": "markdown",
   "metadata": {},
   "source": [
    "### GET - query"
   ]
  },
  {
   "cell_type": "code",
   "execution_count": 55,
   "metadata": {
    "scrolled": true
   },
   "outputs": [
    {
     "name": "stdout",
     "output_type": "stream",
     "text": [
      "[\n",
      "  {\n",
      "    \"id\": 1,\n",
      "    \"title\": \"json-server\",\n",
      "    \"author\": \"typicode\"\n",
      "  },\n",
      "  {\n",
      "    \"id\": 2,\n",
      "    \"title\": \"Selenium\",\n",
      "    \"author\": \"webman\"\n",
      "  },\n",
      "  {\n",
      "    \"id\": 3,\n",
      "    \"title\": \"Docker\",\n",
      "    \"author\": \"shipper\"\n",
      "  },\n",
      "  {\n",
      "    \"id\": \"21\",\n",
      "    \"title\": \"learn REST\",\n",
      "    \"author\": \"wen\"\n",
      "  }\n",
      "]\n"
     ]
    },
    {
     "name": "stderr",
     "output_type": "stream",
     "text": [
      "  % Total    % Received % Xferd  Average Speed   Time    Time     Time  Current\n",
      "                                 Dload  Upload   Total   Spent    Left  Speed\n",
      "\n",
      "  0     0    0     0    0     0      0      0 --:--:-- --:--:-- --:--:--     0\n",
      "100   288  100   288    0     0   1225      0 --:--:-- --:--:-- --:--:--  1225\n"
     ]
    }
   ],
   "source": [
    "!curl  http://localhost:3000/posts"
   ]
  },
  {
   "cell_type": "markdown",
   "metadata": {},
   "source": [
    "### POST - add new"
   ]
  },
  {
   "cell_type": "code",
   "execution_count": 49,
   "metadata": {
    "scrolled": true
   },
   "outputs": [
    {
     "name": "stdout",
     "output_type": "stream",
     "text": [
      "{\n",
      "  \"id\": \"21\",\n",
      "  \"title\": \"learn JSON\",\n",
      "  \"author\": \"gong\"\n",
      "}\n"
     ]
    },
    {
     "name": "stderr",
     "output_type": "stream",
     "text": [
      "  % Total    % Received % Xferd  Average Speed   Time    Time     Time  Current\n",
      "                                 Dload  Upload   Total   Spent    Left  Speed\n",
      "\n",
      "  0     0    0     0    0     0      0      0 --:--:-- --:--:-- --:--:--     0\n",
      "100    95  100    61  100    34    244    136 --:--:-- --:--:-- --:--:--   380\n"
     ]
    }
   ],
   "source": [
    "! curl -X POST -d \"id=21&title=learn JSON&author=gong\"  http://localhost:3000/posts/ "
   ]
  },
  {
   "cell_type": "code",
   "execution_count": 10,
   "metadata": {
    "scrolled": true
   },
   "outputs": [
    {
     "name": "stdout",
     "output_type": "stream",
     "text": [
      "{\n",
      "  \"id\": \"5\",\n",
      "  \"title\": \"learn Docker Compose\",\n",
      "  \"author\": \"Mei\"\n",
      "}\n"
     ]
    },
    {
     "name": "stderr",
     "output_type": "stream",
     "text": [
      "  % Total    % Received % Xferd  Average Speed   Time    Time     Time  Current\n",
      "                                 Dload  Upload   Total   Spent    Left  Speed\n",
      "\n",
      "  0     0    0     0    0     0      0      0 --:--:-- --:--:-- --:--:--     0\n",
      "  0     0    0     0    0     0      0      0 --:--:-- --:--:-- --:--:--     0\n",
      "100   111  100    69  100    42    294    179 --:--:-- --:--:-- --:--:--   474\n"
     ]
    }
   ],
   "source": [
    "! curl -X POST -d \"id=5&title=learn Docker Compose&author=Mei\"  http://localhost:3000/posts/ "
   ]
  },
  {
   "cell_type": "code",
   "execution_count": 14,
   "metadata": {
    "scrolled": true
   },
   "outputs": [
    {
     "name": "stdout",
     "output_type": "stream",
     "text": [
      "{\n",
      "  \"id\": \"2\",\n",
      "  \"title\": \"Play with Jenkins\",\n",
      "  \"author\": \"oracle\"\n",
      "}\n"
     ]
    },
    {
     "name": "stderr",
     "output_type": "stream",
     "text": [
      "  % Total    % Received % Xferd  Average Speed   Time    Time     Time  Current\n",
      "                                 Dload  Upload   Total   Spent    Left  Speed\n",
      "\n",
      "  0     0    0     0    0     0      0      0 --:--:-- --:--:-- --:--:--     0\n",
      "100   111  100    69  100    42    315    191 --:--:-- --:--:-- --:--:--   506\n"
     ]
    }
   ],
   "source": [
    "! curl -X POST -d \"id=2&title=Play with Jenkins&author=oracle\"  http://localhost:3000/posts/ "
   ]
  },
  {
   "cell_type": "markdown",
   "metadata": {},
   "source": [
    "NOTE: JSON-server does not know how to parse JSON string"
   ]
  },
  {
   "cell_type": "code",
   "execution_count": 68,
   "metadata": {},
   "outputs": [
    {
     "name": "stdout",
     "output_type": "stream",
     "text": [
      "HTTP/1.1 400 Bad Request\n",
      "X-Powered-By: Express\n",
      "Vary: Origin, Accept-Encoding\n",
      "Access-Control-Allow-Credentials: true\n",
      "Cache-Control: no-cache\n",
      "Pragma: no-cache\n",
      "Expires: -1\n",
      "Content-Security-Policy: default-src 'self'\n",
      "X-Content-Type-Options: nosniff\n",
      "Content-Type: text/html; charset=utf-8\n",
      "Content-Length: 1256\n",
      "Date: Sun, 18 Nov 2018 15:19:25 GMT\n",
      "Connection: keep-alive\n",
      "\n",
      "<!DOCTYPE html>\n",
      "<html lang=\"en\">\n",
      "<head>\n",
      "<meta charset=\"utf-8\">\n",
      "<title>Error</title>\n",
      "</head>\n",
      "<body>\n",
      "<pre>SyntaxError: Unexpected token &#39; in JSON at position 0<br> &nbsp; &nbsp;at JSON.parse (&lt;anonymous&gt;)<br> &nbsp; &nbsp;at createStrictSyntaxError (C:\\Users\\WGONG\\AppData\\Roaming\\npm\\node_modules\\json-server\\node_modules\\body-parser\\lib\\types\\json.js:158:10)<br> &nbsp; &nbsp;at parse (C:\\Users\\WGONG\\AppData\\Roaming\\npm\\node_modules\\json-server\\node_modules\\body-parser\\lib\\types\\json.js:83:15)<br> &nbsp; &nbsp;at C:\\Users\\WGONG\\AppData\\Roaming\\npm\\node_modules\\json-server\\node_modules\\body-parser\\lib\\read.js:121:18<br> &nbsp; &nbsp;at invokeCallback (C:\\Users\\WGONG\\AppData\\Roaming\\npm\\node_modules\\json-server\\node_modules\\raw-body\\index.js:224:16)<br> &nbsp; &nbsp;at done (C:\\Users\\WGONG\\AppData\\Roaming\\npm\\node_modules\\json-server\\node_modules\\raw-body\\index.js:213:7)<br> &nbsp; &nbsp;at IncomingMessage.onEnd (C:\\Users\\WGONG\\AppData\\Roaming\\npm\\node_modules\\json-server\\node_modules\\raw-body\\index.js:273:7)<br> &nbsp; &nbsp;at IncomingMessage.emit (events.js:182:13)<br> &nbsp; &nbsp;at endReadableNT (_stream_readable.js:1094:12)<br> &nbsp; &nbsp;at process._tickCallback (internal/process/next_tick.js:63:19)</pre>\n",
      "</body>\n",
      "</html>\n"
     ]
    },
    {
     "name": "stderr",
     "output_type": "stream",
     "text": [
      "  % Total    % Received % Xferd  Average Speed   Time    Time     Time  Current\n",
      "                                 Dload  Upload   Total   Spent    Left  Speed\n",
      "\n",
      "  0     0    0     0    0     0      0      0 --:--:-- --:--:-- --:--:--     0\n",
      "100  1261  100  1256  100     5   5735     22 --:--:-- --:--:-- --:--:--  5757\n",
      "curl: (6) Could not resolve host: 6,\n",
      "\n",
      "  0     0    0     0    0     0      0      0 --:--:-- --:--:-- --:--:--     0\n",
      "  0     0    0     0    0     0      0      0 --:--:--  0:00:01 --:--:--     0curl: (6) Could not resolve host: title\n",
      "curl: (3) Host name 'learn Jenkins,' contains bad letter\n",
      "\n",
      "  0     0    0     0    0     0      0      0 --:--:-- --:--:-- --:--:--     0\n",
      "  0     0    0     0    0     0      0      0 --:--:-- --:--:-- --:--:--     0\n",
      "  0     0    0     0    0     0      0      0 --:--:--  0:00:01 --:--:--     0curl: (6) Could not resolve host: author\n",
      "curl: (3) [globbing] unmatched close brace/bracket in column 5\n"
     ]
    }
   ],
   "source": [
    "! curl -i -X POST  http://localhost:3000/posts/ -d '{\"id\": 6, \"title\": \"learn Jenkins\", \"author\": \"gong\"}'  --header \"Content-Type: application/json\""
   ]
  },
  {
   "cell_type": "markdown",
   "metadata": {},
   "source": [
    "### PUT - update (whole node)"
   ]
  },
  {
   "cell_type": "code",
   "execution_count": 53,
   "metadata": {},
   "outputs": [
    {
     "name": "stdout",
     "output_type": "stream",
     "text": [
      "{\n",
      "  \"id\": \"21\",\n",
      "  \"title\": \"learn REST\",\n",
      "  \"author\": \"wen\"\n",
      "}\n"
     ]
    },
    {
     "name": "stderr",
     "output_type": "stream",
     "text": [
      "  % Total    % Received % Xferd  Average Speed   Time    Time     Time  Current\n",
      "                                 Dload  Upload   Total   Spent    Left  Speed\n",
      "\n",
      "  0     0    0     0    0     0      0      0 --:--:-- --:--:-- --:--:--     0\n",
      "100    93  100    60  100    33    273    150 --:--:-- --:--:-- --:--:--   424\n"
     ]
    }
   ],
   "source": [
    "!curl -X PUT -d \"id=21&title=learn REST&author=wen\" http://localhost:3000/posts/21"
   ]
  },
  {
   "cell_type": "code",
   "execution_count": 57,
   "metadata": {},
   "outputs": [
    {
     "name": "stdout",
     "output_type": "stream",
     "text": [
      "HTTP/1.1 200 OK\n",
      "X-Powered-By: Express\n",
      "Vary: Origin, Accept-Encoding\n",
      "Access-Control-Allow-Credentials: true\n",
      "Cache-Control: no-cache\n",
      "Pragma: no-cache\n",
      "Expires: -1\n",
      "X-Content-Type-Options: nosniff\n",
      "Content-Type: application/json; charset=utf-8\n",
      "Content-Length: 66\n",
      "ETag: W/\"42-DXEmJECca3s8x/ZMhMh7kPDhLsI\"\n",
      "Date: Sun, 18 Nov 2018 14:57:23 GMT\n",
      "Connection: keep-alive\n",
      "\n",
      "{\n",
      "  \"title\": \"learn Ansible\",\n",
      "  \"author\": \"albert\",\n",
      "  \"id\": \"21\"\n",
      "}\n"
     ]
    },
    {
     "name": "stderr",
     "output_type": "stream",
     "text": [
      "  % Total    % Received % Xferd  Average Speed   Time    Time     Time  Current\n",
      "                                 Dload  Upload   Total   Spent    Left  Speed\n",
      "\n",
      "  0     0    0     0    0     0      0      0 --:--:-- --:--:-- --:--:--     0\n",
      "100    99  100    66  100    33    282    141 --:--:-- --:--:-- --:--:--   423\n"
     ]
    }
   ],
   "source": [
    "!curl -i -X PUT -d \"title=learn Ansible&author=albert\" http://localhost:3000/posts/21"
   ]
  },
  {
   "cell_type": "code",
   "execution_count": 58,
   "metadata": {},
   "outputs": [
    {
     "name": "stdout",
     "output_type": "stream",
     "text": [
      "{\n",
      "  \"title\": \"learn Ansible\",\n",
      "  \"author\": \"albert\",\n",
      "  \"id\": \"21\"\n",
      "}\n"
     ]
    },
    {
     "name": "stderr",
     "output_type": "stream",
     "text": [
      "  % Total    % Received % Xferd  Average Speed   Time    Time     Time  Current\n",
      "                                 Dload  Upload   Total   Spent    Left  Speed\n",
      "\n",
      "  0     0    0     0    0     0      0      0 --:--:-- --:--:-- --:--:--     0\n",
      "  0     0    0     0    0     0      0      0 --:--:-- --:--:-- --:--:--     0\n",
      "100    66  100    66    0     0    302      0 --:--:-- --:--:-- --:--:--   302\n"
     ]
    }
   ],
   "source": [
    "!curl  http://localhost:3000/posts/21"
   ]
  },
  {
   "cell_type": "markdown",
   "metadata": {},
   "source": [
    "### PATCH (partial update)"
   ]
  },
  {
   "cell_type": "code",
   "execution_count": 1,
   "metadata": {},
   "outputs": [
    {
     "name": "stdout",
     "output_type": "stream",
     "text": [
      "HTTP/1.1 200 OK\n",
      "X-Powered-By: Express\n",
      "Vary: Origin, Accept-Encoding\n",
      "Access-Control-Allow-Credentials: true\n",
      "Cache-Control: no-cache\n",
      "Pragma: no-cache\n",
      "Expires: -1\n",
      "X-Content-Type-Options: nosniff\n",
      "Content-Type: application/json; charset=utf-8\n",
      "Content-Length: 69\n",
      "ETag: W/\"45-QTjOxv2HU/ysRWCKeKoRkFs2otI\"\n",
      "Date: Sun, 18 Nov 2018 17:55:31 GMT\n",
      "Connection: keep-alive\n",
      "\n",
      "{\n",
      "  \"title\": \"learn Ansible\",\n",
      "  \"author\": \"annabella\",\n",
      "  \"id\": \"21\"\n",
      "}\n"
     ]
    },
    {
     "name": "stderr",
     "output_type": "stream",
     "text": [
      "  % Total    % Received % Xferd  Average Speed   Time    Time     Time  Current\n",
      "                                 Dload  Upload   Total   Spent    Left  Speed\n",
      "\n",
      "  0     0    0     0    0     0      0      0 --:--:-- --:--:-- --:--:--     0\n",
      "100    85  100    69  100    16    294     68 --:--:-- --:--:-- --:--:--   363\n"
     ]
    }
   ],
   "source": [
    "!curl -i -X PATCH -d \"author=annabella\" http://localhost:3000/posts/21"
   ]
  },
  {
   "cell_type": "markdown",
   "metadata": {},
   "source": [
    "### DELETE"
   ]
  },
  {
   "cell_type": "code",
   "execution_count": 71,
   "metadata": {},
   "outputs": [
    {
     "name": "stdout",
     "output_type": "stream",
     "text": [
      "[\n",
      "  {\n",
      "    \"id\": 1,\n",
      "    \"title\": \"json-server\",\n",
      "    \"author\": \"typicode\"\n",
      "  },\n",
      "  {\n",
      "    \"id\": 3,\n",
      "    \"title\": \"Docker\",\n",
      "    \"author\": \"shipper\"\n",
      "  },\n",
      "  {\n",
      "    \"title\": \"learn Ansible\",\n",
      "    \"author\": \"albert\",\n",
      "    \"id\": \"21\"\n",
      "  },\n",
      "  {\n",
      "    \"id\": 4,\n",
      "    \"title\": \"apache-server\",\n",
      "    \"author\": \"apache\"\n",
      "  }\n",
      "]\n"
     ]
    },
    {
     "name": "stderr",
     "output_type": "stream",
     "text": [
      "  % Total    % Received % Xferd  Average Speed   Time    Time     Time  Current\n",
      "                                 Dload  Upload   Total   Spent    Left  Speed\n",
      "\n",
      "  0     0    0     0    0     0      0      0 --:--:-- --:--:-- --:--:--     0\n",
      "100   299  100   299    0     0   1277      0 --:--:-- --:--:-- --:--:--  1277\n"
     ]
    }
   ],
   "source": [
    "!curl http://localhost:3000/posts"
   ]
  },
  {
   "cell_type": "code",
   "execution_count": 70,
   "metadata": {},
   "outputs": [
    {
     "name": "stdout",
     "output_type": "stream",
     "text": [
      "{}\n"
     ]
    },
    {
     "name": "stderr",
     "output_type": "stream",
     "text": [
      "  % Total    % Received % Xferd  Average Speed   Time    Time     Time  Current\n",
      "                                 Dload  Upload   Total   Spent    Left  Speed\n",
      "\n",
      "  0     0    0     0    0     0      0      0 --:--:-- --:--:-- --:--:--     0\n",
      "100     2  100     2    0     0      9      0 --:--:-- --:--:-- --:--:--     9\n"
     ]
    }
   ],
   "source": [
    "!curl -X DELETE http://localhost:3000/posts/t1FLpvx"
   ]
  },
  {
   "cell_type": "markdown",
   "metadata": {},
   "source": [
    "### work with json file\n",
    "\n",
    "https://stackoverflow.com/questions/18611903/how-to-pass-payload-via-json-file-for-curl"
   ]
  },
  {
   "cell_type": "code",
   "execution_count": 61,
   "metadata": {},
   "outputs": [
    {
     "name": "stdout",
     "output_type": "stream",
     "text": [
      "{\n",
      "    \"id\": 4,\n",
      "    \"title\": \"apache-server\",\n",
      "    \"author\": \"apache\"\n",
      "}\n"
     ]
    }
   ],
   "source": [
    "!cat request1.json"
   ]
  },
  {
   "cell_type": "code",
   "execution_count": 62,
   "metadata": {},
   "outputs": [
    {
     "name": "stdout",
     "output_type": "stream",
     "text": [
      "{\n",
      "  \"id\": 4,\n",
      "  \"title\": \"apache-server\",\n",
      "  \"author\": \"apache\"\n",
      "}\n"
     ]
    },
    {
     "name": "stderr",
     "output_type": "stream",
     "text": [
      "Note: Unnecessary use of -X or --request, POST is already inferred.\n",
      "  % Total    % Received % Xferd  Average Speed   Time    Time     Time  Current\n",
      "                                 Dload  Upload   Total   Spent    Left  Speed\n",
      "\n",
      "  0     0    0     0    0     0      0      0 --:--:-- --:--:-- --:--:--     0*   Trying ::1...\n",
      "* TCP_NODELAY set\n",
      "*   Trying 127.0.0.1...\n",
      "* TCP_NODELAY set\n",
      "* Connected to localhost (127.0.0.1) port 3000 (#0)\n",
      "\n",
      "  0     0    0     0    0     0      0      0 --:--:-- --:--:-- --:--:--     0> POST /posts HTTP/1.1\n",
      "\n",
      "> Host: localhost:3000\n",
      "\n",
      "> User-Agent: curl/7.60.0\n",
      "\n",
      "> Accept: */*\n",
      "\n",
      "> Content-Type: application/json\n",
      "\n",
      "> Content-Length: 65\n",
      "\n",
      "> \n",
      "\n",
      "} [65 bytes data]\n",
      "* upload completely sent off: 65 out of 65 bytes\n",
      "< HTTP/1.1 201 Created\n",
      "\n",
      "< X-Powered-By: Express\n",
      "\n",
      "< Vary: Origin, X-HTTP-Method-Override, Accept-Encoding\n",
      "\n",
      "< Access-Control-Allow-Credentials: true\n",
      "\n",
      "< Cache-Control: no-cache\n",
      "\n",
      "< Pragma: no-cache\n",
      "\n",
      "< Expires: -1\n",
      "\n",
      "< Access-Control-Expose-Headers: Location\n",
      "\n",
      "< Location: http://localhost:3000/posts/4\n",
      "\n",
      "< X-Content-Type-Options: nosniff\n",
      "\n",
      "< Content-Type: application/json; charset=utf-8\n",
      "\n",
      "< Content-Length: 63\n",
      "\n",
      "< ETag: W/\"3f-djA0IQeJe0MNFMZikFGoSll+lcI\"\n",
      "\n",
      "< Date: Sun, 18 Nov 2018 15:07:26 GMT\n",
      "\n",
      "< Connection: keep-alive\n",
      "\n",
      "< \n",
      "\n",
      "{ [63 bytes data]\n",
      "\n",
      "100   128  100    63  100    65    288    298 --:--:-- --:--:-- --:--:--   587\n",
      "* Connection #0 to host localhost left intact\n"
     ]
    }
   ],
   "source": [
    "! curl -vX POST http://localhost:3000/posts -d @request1.json --header \"Content-Type: application/json\""
   ]
  },
  {
   "cell_type": "code",
   "execution_count": 63,
   "metadata": {},
   "outputs": [
    {
     "name": "stdout",
     "output_type": "stream",
     "text": [
      "{\n",
      "  \"id\": 4,\n",
      "  \"title\": \"apache-server\",\n",
      "  \"author\": \"apache\"\n",
      "}\n"
     ]
    },
    {
     "name": "stderr",
     "output_type": "stream",
     "text": [
      "  % Total    % Received % Xferd  Average Speed   Time    Time     Time  Current\n",
      "                                 Dload  Upload   Total   Spent    Left  Speed\n",
      "\n",
      "  0     0    0     0    0     0      0      0 --:--:-- --:--:-- --:--:--     0\n",
      "100    63  100    63    0     0    269      0 --:--:-- --:--:-- --:--:--   269\n"
     ]
    }
   ],
   "source": [
    "!curl -X GET http://localhost:3000/posts/4"
   ]
  },
  {
   "cell_type": "markdown",
   "metadata": {},
   "source": [
    "### SLICE"
   ]
  },
  {
   "cell_type": "code",
   "execution_count": 2,
   "metadata": {},
   "outputs": [
    {
     "name": "stdout",
     "output_type": "stream",
     "text": [
      "[\n",
      "  {\n",
      "    \"id\": 1,\n",
      "    \"title\": \"json-server\",\n",
      "    \"author\": \"typicode\"\n",
      "  },\n",
      "  {\n",
      "    \"id\": 3,\n",
      "    \"title\": \"Docker\",\n",
      "    \"author\": \"shipper\"\n",
      "  },\n",
      "  {\n",
      "    \"title\": \"learn Ansible\",\n",
      "    \"author\": \"annabella\",\n",
      "    \"id\": \"21\"\n",
      "  },\n",
      "  {\n",
      "    \"id\": 4,\n",
      "    \"title\": \"apache-server\",\n",
      "    \"author\": \"apache\"\n",
      "  }\n",
      "]\n"
     ]
    },
    {
     "name": "stderr",
     "output_type": "stream",
     "text": [
      "  % Total    % Received % Xferd  Average Speed   Time    Time     Time  Current\n",
      "                                 Dload  Upload   Total   Spent    Left  Speed\n",
      "\n",
      "  0     0    0     0    0     0      0      0 --:--:-- --:--:-- --:--:--     0\n",
      "  0     0    0     0    0     0      0      0 --:--:-- --:--:-- --:--:--     0\n",
      "100   302  100   302    0     0   1208      0 --:--:-- --:--:-- --:--:--  1208\n"
     ]
    }
   ],
   "source": [
    "!curl -X GET http://localhost:3000/posts"
   ]
  },
  {
   "cell_type": "code",
   "execution_count": 6,
   "metadata": {},
   "outputs": [
    {
     "name": "stdout",
     "output_type": "stream",
     "text": [
      "[\n",
      "  {\n",
      "    \"id\": 1,\n",
      "    \"title\": \"json-server\",\n",
      "    \"author\": \"typicode\"\n",
      "  },\n",
      "  {\n",
      "    \"id\": 3,\n",
      "    \"title\": \"Docker\",\n",
      "    \"author\": \"shipper\"\n",
      "  },\n",
      "  {\n",
      "    \"title\": \"learn Ansible\",\n",
      "    \"author\": \"annabella\",\n",
      "    \"id\": \"21\"\n",
      "  },\n",
      "  {\n",
      "    \"id\": 4,\n",
      "    \"title\": \"apache-server\",\n",
      "    \"author\": \"apache\"\n",
      "  }\n",
      "]\n"
     ]
    },
    {
     "name": "stderr",
     "output_type": "stream",
     "text": [
      "  % Total    % Received % Xferd  Average Speed   Time    Time     Time  Current\n",
      "                                 Dload  Upload   Total   Spent    Left  Speed\n",
      "\n",
      "  0     0    0     0    0     0      0      0 --:--:-- --:--:-- --:--:--     0\n",
      "100   302  100   302    0     0   1378      0 --:--:-- --:--:-- --:--:--  1378\n",
      "'_end' is not recognized as an internal or external command,\n",
      "operable program or batch file.\n"
     ]
    }
   ],
   "source": [
    "!curl http://localhost:3000/posts?_start=1&_end=2"
   ]
  },
  {
   "cell_type": "markdown",
   "metadata": {},
   "source": [
    "### SORT"
   ]
  },
  {
   "cell_type": "code",
   "execution_count": 15,
   "metadata": {},
   "outputs": [
    {
     "name": "stdout",
     "output_type": "stream",
     "text": [
      "[\n",
      "  {\n",
      "    \"id\": 1,\n",
      "    \"title\": \"json-server\",\n",
      "    \"author\": \"typicode\"\n",
      "  },\n",
      "  {\n",
      "    \"id\": \"2\",\n",
      "    \"title\": \"Play with Jenkins\",\n",
      "    \"author\": \"oracle\"\n",
      "  },\n",
      "  {\n",
      "    \"id\": 3,\n",
      "    \"title\": \"Docker\",\n",
      "    \"author\": \"shipper\"\n",
      "  },\n",
      "  {\n",
      "    \"id\": 4,\n",
      "    \"title\": \"apache-server\",\n",
      "    \"author\": \"apache\"\n",
      "  },\n",
      "  {\n",
      "    \"title\": \"learn Ansible\",\n",
      "    \"author\": \"annabella\",\n",
      "    \"id\": \"21\"\n",
      "  },\n",
      "  {\n",
      "    \"id\": \"5\",\n",
      "    \"title\": \"learn Docker Compose\",\n",
      "    \"author\": \"Mei\"\n",
      "  }\n",
      "]\n"
     ]
    },
    {
     "name": "stderr",
     "output_type": "stream",
     "text": [
      "  % Total    % Received % Xferd  Average Speed   Time    Time     Time  Current\n",
      "                                 Dload  Upload   Total   Spent    Left  Speed\n",
      "\n",
      "  0     0    0     0    0     0      0      0 --:--:-- --:--:-- --:--:--     0\n",
      "100   464  100   464    0     0   2128      0 --:--:-- --:--:-- --:--:--  2128\n",
      "'_order' is not recognized as an internal or external command,\n",
      "operable program or batch file.\n"
     ]
    }
   ],
   "source": [
    "!curl http://localhost:3000/posts?_sort=id&_order=DESC"
   ]
  },
  {
   "cell_type": "code",
   "execution_count": 15,
   "metadata": {},
   "outputs": [
    {
     "name": "stdout",
     "output_type": "stream",
     "text": [
      "[\n",
      "  {\n",
      "    \"id\": 1,\n",
      "    \"title\": \"json-server\",\n",
      "    \"author\": \"typicode\"\n",
      "  },\n",
      "  {\n",
      "    \"id\": \"2\",\n",
      "    \"title\": \"Play with Jenkins\",\n",
      "    \"author\": \"oracle\"\n",
      "  },\n",
      "  {\n",
      "    \"id\": 3,\n",
      "    \"title\": \"Docker\",\n",
      "    \"author\": \"shipper\"\n",
      "  },\n",
      "  {\n",
      "    \"id\": 4,\n",
      "    \"title\": \"apache-server\",\n",
      "    \"author\": \"apache\"\n",
      "  },\n",
      "  {\n",
      "    \"title\": \"learn Ansible\",\n",
      "    \"author\": \"annabella\",\n",
      "    \"id\": \"21\"\n",
      "  },\n",
      "  {\n",
      "    \"id\": \"5\",\n",
      "    \"title\": \"learn Docker Compose\",\n",
      "    \"author\": \"Mei\"\n",
      "  }\n",
      "]\n"
     ]
    },
    {
     "name": "stderr",
     "output_type": "stream",
     "text": [
      "  % Total    % Received % Xferd  Average Speed   Time    Time     Time  Current\n",
      "                                 Dload  Upload   Total   Spent    Left  Speed\n",
      "\n",
      "  0     0    0     0    0     0      0      0 --:--:-- --:--:-- --:--:--     0\n",
      "100   464  100   464    0     0   2128      0 --:--:-- --:--:-- --:--:--  2128\n",
      "'_order' is not recognized as an internal or external command,\n",
      "operable program or batch file.\n"
     ]
    }
   ],
   "source": [
    "!curl http://localhost:3000/posts?_sort=id&_order=DESC"
   ]
  },
  {
   "cell_type": "code",
   "execution_count": 18,
   "metadata": {},
   "outputs": [
    {
     "name": "stdout",
     "output_type": "stream",
     "text": [
      "{\n",
      "  \"id\": \"2\",\n",
      "  \"title\": \"Play with Jenkins\",\n",
      "  \"author\": \"oracle\"\n",
      "}\n"
     ]
    },
    {
     "name": "stderr",
     "output_type": "stream",
     "text": [
      "  % Total    % Received % Xferd  Average Speed   Time    Time     Time  Current\n",
      "                                 Dload  Upload   Total   Spent    Left  Speed\n",
      "\n",
      "  0     0    0     0    0     0      0      0 --:--:-- --:--:-- --:--:--     0\n",
      "100    69  100    69    0     0    294      0 --:--:-- --:--:-- --:--:--   294\n"
     ]
    }
   ],
   "source": [
    "!curl http://localhost:3000/posts/2"
   ]
  },
  {
   "cell_type": "markdown",
   "metadata": {},
   "source": [
    "### Search"
   ]
  },
  {
   "cell_type": "code",
   "execution_count": 11,
   "metadata": {},
   "outputs": [
    {
     "name": "stdout",
     "output_type": "stream",
     "text": [
      "[\n",
      "  {\n",
      "    \"id\": 3,\n",
      "    \"title\": \"Docker\",\n",
      "    \"author\": \"shipper\"\n",
      "  },\n",
      "  {\n",
      "    \"id\": \"5\",\n",
      "    \"title\": \"learn Docker Compose\",\n",
      "    \"author\": \"Mei\"\n",
      "  }\n",
      "]\n"
     ]
    },
    {
     "name": "stderr",
     "output_type": "stream",
     "text": [
      "  % Total    % Received % Xferd  Average Speed   Time    Time     Time  Current\n",
      "                                 Dload  Upload   Total   Spent    Left  Speed\n",
      "\n",
      "  0     0    0     0    0     0      0      0 --:--:-- --:--:-- --:--:--     0\n",
      "  0     0    0     0    0     0      0      0 --:--:-- --:--:-- --:--:--     0\n",
      "100   152  100   152    0     0    649      0 --:--:-- --:--:-- --:--:--   649\n"
     ]
    }
   ],
   "source": [
    "!curl http://localhost:3000/posts?q=Docker"
   ]
  },
  {
   "cell_type": "code",
   "execution_count": 12,
   "metadata": {},
   "outputs": [
    {
     "name": "stdout",
     "output_type": "stream",
     "text": [
      "[\n",
      "  {\n",
      "    \"title\": \"learn Ansible\",\n",
      "    \"author\": \"annabella\",\n",
      "    \"id\": \"21\"\n",
      "  },\n",
      "  {\n",
      "    \"id\": \"5\",\n",
      "    \"title\": \"learn Docker Compose\",\n",
      "    \"author\": \"Mei\"\n",
      "  }\n",
      "]\n"
     ]
    },
    {
     "name": "stderr",
     "output_type": "stream",
     "text": [
      "  % Total    % Received % Xferd  Average Speed   Time    Time     Time  Current\n",
      "                                 Dload  Upload   Total   Spent    Left  Speed\n",
      "\n",
      "  0     0    0     0    0     0      0      0 --:--:-- --:--:-- --:--:--     0\n",
      "100   164  100   164    0     0    697      0 --:--:-- --:--:-- --:--:--   697\n"
     ]
    }
   ],
   "source": [
    "!curl http://localhost:3000/posts?q=learn"
   ]
  },
  {
   "cell_type": "code",
   "execution_count": 19,
   "metadata": {},
   "outputs": [
    {
     "name": "stdout",
     "output_type": "stream",
     "text": [
      "[\n",
      "  {\n",
      "    \"title\": \"learn Ansible\",\n",
      "    \"author\": \"annabella\",\n",
      "    \"id\": \"21\"\n",
      "  }\n",
      "]\n"
     ]
    },
    {
     "name": "stderr",
     "output_type": "stream",
     "text": [
      "  % Total    % Received % Xferd  Average Speed   Time    Time     Time  Current\n",
      "                                 Dload  Upload   Total   Spent    Left  Speed\n",
      "\n",
      "  0     0    0     0    0     0      0      0 --:--:-- --:--:-- --:--:--     0\n",
      "100    83  100    83    0     0    354      0 --:--:-- --:--:-- --:--:--   354\n"
     ]
    }
   ],
   "source": [
    "!curl http://localhost:3000/posts?q=21"
   ]
  },
  {
   "cell_type": "code",
   "execution_count": 66,
   "metadata": {},
   "outputs": [
    {
     "name": "stdout",
     "output_type": "stream",
     "text": [
      "[\n",
      "  {\n",
      "    \"id\": 1,\n",
      "    \"body\": \"json-server\",\n",
      "    \"postId\": 1\n",
      "  },\n",
      "  {\n",
      "    \"id\": 2,\n",
      "    \"body\": \"easy to use\",\n",
      "    \"postId\": 1\n",
      "  },\n",
      "  {\n",
      "    \"id\": 4,\n",
      "    \"body\": \"Docker is fun\",\n",
      "    \"postId\": 3\n",
      "  },\n",
      "  {\n",
      "    \"id\": 5,\n",
      "    \"body\": \"Docker great future\",\n",
      "    \"postId\": 3\n",
      "  },\n",
      "  {\n",
      "    \"id\": \"6\",\n",
      "    \"postId\": \"4\",\n",
      "    \"body\": \"Apache is powerful\"\n",
      "  }\n",
      "]\n"
     ]
    },
    {
     "name": "stderr",
     "output_type": "stream",
     "text": [
      "  % Total    % Received % Xferd  Average Speed   Time    Time     Time  Current\n",
      "                                 Dload  Upload   Total   Spent    Left  Speed\n",
      "\n",
      "  0     0    0     0    0     0      0      0 --:--:-- --:--:-- --:--:--     0\n",
      "100   348  100   348    0     0   1487      0 --:--:-- --:--:-- --:--:--  1487\n"
     ]
    }
   ],
   "source": [
    "!curl  http://localhost:3000/comments"
   ]
  },
  {
   "cell_type": "code",
   "execution_count": 65,
   "metadata": {},
   "outputs": [
    {
     "name": "stdout",
     "output_type": "stream",
     "text": [
      "{\n",
      "  \"id\": \"6\",\n",
      "  \"postId\": \"4\",\n",
      "  \"body\": \"Apache is powerful\"\n",
      "}\n"
     ]
    },
    {
     "name": "stderr",
     "output_type": "stream",
     "text": [
      "  % Total    % Received % Xferd  Average Speed   Time    Time     Time  Current\n",
      "                                 Dload  Upload   Total   Spent    Left  Speed\n",
      "\n",
      "  0     0    0     0    0     0      0      0 --:--:-- --:--:-- --:--:--     0\n",
      "100   101  100    64  100    37    292    168 --:--:-- --:--:-- --:--:--   461\n"
     ]
    }
   ],
   "source": [
    "!curl -X POST http://localhost:3000/comments -d \"id=6&postId=4&body=Apache is powerful\""
   ]
  },
  {
   "cell_type": "code",
   "execution_count": 13,
   "metadata": {},
   "outputs": [
    {
     "name": "stdout",
     "output_type": "stream",
     "text": [
      "{\n",
      "  \"name\": \"typicode\"\n",
      "}\n"
     ]
    },
    {
     "name": "stderr",
     "output_type": "stream",
     "text": [
      "  % Total    % Received % Xferd  Average Speed   Time    Time     Time  Current\n",
      "                                 Dload  Upload   Total   Spent    Left  Speed\n",
      "\n",
      "  0     0    0     0    0     0      0      0 --:--:-- --:--:-- --:--:--     0\n",
      "100    24  100    24    0     0     80      0 --:--:-- --:--:-- --:--:--    80\n"
     ]
    }
   ],
   "source": [
    "!curl  http://localhost:3000/profile"
   ]
  },
  {
   "cell_type": "markdown",
   "metadata": {},
   "source": [
    "https://stackoverflow.com/questions/42021113/how-to-use-curl-to-access-the-github-graphql-api]"
   ]
  },
  {
   "cell_type": "markdown",
   "metadata": {},
   "source": [
    "```\n",
    "script='query {\n",
    "  repositoryOwner(login:\\\"danbst\\\") {\n",
    "    repositories(first: 100) {\n",
    "      edges {\n",
    "        node {\n",
    "          nameWithOwner\n",
    "          pullRequests(last: 100, states: OPEN) {\n",
    "            edges {\n",
    "              node {\n",
    "                title\n",
    "                url\n",
    "                author {\n",
    "                  login\n",
    "                }\n",
    "                labels(first: 20) {\n",
    "                  edges {\n",
    "                    node {\n",
    "                      name\n",
    "                    }\n",
    "                  }\n",
    "                }\n",
    "              }\n",
    "            }\n",
    "          }\n",
    "        }\n",
    "      }\n",
    "    }\n",
    "  }\n",
    "}'\n",
    "script=\"$(echo $script)\"\n",
    "\n",
    "curl -i -H 'Content-Type: application/json' \\\n",
    "   -H \"Authorization: bearer .........\" \\\n",
    "   -X POST -d \"{ \\\"query\\\": \\\"$script\\\"}\" https://api.github.com/graphql\n",
    "```"
   ]
  },
  {
   "cell_type": "markdown",
   "metadata": {},
   "source": [
    "http://nmotw.in/json-server/"
   ]
  }
 ],
 "metadata": {
  "kernelspec": {
   "display_name": "Python 3",
   "language": "python",
   "name": "python3"
  },
  "language_info": {
   "codemirror_mode": {
    "name": "ipython",
    "version": 3
   },
   "file_extension": ".py",
   "mimetype": "text/x-python",
   "name": "python",
   "nbconvert_exporter": "python",
   "pygments_lexer": "ipython3",
   "version": "3.6.5"
  }
 },
 "nbformat": 4,
 "nbformat_minor": 2
}
