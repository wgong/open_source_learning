{
 "cells": [
  {
   "cell_type": "code",
   "execution_count": 1,
   "metadata": {},
   "outputs": [
    {
     "name": "stderr",
     "output_type": "stream",
     "text": [
      "C:\\Anaconda3\\lib\\site-packages\\ipykernel_launcher.py:7: DeprecationWarning: use setter for headless property instead of set_headless\n",
      "  import sys\n"
     ]
    }
   ],
   "source": [
    "# https://realpython.com/modern-web-automation-with-python-and-selenium/\n",
    "\n",
    "from selenium import webdriver\n",
    "from selenium.webdriver import Firefox\n",
    "from selenium.webdriver.firefox.options import Options\n",
    "opts = Options()\n",
    "opts.set_headless()\n",
    "assert opts.headless  # Operating in headless mode\n",
    "browser = webdriver.Firefox(options=opts)\n",
    "browser.get('https://duckduckgo.com')\n",
    "\n",
    "search_form = browser.find_element_by_id('search_form_input_homepage')\n",
    "search_form.send_keys('real python')\n",
    "search_form.submit()"
   ]
  },
  {
   "cell_type": "code",
   "execution_count": 2,
   "metadata": {},
   "outputs": [],
   "source": [
    "results = browser.find_elements_by_class_name('result__a')"
   ]
  },
  {
   "cell_type": "code",
   "execution_count": 13,
   "metadata": {},
   "outputs": [
    {
     "data": {
      "text/plain": [
       "11"
      ]
     },
     "execution_count": 13,
     "metadata": {},
     "output_type": "execute_result"
    }
   ],
   "source": [
    "len(results)"
   ]
  },
  {
   "cell_type": "code",
   "execution_count": 4,
   "metadata": {},
   "outputs": [
    {
     "data": {
      "text/plain": [
       "<selenium.webdriver.firefox.webelement.FirefoxWebElement (session=\"2ce9f585-0f7a-4c48-b61c-58072d144b91\", element=\"fb842026-2971-42fe-a9a3-ad6b3bc0f22e\")>"
      ]
     },
     "execution_count": 4,
     "metadata": {},
     "output_type": "execute_result"
    }
   ],
   "source": [
    "results[0]"
   ]
  },
  {
   "cell_type": "code",
   "execution_count": 7,
   "metadata": {},
   "outputs": [
    {
     "data": {
      "text/plain": [
       "selenium.webdriver.firefox.webelement.FirefoxWebElement"
      ]
     },
     "execution_count": 7,
     "metadata": {},
     "output_type": "execute_result"
    }
   ],
   "source": [
    "type(results[0])"
   ]
  },
  {
   "cell_type": "code",
   "execution_count": 14,
   "metadata": {},
   "outputs": [
    {
     "data": {
      "text/plain": [
       "'a'"
      ]
     },
     "execution_count": 14,
     "metadata": {},
     "output_type": "execute_result"
    }
   ],
   "source": [
    "results[0].tag_name "
   ]
  },
  {
   "cell_type": "code",
   "execution_count": 15,
   "metadata": {},
   "outputs": [
    {
     "data": {
      "text/plain": [
       "'<b>Python</b> at Amazon - Buy Books at Amazon.com and Save'"
      ]
     },
     "execution_count": 15,
     "metadata": {},
     "output_type": "execute_result"
    }
   ],
   "source": [
    "results[0].get_attribute('innerHTML')"
   ]
  },
  {
   "cell_type": "code",
   "execution_count": 16,
   "metadata": {},
   "outputs": [
    {
     "data": {
      "text/plain": [
       "'Python at Amazon - Buy Books at Amazon.com and Save'"
      ]
     },
     "execution_count": 16,
     "metadata": {},
     "output_type": "execute_result"
    }
   ],
   "source": [
    "results[0].text"
   ]
  },
  {
   "cell_type": "code",
   "execution_count": 17,
   "metadata": {},
   "outputs": [
    {
     "name": "stdout",
     "output_type": "stream",
     "text": [
      "Python at Amazon - Buy Books at Amazon.com and Save\n",
      "Python Tutorials - Real Python\n",
      "Learn Python Programming Online - Real Python\n",
      "Course Overviews - Real Python\n",
      "Itertools in Python 3, By Example - Real Python\n",
      "Practical Introduction to Web Scraping in Python - Real Python\n",
      "Real Python · GitHub\n",
      "Cool New Features in Python 3.7 - Real Python\n",
      "11 Beginner Tips for Learning Python Programming - Real Python\n",
      "Python's range() Function (Guide) - Real Python\n",
      "\n"
     ]
    }
   ],
   "source": [
    "for e in results:\n",
    "    print(e.text)"
   ]
  },
  {
   "cell_type": "code",
   "execution_count": null,
   "metadata": {},
   "outputs": [],
   "source": []
  },
  {
   "cell_type": "markdown",
   "metadata": {},
   "source": [
    "https://stackoverflow.com/questions/10251525/how-can-i-get-the-current-contents-of-an-element-in-webdriver\n",
    "\n",
    "\n",
    "- use element.get_attribute('value') for input elements \n",
    "- element.text to return the text node of an element"
   ]
  },
  {
   "cell_type": "code",
   "execution_count": 18,
   "metadata": {},
   "outputs": [],
   "source": [
    "driver = webdriver.Firefox()\n",
    "driver.get('http://www.w3c.org')\n",
    "element = driver.find_element_by_name('q')\n",
    "element.send_keys('hi mom')\n",
    "\n",
    "element_text = element.text\n",
    "element_attribute_value = element.get_attribute('value')"
   ]
  },
  {
   "cell_type": "code",
   "execution_count": 20,
   "metadata": {},
   "outputs": [
    {
     "data": {
      "text/plain": [
       "'input'"
      ]
     },
     "execution_count": 20,
     "metadata": {},
     "output_type": "execute_result"
    }
   ],
   "source": [
    "element.tag_name"
   ]
  },
  {
   "cell_type": "code",
   "execution_count": 19,
   "metadata": {},
   "outputs": [
    {
     "name": "stdout",
     "output_type": "stream",
     "text": [
      "<selenium.webdriver.firefox.webelement.FirefoxWebElement (session=\"a75c3a98-0cce-4318-b59b-458020d87721\", element=\"b5a2b7d0-0e1f-42fe-a184-66b26394b75a\")>\n",
      "element.text: \n",
      "element.get_attribute('value'): hi mom\n"
     ]
    }
   ],
   "source": [
    "print('element.text: {0}'.format(element_text))\n",
    "print('element.get_attribute(\\'value\\'): {0}'.format(element_attribute_value))"
   ]
  },
  {
   "cell_type": "code",
   "execution_count": 21,
   "metadata": {},
   "outputs": [
    {
     "name": "stdout",
     "output_type": "stream",
     "text": [
      "p\n",
      "element.text: The CSS Working Group has published Selectors Level 3 as a W3C Recommendation. Selectors are patterns that match against elements in a tree, and as such form one of several technologies that can be used to select nodes in an HTML or XML document. Selectors have been optimized for use with HTML and XML, and are designed to be usable in performance-critical code.\n",
      "element.get_attribute('value'): None\n"
     ]
    }
   ],
   "source": [
    "element = driver.find_element_by_css_selector('.description.expand_description > p')\n",
    "element_text = element.text\n",
    "element_attribute_value = element.get_attribute('value')\n",
    "\n",
    "print (element.tag_name)\n",
    "print ('element.text: {0}'.format(element_text))\n",
    "print ('element.get_attribute(\\'value\\'): {0}'.format(element_attribute_value))"
   ]
  },
  {
   "cell_type": "code",
   "execution_count": 22,
   "metadata": {},
   "outputs": [],
   "source": [
    "everything = driver.execute_script(\n",
    "    'var element = arguments[0];'\n",
    "    'var attributes = {};'\n",
    "    'for (index = 0; index < element.attributes.length; ++index) {'\n",
    "    '    attributes[element.attributes[index].name] = element.attributes[index].value };'\n",
    "    'var properties = [];'\n",
    "    'properties[0] = attributes;'\n",
    "    'var element_text = element.textContent;'\n",
    "    'properties[1] = element_text;'\n",
    "    'var styles = getComputedStyle(element);'\n",
    "    'var computed_styles = {};'\n",
    "    'for (index = 0; index < styles.length; ++index) {'\n",
    "    '    var value_ = styles.getPropertyValue(styles[index]);'\n",
    "    '    computed_styles[styles[index]] = value_ };'\n",
    "    'properties[2] = computed_styles;'\n",
    "    'return properties;', element)"
   ]
  },
  {
   "cell_type": "code",
   "execution_count": 23,
   "metadata": {},
   "outputs": [
    {
     "data": {
      "text/plain": [
       "[{},\n",
       " 'The CSS Working Group has published Selectors Level 3 as a W3C Recommendation. Selectors are patterns that match against elements in a tree, and as such form one of several technologies that can be used to select nodes in an HTML or XML document. Selectors have been optimized for use with HTML and XML, and are designed to be usable in performance-critical code.',\n",
       " {'-moz-appearance': 'none',\n",
       "  '-moz-binding': 'none',\n",
       "  '-moz-box-align': 'stretch',\n",
       "  '-moz-box-direction': 'normal',\n",
       "  '-moz-box-flex': '0',\n",
       "  '-moz-box-ordinal-group': '1',\n",
       "  '-moz-box-orient': 'horizontal',\n",
       "  '-moz-box-pack': 'start',\n",
       "  '-moz-float-edge': 'content-box',\n",
       "  '-moz-force-broken-image-icon': '0',\n",
       "  '-moz-image-region': 'auto',\n",
       "  '-moz-orient': 'inline',\n",
       "  '-moz-outline-radius-bottomleft': '0px',\n",
       "  '-moz-outline-radius-bottomright': '0px',\n",
       "  '-moz-outline-radius-topleft': '0px',\n",
       "  '-moz-outline-radius-topright': '0px',\n",
       "  '-moz-stack-sizing': 'stretch-to-fit',\n",
       "  '-moz-tab-size': '8',\n",
       "  '-moz-text-size-adjust': 'auto',\n",
       "  '-moz-user-focus': 'none',\n",
       "  '-moz-user-input': 'auto',\n",
       "  '-moz-user-modify': 'read-only',\n",
       "  '-moz-user-select': 'auto',\n",
       "  '-moz-window-dragging': 'default',\n",
       "  '-webkit-text-fill-color': 'rgb(51, 51, 51)',\n",
       "  '-webkit-text-stroke-color': 'rgb(51, 51, 51)',\n",
       "  '-webkit-text-stroke-width': '0px',\n",
       "  'align-content': 'normal',\n",
       "  'align-items': 'normal',\n",
       "  'align-self': 'auto',\n",
       "  'animation-delay': '0s',\n",
       "  'animation-direction': 'normal',\n",
       "  'animation-duration': '0s',\n",
       "  'animation-fill-mode': 'none',\n",
       "  'animation-iteration-count': '1',\n",
       "  'animation-name': 'none',\n",
       "  'animation-play-state': 'running',\n",
       "  'animation-timing-function': 'ease',\n",
       "  'backface-visibility': 'visible',\n",
       "  'background-attachment': 'scroll',\n",
       "  'background-blend-mode': 'normal',\n",
       "  'background-clip': 'border-box',\n",
       "  'background-color': 'rgba(0, 0, 0, 0)',\n",
       "  'background-image': 'none',\n",
       "  'background-origin': 'padding-box',\n",
       "  'background-position': '0% 0%',\n",
       "  'background-position-x': '0%',\n",
       "  'background-position-y': '0%',\n",
       "  'background-repeat': 'repeat',\n",
       "  'background-size': 'auto auto',\n",
       "  'block-size': '106.25px',\n",
       "  'border-block-end-color': 'rgb(51, 51, 51)',\n",
       "  'border-block-end-style': 'none',\n",
       "  'border-block-end-width': '0px',\n",
       "  'border-block-start-color': 'rgb(51, 51, 51)',\n",
       "  'border-block-start-style': 'none',\n",
       "  'border-block-start-width': '0px',\n",
       "  'border-bottom-color': 'rgb(51, 51, 51)',\n",
       "  'border-bottom-left-radius': '0px',\n",
       "  'border-bottom-right-radius': '0px',\n",
       "  'border-bottom-style': 'none',\n",
       "  'border-bottom-width': '0px',\n",
       "  'border-collapse': 'separate',\n",
       "  'border-image-outset': '0',\n",
       "  'border-image-repeat': 'stretch stretch',\n",
       "  'border-image-slice': '100%',\n",
       "  'border-image-source': 'none',\n",
       "  'border-image-width': '1',\n",
       "  'border-inline-end-color': 'rgb(51, 51, 51)',\n",
       "  'border-inline-end-style': 'none',\n",
       "  'border-inline-end-width': '0px',\n",
       "  'border-inline-start-color': 'rgb(51, 51, 51)',\n",
       "  'border-inline-start-style': 'none',\n",
       "  'border-inline-start-width': '0px',\n",
       "  'border-left-color': 'rgb(51, 51, 51)',\n",
       "  'border-left-style': 'none',\n",
       "  'border-left-width': '0px',\n",
       "  'border-right-color': 'rgb(51, 51, 51)',\n",
       "  'border-right-style': 'none',\n",
       "  'border-right-width': '0px',\n",
       "  'border-spacing': '0px 0px',\n",
       "  'border-top-color': 'rgb(51, 51, 51)',\n",
       "  'border-top-left-radius': '0px',\n",
       "  'border-top-right-radius': '0px',\n",
       "  'border-top-style': 'none',\n",
       "  'border-top-width': '0px',\n",
       "  'bottom': 'auto',\n",
       "  'box-decoration-break': 'slice',\n",
       "  'box-shadow': 'none',\n",
       "  'box-sizing': 'content-box',\n",
       "  'caption-side': 'top',\n",
       "  'caret-color': 'rgb(51, 51, 51)',\n",
       "  'clear': 'none',\n",
       "  'clip': 'auto',\n",
       "  'clip-path': 'none',\n",
       "  'clip-rule': 'nonzero',\n",
       "  'color': 'rgb(51, 51, 51)',\n",
       "  'color-adjust': 'economy',\n",
       "  'color-interpolation': 'srgb',\n",
       "  'color-interpolation-filters': 'linearrgb',\n",
       "  'column-count': 'auto',\n",
       "  'column-fill': 'balance',\n",
       "  'column-gap': 'normal',\n",
       "  'column-rule-color': 'rgb(51, 51, 51)',\n",
       "  'column-rule-style': 'none',\n",
       "  'column-rule-width': '0px',\n",
       "  'column-width': 'auto',\n",
       "  'content': 'none',\n",
       "  'counter-increment': 'none',\n",
       "  'counter-reset': 'none',\n",
       "  'cursor': 'auto',\n",
       "  'direction': 'ltr',\n",
       "  'display': 'block',\n",
       "  'dominant-baseline': 'auto',\n",
       "  'empty-cells': 'show',\n",
       "  'fill': 'rgb(0, 0, 0)',\n",
       "  'fill-opacity': '1',\n",
       "  'fill-rule': 'nonzero',\n",
       "  'filter': 'none',\n",
       "  'flex-basis': 'auto',\n",
       "  'flex-direction': 'row',\n",
       "  'flex-grow': '0',\n",
       "  'flex-shrink': '1',\n",
       "  'flex-wrap': 'nowrap',\n",
       "  'float': 'none',\n",
       "  'flood-color': 'rgb(0, 0, 0)',\n",
       "  'flood-opacity': '1',\n",
       "  'font-family': '\"\\'Helvetica Neue\\'\", Helvetica, Arial, Verdana, Geneva, sans-serif',\n",
       "  'font-feature-settings': 'normal',\n",
       "  'font-kerning': 'auto',\n",
       "  'font-language-override': 'normal',\n",
       "  'font-optical-sizing': 'auto',\n",
       "  'font-size': '14.1667px',\n",
       "  'font-size-adjust': 'none',\n",
       "  'font-stretch': '100%',\n",
       "  'font-style': 'normal',\n",
       "  'font-synthesis': 'weight style',\n",
       "  'font-variant': 'normal',\n",
       "  'font-variant-alternates': 'normal',\n",
       "  'font-variant-caps': 'normal',\n",
       "  'font-variant-east-asian': 'normal',\n",
       "  'font-variant-ligatures': 'normal',\n",
       "  'font-variant-numeric': 'normal',\n",
       "  'font-variant-position': 'normal',\n",
       "  'font-variation-settings': 'normal',\n",
       "  'font-weight': '400',\n",
       "  'grid-auto-columns': 'auto',\n",
       "  'grid-auto-flow': 'row',\n",
       "  'grid-auto-rows': 'auto',\n",
       "  'grid-column-end': 'auto',\n",
       "  'grid-column-start': 'auto',\n",
       "  'grid-row-end': 'auto',\n",
       "  'grid-row-start': 'auto',\n",
       "  'grid-template-areas': 'none',\n",
       "  'grid-template-columns': 'none',\n",
       "  'grid-template-rows': 'none',\n",
       "  'height': '106.25px',\n",
       "  'hyphens': 'manual',\n",
       "  'image-orientation': 'none',\n",
       "  'image-rendering': 'auto',\n",
       "  'ime-mode': 'auto',\n",
       "  'inline-size': '595.2px',\n",
       "  'inset-block-end': 'auto',\n",
       "  'inset-block-start': 'auto',\n",
       "  'inset-inline-end': 'auto',\n",
       "  'inset-inline-start': 'auto',\n",
       "  'isolation': 'auto',\n",
       "  'justify-content': 'normal',\n",
       "  'justify-items': 'normal',\n",
       "  'justify-self': 'auto',\n",
       "  'left': 'auto',\n",
       "  'letter-spacing': 'normal',\n",
       "  'lighting-color': 'rgb(255, 255, 255)',\n",
       "  'line-height': '21.25px',\n",
       "  'list-style-image': 'none',\n",
       "  'list-style-position': 'outside',\n",
       "  'list-style-type': 'none',\n",
       "  'margin-block-end': '0px',\n",
       "  'margin-block-start': '0px',\n",
       "  'margin-bottom': '0px',\n",
       "  'margin-inline-end': '0px',\n",
       "  'margin-inline-start': '0px',\n",
       "  'margin-left': '0px',\n",
       "  'margin-right': '0px',\n",
       "  'margin-top': '0px',\n",
       "  'marker-end': 'none',\n",
       "  'marker-mid': 'none',\n",
       "  'marker-start': 'none',\n",
       "  'mask': 'none',\n",
       "  'mask-clip': 'border-box',\n",
       "  'mask-composite': 'add',\n",
       "  'mask-image': 'none',\n",
       "  'mask-mode': 'match-source',\n",
       "  'mask-origin': 'border-box',\n",
       "  'mask-position': '0% 0%',\n",
       "  'mask-position-x': '0%',\n",
       "  'mask-position-y': '0%',\n",
       "  'mask-repeat': 'repeat',\n",
       "  'mask-size': 'auto auto',\n",
       "  'mask-type': 'luminance',\n",
       "  'max-block-size': 'none',\n",
       "  'max-height': 'none',\n",
       "  'max-inline-size': 'none',\n",
       "  'max-width': 'none',\n",
       "  'min-block-size': '0px',\n",
       "  'min-height': '0px',\n",
       "  'min-inline-size': '0px',\n",
       "  'min-width': '0px',\n",
       "  'mix-blend-mode': 'normal',\n",
       "  'object-fit': 'fill',\n",
       "  'object-position': '50% 50%',\n",
       "  'opacity': '1',\n",
       "  'order': '0',\n",
       "  'outline-color': 'rgb(51, 51, 51)',\n",
       "  'outline-offset': '0px',\n",
       "  'outline-style': 'none',\n",
       "  'outline-width': '0px',\n",
       "  'overflow': 'visible',\n",
       "  'overflow-wrap': 'normal',\n",
       "  'overflow-x': 'visible',\n",
       "  'overflow-y': 'visible',\n",
       "  'overscroll-behavior-x': 'auto',\n",
       "  'overscroll-behavior-y': 'auto',\n",
       "  'padding-block-end': '0px',\n",
       "  'padding-block-start': '20px',\n",
       "  'padding-bottom': '0px',\n",
       "  'padding-inline-end': '20px',\n",
       "  'padding-inline-start': '20px',\n",
       "  'padding-left': '20px',\n",
       "  'padding-right': '20px',\n",
       "  'padding-top': '20px',\n",
       "  'page-break-after': 'auto',\n",
       "  'page-break-before': 'auto',\n",
       "  'page-break-inside': 'auto',\n",
       "  'paint-order': 'normal',\n",
       "  'perspective': 'none',\n",
       "  'perspective-origin': '317.6px 63.1333px',\n",
       "  'pointer-events': 'auto',\n",
       "  'position': 'static',\n",
       "  'quotes': '\"“\" \"”\" \"‘\" \"’\"',\n",
       "  'resize': 'none',\n",
       "  'right': 'auto',\n",
       "  'row-gap': 'normal',\n",
       "  'ruby-align': 'space-around',\n",
       "  'ruby-position': 'over',\n",
       "  'scroll-behavior': 'auto',\n",
       "  'scroll-snap-coordinate': 'none',\n",
       "  'scroll-snap-destination': '0px 0px',\n",
       "  'scroll-snap-points-x': 'none',\n",
       "  'scroll-snap-points-y': 'none',\n",
       "  'scroll-snap-type-x': 'none',\n",
       "  'scroll-snap-type-y': 'none',\n",
       "  'shape-image-threshold': '0',\n",
       "  'shape-margin': '0px',\n",
       "  'shape-outside': 'none',\n",
       "  'shape-rendering': 'auto',\n",
       "  'stop-color': 'rgb(0, 0, 0)',\n",
       "  'stop-opacity': '1',\n",
       "  'stroke': 'none',\n",
       "  'stroke-dasharray': 'none',\n",
       "  'stroke-dashoffset': '0px',\n",
       "  'stroke-linecap': 'butt',\n",
       "  'stroke-linejoin': 'miter',\n",
       "  'stroke-miterlimit': '4',\n",
       "  'stroke-opacity': '1',\n",
       "  'stroke-width': '1px',\n",
       "  'table-layout': 'auto',\n",
       "  'text-align': 'start',\n",
       "  'text-align-last': 'auto',\n",
       "  'text-anchor': 'start',\n",
       "  'text-combine-upright': 'none',\n",
       "  'text-decoration': 'none',\n",
       "  'text-decoration-color': 'rgb(51, 51, 51)',\n",
       "  'text-decoration-line': 'none',\n",
       "  'text-decoration-style': 'solid',\n",
       "  'text-emphasis-color': 'rgb(51, 51, 51)',\n",
       "  'text-emphasis-position': 'over right',\n",
       "  'text-emphasis-style': 'none',\n",
       "  'text-indent': '0px',\n",
       "  'text-justify': 'auto',\n",
       "  'text-orientation': 'mixed',\n",
       "  'text-overflow': 'clip',\n",
       "  'text-rendering': 'auto',\n",
       "  'text-shadow': 'none',\n",
       "  'text-transform': 'none',\n",
       "  'top': 'auto',\n",
       "  'touch-action': 'auto',\n",
       "  'transform': 'none',\n",
       "  'transform-box': 'border-box',\n",
       "  'transform-origin': '317.6px 63.1333px',\n",
       "  'transform-style': 'flat',\n",
       "  'transition-delay': '0s',\n",
       "  'transition-duration': '0s',\n",
       "  'transition-property': 'all',\n",
       "  'transition-timing-function': 'ease',\n",
       "  'unicode-bidi': 'isolate',\n",
       "  'vector-effect': 'none',\n",
       "  'vertical-align': 'baseline',\n",
       "  'visibility': 'visible',\n",
       "  'white-space': 'normal',\n",
       "  'width': '595.2px',\n",
       "  'will-change': 'auto',\n",
       "  'word-break': 'normal',\n",
       "  'word-spacing': '0px',\n",
       "  'writing-mode': 'horizontal-tb',\n",
       "  'z-index': 'auto'}]"
      ]
     },
     "execution_count": 23,
     "metadata": {},
     "output_type": "execute_result"
    }
   ],
   "source": [
    "everything"
   ]
  },
  {
   "cell_type": "code",
   "execution_count": null,
   "metadata": {},
   "outputs": [],
   "source": [
    "driver.quit()"
   ]
  }
 ],
 "metadata": {
  "kernelspec": {
   "display_name": "Python 3",
   "language": "python",
   "name": "python3"
  },
  "language_info": {
   "codemirror_mode": {
    "name": "ipython",
    "version": 3
   },
   "file_extension": ".py",
   "mimetype": "text/x-python",
   "name": "python",
   "nbconvert_exporter": "python",
   "pygments_lexer": "ipython3",
   "version": "3.6.5"
  }
 },
 "nbformat": 4,
 "nbformat_minor": 2
}
