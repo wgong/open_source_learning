{
 "cells": [
  {
   "cell_type": "markdown",
   "metadata": {},
   "source": [
    "Source : [Dive Into Python](http://www.diveintopython3.net/xml.html) - Chapter 12 XML by Mark Pilgrim"
   ]
  },
  {
   "cell_type": "markdown",
   "metadata": {},
   "source": [
    "## XML overview"
   ]
  },
  {
   "cell_type": "markdown",
   "metadata": {},
   "source": [
    "**XML** is a generalized way of describing __hierarchical structured data__. \n",
    "\n",
    "An xml document contains one or more **elements**, which are delimited by start and end tags. Elements can be nested to any depth.\n",
    "\n",
    "The first element in every xml document is called the **root** element. An xml document can only have one root element. \n",
    "\n",
    "Elements can have **attributes**, which are name-value pairs. Attributes are listed within the start tag of an element and separated by whitespace. Attribute names can not be repeated within an element. Attribute values must be quoted. You may use either single or double quotes.\n",
    "\n",
    "An element’s attributes form an unordered set of keys and values, like a Python dictionary. \n",
    "\n",
    "Elements can have **text** content.\n",
    "\n",
    "Like Python functions can be declared in different modules, xml elements can be declared in different **namespaces**. Namespaces usually look like URLs.\n",
    "\n",
    "You can also use an xmlns:**prefix** declaration to define a namespace and associate it with a prefix. Then each element in that namespace must be explicitly declared with the prefix.\n",
    "\n",
    "xml documents can contain character **encoding** information on the first line, before the root element."
   ]
  },
  {
   "cell_type": "markdown",
   "metadata": {},
   "source": [
    "## Parsing XML"
   ]
  },
  {
   "cell_type": "code",
   "execution_count": 1,
   "metadata": {
    "collapsed": true
   },
   "outputs": [],
   "source": [
    "#import lxml.etree as etree\n",
    "\n",
    "try:\n",
    "    from lxml import etree as etree\n",
    "except ImportError:\n",
    "    import xml.etree.ElementTree as etree"
   ]
  },
  {
   "cell_type": "code",
   "execution_count": 2,
   "metadata": {
    "collapsed": false
   },
   "outputs": [
    {
     "data": {
      "text/plain": [
       "<Element {http://www.w3.org/2005/Atom}feed at 0x4d26948>"
      ]
     },
     "execution_count": 2,
     "metadata": {},
     "output_type": "execute_result"
    }
   ],
   "source": [
    "tree = etree.parse('feed.xml')\n",
    "root = tree.getroot()\n",
    "root"
   ]
  },
  {
   "cell_type": "markdown",
   "metadata": {},
   "source": [
    "### Elements Are Lists"
   ]
  },
  {
   "cell_type": "code",
   "execution_count": 3,
   "metadata": {
    "collapsed": false
   },
   "outputs": [
    {
     "data": {
      "text/plain": [
       "'{http://www.w3.org/2005/Atom}feed'"
      ]
     },
     "execution_count": 3,
     "metadata": {},
     "output_type": "execute_result"
    }
   ],
   "source": [
    "root.tag"
   ]
  },
  {
   "cell_type": "code",
   "execution_count": 4,
   "metadata": {
    "collapsed": false
   },
   "outputs": [
    {
     "data": {
      "text/plain": [
       "8"
      ]
     },
     "execution_count": 4,
     "metadata": {},
     "output_type": "execute_result"
    }
   ],
   "source": [
    "len(root)"
   ]
  },
  {
   "cell_type": "code",
   "execution_count": 5,
   "metadata": {
    "collapsed": false
   },
   "outputs": [
    {
     "name": "stdout",
     "output_type": "stream",
     "text": [
      "<Element {http://www.w3.org/2005/Atom}title at 0x4cacd08>\n",
      "<Element {http://www.w3.org/2005/Atom}subtitle at 0x4d30688>\n",
      "<Element {http://www.w3.org/2005/Atom}id at 0x4d304c8>\n",
      "<Element {http://www.w3.org/2005/Atom}updated at 0x4cacd08>\n",
      "<Element {http://www.w3.org/2005/Atom}link at 0x4d30688>\n",
      "<Element {http://www.w3.org/2005/Atom}entry at 0x4d304c8>\n",
      "<Element {http://www.w3.org/2005/Atom}entry at 0x4cacd08>\n",
      "<Element {http://www.w3.org/2005/Atom}entry at 0x4d30688>\n"
     ]
    }
   ],
   "source": [
    "for child in root:\n",
    "    print(child)"
   ]
  },
  {
   "cell_type": "markdown",
   "metadata": {},
   "source": [
    "### Attributes Are Dictonaries"
   ]
  },
  {
   "cell_type": "code",
   "execution_count": 6,
   "metadata": {
    "collapsed": false
   },
   "outputs": [
    {
     "data": {
      "text/plain": [
       "{'{http://www.w3.org/XML/1998/namespace}lang': 'en'}"
      ]
     },
     "execution_count": 6,
     "metadata": {},
     "output_type": "execute_result"
    }
   ],
   "source": [
    "root.attrib"
   ]
  },
  {
   "cell_type": "code",
   "execution_count": 7,
   "metadata": {
    "collapsed": false
   },
   "outputs": [
    {
     "data": {
      "text/plain": [
       "{'rel': 'alternate', 'type': 'text/html', 'href': 'http://diveintomark.org/'}"
      ]
     },
     "execution_count": 7,
     "metadata": {},
     "output_type": "execute_result"
    }
   ],
   "source": [
    "c4_att = root[4].attrib\n",
    "c4_att"
   ]
  },
  {
   "cell_type": "code",
   "execution_count": 8,
   "metadata": {
    "collapsed": false
   },
   "outputs": [
    {
     "data": {
      "text/plain": [
       "('alternate', 'http://diveintomark.org/')"
      ]
     },
     "execution_count": 8,
     "metadata": {},
     "output_type": "execute_result"
    }
   ],
   "source": [
    "c4_att['rel'],c4_att['href']"
   ]
  },
  {
   "cell_type": "markdown",
   "metadata": {},
   "source": [
    "### Searching"
   ]
  },
  {
   "cell_type": "code",
   "execution_count": 9,
   "metadata": {
    "collapsed": false
   },
   "outputs": [
    {
     "data": {
      "text/plain": [
       "<Element {http://www.w3.org/2005/Atom}entry at 0x4d38108>"
      ]
     },
     "execution_count": 9,
     "metadata": {},
     "output_type": "execute_result"
    }
   ],
   "source": [
    "# find 1st matching entry\n",
    "tree.find('//{http://www.w3.org/2005/Atom}entry')"
   ]
  },
  {
   "cell_type": "code",
   "execution_count": 10,
   "metadata": {
    "collapsed": false
   },
   "outputs": [
    {
     "data": {
      "text/plain": [
       "[<Element {http://www.w3.org/2005/Atom}entry at 0x4d38108>,\n",
       " <Element {http://www.w3.org/2005/Atom}entry at 0x4d38288>,\n",
       " <Element {http://www.w3.org/2005/Atom}entry at 0x4d30688>]"
      ]
     },
     "execution_count": 10,
     "metadata": {},
     "output_type": "execute_result"
    }
   ],
   "source": [
    "# find all entry elements\n",
    "tree.findall('//{http://www.w3.org/2005/Atom}entry')"
   ]
  },
  {
   "cell_type": "code",
   "execution_count": 11,
   "metadata": {
    "collapsed": false
   },
   "outputs": [
    {
     "data": {
      "text/plain": [
       "[<Element {http://www.w3.org/2005/Atom}category at 0x4d381c8>,\n",
       " <Element {http://www.w3.org/2005/Atom}category at 0x4d38408>,\n",
       " <Element {http://www.w3.org/2005/Atom}category at 0x4d38488>,\n",
       " <Element {http://www.w3.org/2005/Atom}category at 0x4d38448>,\n",
       " <Element {http://www.w3.org/2005/Atom}category at 0x4d38608>,\n",
       " <Element {http://www.w3.org/2005/Atom}category at 0x4d38648>,\n",
       " <Element {http://www.w3.org/2005/Atom}category at 0x4d38688>,\n",
       " <Element {http://www.w3.org/2005/Atom}category at 0x4d386c8>,\n",
       " <Element {http://www.w3.org/2005/Atom}category at 0x4d38708>,\n",
       " <Element {http://www.w3.org/2005/Atom}category at 0x4d38748>,\n",
       " <Element {http://www.w3.org/2005/Atom}category at 0x4d38788>,\n",
       " <Element {http://www.w3.org/2005/Atom}category at 0x4d387c8>]"
      ]
     },
     "execution_count": 11,
     "metadata": {},
     "output_type": "execute_result"
    }
   ],
   "source": [
    "# find all category elements\n",
    "tree.findall('//{http://www.w3.org/2005/Atom}category')"
   ]
  },
  {
   "cell_type": "code",
   "execution_count": 12,
   "metadata": {
    "collapsed": false
   },
   "outputs": [
    {
     "data": {
      "text/plain": [
       "[<Element {http://www.w3.org/2005/Atom}category at 0x4d38748>]"
      ]
     },
     "execution_count": 12,
     "metadata": {},
     "output_type": "execute_result"
    }
   ],
   "source": [
    "# find all category element with attribute term=\"mp4\"\n",
    "tree.findall('//{http://www.w3.org/2005/Atom}category[@term=\"mp4\"]')"
   ]
  },
  {
   "cell_type": "code",
   "execution_count": 13,
   "metadata": {
    "collapsed": false
   },
   "outputs": [
    {
     "name": "stdout",
     "output_type": "stream",
     "text": [
      "http://diveintomark.org/\n",
      "http://diveintomark.org/archives/2009/03/27/dive-into-history-2009-edition\n",
      "http://diveintomark.org/archives/2009/03/21/accessibility-is-a-harsh-mistress\n",
      "http://diveintomark.org/archives/2008/12/18/give-part-1-container-formats\n"
     ]
    }
   ],
   "source": [
    "# find all elements with href attribute\n",
    "href_nodes = tree.findall('//{http://www.w3.org/2005/Atom}*[@href]')\n",
    "for e in href_nodes:\n",
    "    print(e.attrib['href'])   # get link url"
   ]
  },
  {
   "cell_type": "code",
   "execution_count": 14,
   "metadata": {
    "collapsed": false
   },
   "outputs": [
    {
     "data": {
      "text/plain": [
       "'{http://www.w3.org/2005/Atom}entry'"
      ]
     },
     "execution_count": 14,
     "metadata": {},
     "output_type": "execute_result"
    }
   ],
   "source": [
    "# advanced search with XPath\n",
    "NSMAP = {'atom': 'http://www.w3.org/2005/Atom'}\n",
    "entries = tree.xpath(\"//atom:category[@term='accessibility']/..\", namespaces=NSMAP)\n",
    "entries[0].tag"
   ]
  },
  {
   "cell_type": "code",
   "execution_count": 15,
   "metadata": {
    "collapsed": false
   },
   "outputs": [
    {
     "data": {
      "text/plain": [
       "['Accessibility is a harsh mistress']"
      ]
     },
     "execution_count": 15,
     "metadata": {},
     "output_type": "execute_result"
    }
   ],
   "source": [
    "title = entries[0].xpath('./atom:title/text()', namespaces=NSMAP)\n",
    "title"
   ]
  },
  {
   "cell_type": "markdown",
   "metadata": {},
   "source": [
    "### Generating XML"
   ]
  },
  {
   "cell_type": "code",
   "execution_count": 16,
   "metadata": {
    "collapsed": false
   },
   "outputs": [
    {
     "name": "stdout",
     "output_type": "stream",
     "text": [
      "b'<ns0:feed xmlns:ns0=\"http://www.w3.org/2005/Atom\" xml:lang=\"en\"/>'\n"
     ]
    }
   ],
   "source": [
    "new_feed = etree.Element('{http://www.w3.org/2005/Atom}feed',     \n",
    "    attrib={'{http://www.w3.org/XML/1998/namespace}lang': 'en'}) \n",
    "print(etree.tostring(new_feed))"
   ]
  },
  {
   "cell_type": "code",
   "execution_count": 17,
   "metadata": {
    "collapsed": false
   },
   "outputs": [
    {
     "name": "stdout",
     "output_type": "stream",
     "text": [
      "<ns0:feed xmlns:ns0=\"http://www.w3.org/2005/Atom\" xml:lang=\"en\"><title type=\"html\"/></ns0:feed>\n"
     ]
    }
   ],
   "source": [
    "# add more element/text\n",
    "title = etree.SubElement(new_feed, 'title', attrib={'type':'html'})\n",
    "print(etree.tounicode(new_feed))"
   ]
  },
  {
   "cell_type": "code",
   "execution_count": 18,
   "metadata": {
    "collapsed": false
   },
   "outputs": [
    {
     "name": "stdout",
     "output_type": "stream",
     "text": [
      "<ns0:feed xmlns:ns0=\"http://www.w3.org/2005/Atom\" xml:lang=\"en\"><title type=\"html\">Dive into Python!</title></ns0:feed>\n"
     ]
    }
   ],
   "source": [
    "title.text = 'Dive into Python!'\n",
    "print(etree.tounicode(new_feed))"
   ]
  },
  {
   "cell_type": "code",
   "execution_count": 19,
   "metadata": {
    "collapsed": false
   },
   "outputs": [
    {
     "name": "stdout",
     "output_type": "stream",
     "text": [
      "<ns0:feed xmlns:ns0=\"http://www.w3.org/2005/Atom\" xml:lang=\"en\">\n",
      "  <title type=\"html\">Dive into Python!</title>\n",
      "</ns0:feed>\n",
      "\n"
     ]
    }
   ],
   "source": [
    "# pretty print XML\n",
    "print(etree.tounicode(new_feed, pretty_print=True))"
   ]
  },
  {
   "cell_type": "markdown",
   "metadata": {},
   "source": [
    "You might also want to check out [xmlwitch](http://github.com/galvez/xmlwitch/tree/master),  \n",
    "another third-party library for generating xml. It makes extensive use of the with statement to make xml generation code more readable."
   ]
  },
  {
   "cell_type": "markdown",
   "metadata": {},
   "source": [
    "###  Further Reading\n",
    "\n",
    "* lxml \n",
    "    - Tutorial:  http://lxml.de/tutorial.html\n",
    "    - API: http://lxml.de/api/index.html\n",
    "\n",
    "* xml on Wikipedia.org  http://en.wikipedia.org/wiki/XML\n",
    "\n",
    "* The ElementTree xml API  http://docs.python.org/3.1/library/xml.etree.elementtree.html\n",
    "\n",
    "* Elements and Element Trees  http://effbot.org/zone/element.htm\n",
    "\n",
    "* XPath Support in ElementTree  http://effbot.org/zone/element-xpath.htm\n",
    "\n",
    "* The ElementTree iterparse Function  http://effbot.org/zone/element-iterparse.htm\n",
    "\n",
    "* Parsing xml and html with lxml  http://codespeak.net/lxml/1.3/parsing.html\n",
    "\n",
    "* XPath and xslt with lxml  http://codespeak.net/lxml/1.3/xpathxslt.html\n",
    "\n",
    "* xmlwitch  http://github.com/galvez/xmlwitch/tree/master"
   ]
  },
  {
   "cell_type": "code",
   "execution_count": null,
   "metadata": {
    "collapsed": true
   },
   "outputs": [],
   "source": []
  },
  {
   "cell_type": "code",
   "execution_count": null,
   "metadata": {
    "collapsed": true
   },
   "outputs": [],
   "source": []
  }
 ],
 "metadata": {
  "anaconda-cloud": {},
  "kernelspec": {
   "display_name": "Python [default]",
   "language": "python",
   "name": "python3"
  },
  "language_info": {
   "codemirror_mode": {
    "name": "ipython",
    "version": 3
   },
   "file_extension": ".py",
   "mimetype": "text/x-python",
   "name": "python",
   "nbconvert_exporter": "python",
   "pygments_lexer": "ipython3",
   "version": "3.5.2"
  }
 },
 "nbformat": 4,
 "nbformat_minor": 1
}
