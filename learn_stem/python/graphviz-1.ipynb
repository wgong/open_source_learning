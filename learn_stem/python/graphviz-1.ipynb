{
 "cells": [
  {
   "cell_type": "markdown",
   "metadata": {},
   "source": [
    "# Getting started with Graphviz \n",
    "\n",
    "This notebook is based on http://matthiaseisen.com/articles/graphviz/"
   ]
  },
  {
   "cell_type": "markdown",
   "metadata": {},
   "source": [
    "## Install\n",
    "\n",
    "Download window version at http://www.graphviz.org/Download_windows.php\n",
    "\n",
    "Install at C:\\Pr0gram\\Graphviz2.38 \n",
    "docs are found at subfolder = share\\graphviz\n",
    "\n",
    "add dot.exe to PATH\n",
    "\n",
    "test install:\n",
    "   > dot -v\n",
    "\n",
    "install python package:\n",
    "   > pip install graphviz"
   ]
  },
  {
   "cell_type": "markdown",
   "metadata": {},
   "source": [
    "## Reference\n",
    "\n",
    "* [Graphviz Homepage](http://www.graphviz.org/Home.php)\n",
    "* [Explore Gallery](http://www.graphviz.org/Gallery.php)\n",
    "  - [large network](http://yifanhu.net/GALLERY/GRAPHS/index.html)\n",
    "* [Graphviz and the Dot language](http://www.graphviz.org/pdf/dotguide.pdf)\n",
    "* [graphviz python pkg](http://graphviz.readthedocs.io/en/stable/manual.html)"
   ]
  },
  {
   "cell_type": "code",
   "execution_count": 6,
   "metadata": {
    "collapsed": true
   },
   "outputs": [],
   "source": [
    "from IPython.display import HTML,SVG,YouTubeVideo"
   ]
  },
  {
   "cell_type": "code",
   "execution_count": 1,
   "metadata": {
    "collapsed": true
   },
   "outputs": [],
   "source": [
    "import graphviz as gv"
   ]
  },
  {
   "cell_type": "markdown",
   "metadata": {},
   "source": [
    "## Hello Graphviz"
   ]
  },
  {
   "cell_type": "code",
   "execution_count": 2,
   "metadata": {
    "collapsed": true
   },
   "outputs": [],
   "source": [
    "g1 = gv.Graph(format='svg')\n",
    "g1.node('A')\n",
    "g1.node('B')\n",
    "g1.edge('A', 'B')"
   ]
  },
  {
   "cell_type": "code",
   "execution_count": 3,
   "metadata": {
    "collapsed": false
   },
   "outputs": [
    {
     "name": "stdout",
     "output_type": "stream",
     "text": [
      "graph {\n",
      "\tA\n",
      "\tB\n",
      "\t\tA -- B\n",
      "}\n"
     ]
    }
   ],
   "source": [
    "print(g1.source)"
   ]
  },
  {
   "cell_type": "code",
   "execution_count": 4,
   "metadata": {
    "collapsed": false,
    "scrolled": true
   },
   "outputs": [],
   "source": [
    "filename = g1.render(filename='img/g1')"
   ]
  },
  {
   "cell_type": "code",
   "execution_count": 5,
   "metadata": {
    "collapsed": false
   },
   "outputs": [
    {
     "data": {
      "text/plain": [
       "<function dir>"
      ]
     },
     "execution_count": 5,
     "metadata": {},
     "output_type": "execute_result"
    }
   ],
   "source": [
    "dir"
   ]
  },
  {
   "cell_type": "code",
   "execution_count": 7,
   "metadata": {
    "collapsed": false
   },
   "outputs": [
    {
     "data": {
      "text/plain": [
       "'img/g1.svg'"
      ]
     },
     "execution_count": 7,
     "metadata": {},
     "output_type": "execute_result"
    }
   ],
   "source": [
    "filename"
   ]
  },
  {
   "cell_type": "code",
   "execution_count": 8,
   "metadata": {
    "collapsed": false
   },
   "outputs": [
    {
     "data": {
      "image/svg+xml": [
       "<svg height=\"116pt\" viewBox=\"0.00 0.00 62.00 116.00\" width=\"62pt\" xmlns=\"http://www.w3.org/2000/svg\" xmlns:xlink=\"http://www.w3.org/1999/xlink\">\n",
       "<g class=\"graph\" id=\"graph0\" transform=\"scale(1 1) rotate(0) translate(4 112)\">\n",
       "<title>%3</title>\n",
       "<polygon fill=\"white\" points=\"-4,4 -4,-112 58,-112 58,4 -4,4\" stroke=\"none\"/>\n",
       "<!-- A -->\n",
       "<g class=\"node\" id=\"node1\"><title>A</title>\n",
       "<ellipse cx=\"27\" cy=\"-90\" fill=\"none\" rx=\"27\" ry=\"18\" stroke=\"black\"/>\n",
       "<text font-family=\"Times New Roman,serif\" font-size=\"14.00\" text-anchor=\"middle\" x=\"27\" y=\"-86.3\">A</text>\n",
       "</g>\n",
       "<!-- B -->\n",
       "<g class=\"node\" id=\"node2\"><title>B</title>\n",
       "<ellipse cx=\"27\" cy=\"-18\" fill=\"none\" rx=\"27\" ry=\"18\" stroke=\"black\"/>\n",
       "<text font-family=\"Times New Roman,serif\" font-size=\"14.00\" text-anchor=\"middle\" x=\"27\" y=\"-14.3\">B</text>\n",
       "</g>\n",
       "<!-- A&#45;&#45;B -->\n",
       "<g class=\"edge\" id=\"edge1\"><title>A--B</title>\n",
       "<path d=\"M27,-71.6966C27,-60.8463 27,-46.9167 27,-36.1043\" fill=\"none\" stroke=\"black\"/>\n",
       "</g>\n",
       "</g>\n",
       "</svg>"
      ],
      "text/plain": [
       "<IPython.core.display.SVG object>"
      ]
     },
     "execution_count": 8,
     "metadata": {},
     "output_type": "execute_result"
    }
   ],
   "source": [
    "SVG(filename)"
   ]
  },
  {
   "cell_type": "markdown",
   "metadata": {},
   "source": [
    "## Directed Graphs"
   ]
  },
  {
   "cell_type": "code",
   "execution_count": 10,
   "metadata": {
    "collapsed": false
   },
   "outputs": [],
   "source": [
    "g2 = gv.Digraph(format='svg')\n",
    "g2.node('A')\n",
    "g2.node('B')\n",
    "g2.edge('A', 'B')\n",
    "filename = g2.render('img/g2')"
   ]
  },
  {
   "cell_type": "code",
   "execution_count": 11,
   "metadata": {
    "collapsed": false
   },
   "outputs": [
    {
     "data": {
      "image/svg+xml": [
       "<svg height=\"116pt\" viewBox=\"0.00 0.00 62.00 116.00\" width=\"62pt\" xmlns=\"http://www.w3.org/2000/svg\" xmlns:xlink=\"http://www.w3.org/1999/xlink\">\n",
       "<g class=\"graph\" id=\"graph0\" transform=\"scale(1 1) rotate(0) translate(4 112)\">\n",
       "<title>%3</title>\n",
       "<polygon fill=\"white\" points=\"-4,4 -4,-112 58,-112 58,4 -4,4\" stroke=\"none\"/>\n",
       "<!-- A -->\n",
       "<g class=\"node\" id=\"node1\"><title>A</title>\n",
       "<ellipse cx=\"27\" cy=\"-90\" fill=\"none\" rx=\"27\" ry=\"18\" stroke=\"black\"/>\n",
       "<text font-family=\"Times New Roman,serif\" font-size=\"14.00\" text-anchor=\"middle\" x=\"27\" y=\"-86.3\">A</text>\n",
       "</g>\n",
       "<!-- B -->\n",
       "<g class=\"node\" id=\"node2\"><title>B</title>\n",
       "<ellipse cx=\"27\" cy=\"-18\" fill=\"none\" rx=\"27\" ry=\"18\" stroke=\"black\"/>\n",
       "<text font-family=\"Times New Roman,serif\" font-size=\"14.00\" text-anchor=\"middle\" x=\"27\" y=\"-14.3\">B</text>\n",
       "</g>\n",
       "<!-- A&#45;&gt;B -->\n",
       "<g class=\"edge\" id=\"edge1\"><title>A-&gt;B</title>\n",
       "<path d=\"M27,-71.6966C27,-63.9827 27,-54.7125 27,-46.1124\" fill=\"none\" stroke=\"black\"/>\n",
       "<polygon fill=\"black\" points=\"30.5001,-46.1043 27,-36.1043 23.5001,-46.1044 30.5001,-46.1043\" stroke=\"black\"/>\n",
       "</g>\n",
       "</g>\n",
       "</svg>"
      ],
      "text/plain": [
       "<IPython.core.display.SVG object>"
      ]
     },
     "execution_count": 11,
     "metadata": {},
     "output_type": "execute_result"
    }
   ],
   "source": [
    "SVG(filename)"
   ]
  },
  {
   "cell_type": "markdown",
   "metadata": {},
   "source": [
    "## A more concise approach"
   ]
  },
  {
   "cell_type": "code",
   "execution_count": 12,
   "metadata": {
    "collapsed": true
   },
   "outputs": [],
   "source": [
    "import functools\n",
    "graph = functools.partial(gv.Graph, format='svg')\n",
    "digraph = functools.partial(gv.Digraph, format='svg')"
   ]
  },
  {
   "cell_type": "code",
   "execution_count": 13,
   "metadata": {
    "collapsed": true
   },
   "outputs": [],
   "source": [
    "# create graph\n",
    "g3 = graph()\n",
    "\n",
    "# define nodes\n",
    "nodes = ['A', 'B', ('C', {})]\n",
    "\n",
    "# define edeges\n",
    "edges = [\n",
    "    ('A', 'B'),\n",
    "    ('B', 'C'),\n",
    "    (('A', 'C'), {}),\n",
    "]"
   ]
  },
  {
   "cell_type": "code",
   "execution_count": 14,
   "metadata": {
    "collapsed": true
   },
   "outputs": [],
   "source": [
    "def add_nodes(graph, nodes):\n",
    "    for n in nodes:\n",
    "        if isinstance(n, tuple):\n",
    "            graph.node(n[0], **n[1])\n",
    "        else:\n",
    "            graph.node(n)\n",
    "    return graph"
   ]
  },
  {
   "cell_type": "code",
   "execution_count": 15,
   "metadata": {
    "collapsed": true
   },
   "outputs": [],
   "source": [
    "def add_edges(graph, edges):\n",
    "    for e in edges:\n",
    "        if isinstance(e[0], tuple):\n",
    "            graph.edge(*e[0], **e[1])\n",
    "        else:\n",
    "            graph.edge(*e)\n",
    "    return graph"
   ]
  },
  {
   "cell_type": "code",
   "execution_count": 16,
   "metadata": {
    "collapsed": true
   },
   "outputs": [],
   "source": [
    "g3 = add_nodes(g3, nodes)\n",
    "g3 = add_edges(g3, edges)"
   ]
  },
  {
   "cell_type": "code",
   "execution_count": 18,
   "metadata": {
    "collapsed": false
   },
   "outputs": [
    {
     "data": {
      "image/svg+xml": [
       "<svg height=\"188pt\" viewBox=\"0.00 0.00 89.00 188.00\" width=\"89pt\" xmlns=\"http://www.w3.org/2000/svg\" xmlns:xlink=\"http://www.w3.org/1999/xlink\">\n",
       "<g class=\"graph\" id=\"graph0\" transform=\"scale(1 1) rotate(0) translate(4 184)\">\n",
       "<title>%3</title>\n",
       "<polygon fill=\"white\" points=\"-4,4 -4,-184 85,-184 85,4 -4,4\" stroke=\"none\"/>\n",
       "<!-- A -->\n",
       "<g class=\"node\" id=\"node1\"><title>A</title>\n",
       "<ellipse cx=\"54\" cy=\"-162\" fill=\"none\" rx=\"27\" ry=\"18\" stroke=\"black\"/>\n",
       "<text font-family=\"Times New Roman,serif\" font-size=\"14.00\" text-anchor=\"middle\" x=\"54\" y=\"-158.3\">A</text>\n",
       "</g>\n",
       "<!-- B -->\n",
       "<g class=\"node\" id=\"node2\"><title>B</title>\n",
       "<ellipse cx=\"27\" cy=\"-90\" fill=\"none\" rx=\"27\" ry=\"18\" stroke=\"black\"/>\n",
       "<text font-family=\"Times New Roman,serif\" font-size=\"14.00\" text-anchor=\"middle\" x=\"27\" y=\"-86.3\">B</text>\n",
       "</g>\n",
       "<!-- A&#45;&#45;B -->\n",
       "<g class=\"edge\" id=\"edge1\"><title>A--B</title>\n",
       "<path d=\"M47.6014,-144.411C43.3597,-133.414 37.8106,-119.027 33.5403,-107.956\" fill=\"none\" stroke=\"black\"/>\n",
       "</g>\n",
       "<!-- C -->\n",
       "<g class=\"node\" id=\"node3\"><title>C</title>\n",
       "<ellipse cx=\"54\" cy=\"-18\" fill=\"none\" rx=\"27\" ry=\"18\" stroke=\"black\"/>\n",
       "<text font-family=\"Times New Roman,serif\" font-size=\"14.00\" text-anchor=\"middle\" x=\"54\" y=\"-14.3\">C</text>\n",
       "</g>\n",
       "<!-- A&#45;&#45;C -->\n",
       "<g class=\"edge\" id=\"edge3\"><title>A--C</title>\n",
       "<path d=\"M57.6538,-143.908C59.6758,-133.569 61.9808,-120.09 63,-108 64.3441,-92.0566 64.3441,-87.9434 63,-72 61.9808,-59.9098 59.6758,-46.4315 57.6538,-36.0925\" fill=\"none\" stroke=\"black\"/>\n",
       "</g>\n",
       "<!-- B&#45;&#45;C -->\n",
       "<g class=\"edge\" id=\"edge2\"><title>B--C</title>\n",
       "<path d=\"M33.3986,-72.411C37.6403,-61.4141 43.1894,-47.0274 47.4597,-35.9562\" fill=\"none\" stroke=\"black\"/>\n",
       "</g>\n",
       "</g>\n",
       "</svg>"
      ],
      "text/plain": [
       "<IPython.core.display.SVG object>"
      ]
     },
     "execution_count": 18,
     "metadata": {},
     "output_type": "execute_result"
    }
   ],
   "source": [
    "filename3 = g3.render('img/g2')\n",
    "SVG(filename3)"
   ]
  },
  {
   "cell_type": "markdown",
   "metadata": {},
   "source": [
    "### chain"
   ]
  },
  {
   "cell_type": "code",
   "execution_count": 20,
   "metadata": {
    "collapsed": false
   },
   "outputs": [
    {
     "data": {
      "image/svg+xml": [
       "<svg height=\"188pt\" viewBox=\"0.00 0.00 89.00 188.00\" width=\"89pt\" xmlns=\"http://www.w3.org/2000/svg\" xmlns:xlink=\"http://www.w3.org/1999/xlink\">\n",
       "<g class=\"graph\" id=\"graph0\" transform=\"scale(1 1) rotate(0) translate(4 184)\">\n",
       "<title>%3</title>\n",
       "<polygon fill=\"white\" points=\"-4,4 -4,-184 85,-184 85,4 -4,4\" stroke=\"none\"/>\n",
       "<!-- A -->\n",
       "<g class=\"node\" id=\"node1\"><title>A</title>\n",
       "<ellipse cx=\"54\" cy=\"-162\" fill=\"none\" rx=\"27\" ry=\"18\" stroke=\"black\"/>\n",
       "<text font-family=\"Times New Roman,serif\" font-size=\"14.00\" text-anchor=\"middle\" x=\"54\" y=\"-158.3\">A</text>\n",
       "</g>\n",
       "<!-- B -->\n",
       "<g class=\"node\" id=\"node2\"><title>B</title>\n",
       "<ellipse cx=\"27\" cy=\"-90\" fill=\"none\" rx=\"27\" ry=\"18\" stroke=\"black\"/>\n",
       "<text font-family=\"Times New Roman,serif\" font-size=\"14.00\" text-anchor=\"middle\" x=\"27\" y=\"-86.3\">B</text>\n",
       "</g>\n",
       "<!-- A&#45;&gt;B -->\n",
       "<g class=\"edge\" id=\"edge1\"><title>A-&gt;B</title>\n",
       "<path d=\"M47.6014,-144.411C44.4864,-136.335 40.6663,-126.431 37.1654,-117.355\" fill=\"none\" stroke=\"black\"/>\n",
       "<polygon fill=\"black\" points=\"40.4045,-116.027 33.5403,-107.956 33.8735,-118.546 40.4045,-116.027\" stroke=\"black\"/>\n",
       "</g>\n",
       "<!-- C -->\n",
       "<g class=\"node\" id=\"node3\"><title>C</title>\n",
       "<ellipse cx=\"54\" cy=\"-18\" fill=\"none\" rx=\"27\" ry=\"18\" stroke=\"black\"/>\n",
       "<text font-family=\"Times New Roman,serif\" font-size=\"14.00\" text-anchor=\"middle\" x=\"54\" y=\"-14.3\">C</text>\n",
       "</g>\n",
       "<!-- A&#45;&gt;C -->\n",
       "<g class=\"edge\" id=\"edge2\"><title>A-&gt;C</title>\n",
       "<path d=\"M57.6538,-143.908C59.6758,-133.569 61.9808,-120.09 63,-108 64.3441,-92.0566 64.3441,-87.9434 63,-72 62.2834,-63.4991 60.9311,-54.3119 59.4884,-46.0122\" fill=\"none\" stroke=\"black\"/>\n",
       "<polygon fill=\"black\" points=\"62.9142,-45.2892 57.6538,-36.0925 56.0309,-46.5623 62.9142,-45.2892\" stroke=\"black\"/>\n",
       "</g>\n",
       "<!-- B&#45;&gt;C -->\n",
       "<g class=\"edge\" id=\"edge3\"><title>B-&gt;C</title>\n",
       "<path d=\"M33.3986,-72.411C36.5136,-64.3352 40.3337,-54.4312 43.8346,-45.3547\" fill=\"none\" stroke=\"black\"/>\n",
       "<polygon fill=\"black\" points=\"47.1265,-46.5458 47.4597,-35.9562 40.5955,-44.0267 47.1265,-46.5458\" stroke=\"black\"/>\n",
       "</g>\n",
       "</g>\n",
       "</svg>"
      ],
      "text/plain": [
       "<IPython.core.display.SVG object>"
      ]
     },
     "execution_count": 20,
     "metadata": {},
     "output_type": "execute_result"
    }
   ],
   "source": [
    "g4 = add_edges(\n",
    "         add_nodes(digraph(), ['A', 'B', 'C']),\n",
    "         [('A', 'B'), ('A', 'C'), ('B', 'C')]\n",
    ")\n",
    "\n",
    "SVG(g4.render('img/g4'))"
   ]
  },
  {
   "cell_type": "markdown",
   "metadata": {},
   "source": [
    "## Labels\n",
    "\n",
    "Labeling nodes and edges is as easy as adding an entry to their dictionaries of attributes."
   ]
  },
  {
   "cell_type": "code",
   "execution_count": 21,
   "metadata": {
    "collapsed": false
   },
   "outputs": [
    {
     "data": {
      "image/svg+xml": [
       "<svg height=\"218pt\" viewBox=\"0.00 0.00 170.65 218.00\" width=\"171pt\" xmlns=\"http://www.w3.org/2000/svg\" xmlns:xlink=\"http://www.w3.org/1999/xlink\">\n",
       "<g class=\"graph\" id=\"graph0\" transform=\"scale(1 1) rotate(0) translate(4 214)\">\n",
       "<title>%3</title>\n",
       "<polygon fill=\"white\" points=\"-4,4 -4,-214 166.646,-214 166.646,4 -4,4\" stroke=\"none\"/>\n",
       "<!-- A -->\n",
       "<g class=\"node\" id=\"node1\"><title>A</title>\n",
       "<ellipse cx=\"91.6465\" cy=\"-192\" fill=\"none\" rx=\"39.7935\" ry=\"18\" stroke=\"black\"/>\n",
       "<text font-family=\"Times New Roman,serif\" font-size=\"14.00\" text-anchor=\"middle\" x=\"91.6465\" y=\"-188.3\">Node A</text>\n",
       "</g>\n",
       "<!-- B -->\n",
       "<g class=\"node\" id=\"node2\"><title>B</title>\n",
       "<ellipse cx=\"49.6465\" cy=\"-105\" fill=\"none\" rx=\"38.9931\" ry=\"18\" stroke=\"black\"/>\n",
       "<text font-family=\"Times New Roman,serif\" font-size=\"14.00\" text-anchor=\"middle\" x=\"49.6465\" y=\"-101.3\">Node B</text>\n",
       "</g>\n",
       "<!-- A&#45;&gt;B -->\n",
       "<g class=\"edge\" id=\"edge1\"><title>A-&gt;B</title>\n",
       "<path d=\"M81.1098,-174.539C77.5987,-168.776 73.7855,-162.195 70.6465,-156 66.8163,-148.441 63.0837,-140.018 59.8534,-132.271\" fill=\"none\" stroke=\"black\"/>\n",
       "<polygon fill=\"black\" points=\"63.0679,-130.884 56.0609,-122.938 56.5828,-133.52 63.0679,-130.884\" stroke=\"black\"/>\n",
       "<text font-family=\"Times New Roman,serif\" font-size=\"14.00\" text-anchor=\"middle\" x=\"90.6465\" y=\"-144.8\">Edge 1</text>\n",
       "</g>\n",
       "<!-- C -->\n",
       "<g class=\"node\" id=\"node3\"><title>C</title>\n",
       "<ellipse cx=\"124.646\" cy=\"-18\" fill=\"none\" rx=\"27\" ry=\"18\" stroke=\"black\"/>\n",
       "<text font-family=\"Times New Roman,serif\" font-size=\"14.00\" text-anchor=\"middle\" x=\"124.646\" y=\"-14.3\">C</text>\n",
       "</g>\n",
       "<!-- A&#45;&gt;C -->\n",
       "<g class=\"edge\" id=\"edge2\"><title>A-&gt;C</title>\n",
       "<path d=\"M102.339,-174.506C105.526,-168.849 108.688,-162.342 110.646,-156 121.984,-119.297 124.605,-74.6992 124.985,-46.5745\" fill=\"none\" stroke=\"black\"/>\n",
       "<polygon fill=\"black\" points=\"128.486,-46.3185 125.033,-36.3022 121.486,-46.2857 128.486,-46.3185\" stroke=\"black\"/>\n",
       "<text font-family=\"Times New Roman,serif\" font-size=\"14.00\" text-anchor=\"middle\" x=\"142.646\" y=\"-101.3\">Edge 2</text>\n",
       "</g>\n",
       "<!-- B&#45;&gt;C -->\n",
       "<g class=\"edge\" id=\"edge3\"><title>B-&gt;C</title>\n",
       "<path d=\"M65.5071,-88.2388C71.3249,-82.3111 77.8915,-75.4455 83.6465,-69 91.1605,-60.5844 99.0937,-51.0705 105.959,-42.6176\" fill=\"none\" stroke=\"black\"/>\n",
       "<polygon fill=\"black\" points=\"108.87,-44.5832 112.413,-34.5984 103.416,-40.1943 108.87,-44.5832\" stroke=\"black\"/>\n",
       "</g>\n",
       "<!-- D -->\n",
       "<g class=\"node\" id=\"node4\"><title>D</title>\n",
       "<ellipse cx=\"39.6465\" cy=\"-18\" fill=\"none\" rx=\"39.7935\" ry=\"18\" stroke=\"black\"/>\n",
       "<text font-family=\"Times New Roman,serif\" font-size=\"14.00\" text-anchor=\"middle\" x=\"39.6465\" y=\"-14.3\">Node D</text>\n",
       "</g>\n",
       "<!-- B&#45;&gt;D -->\n",
       "<g class=\"edge\" id=\"edge4\"><title>B-&gt;D</title>\n",
       "<path d=\"M46.4083,-86.9559C45.4111,-81.2624 44.3832,-74.8724 43.6465,-69 42.7288,-61.6852 41.9806,-53.7405 41.3902,-46.3824\" fill=\"none\" stroke=\"black\"/>\n",
       "<polygon fill=\"black\" points=\"44.8627,-45.8789 40.6367,-36.1634 37.8816,-46.3937 44.8627,-45.8789\" stroke=\"black\"/>\n",
       "<text font-family=\"Times New Roman,serif\" font-size=\"14.00\" text-anchor=\"middle\" x=\"63.6465\" y=\"-57.8\">Edge 4</text>\n",
       "</g>\n",
       "</g>\n",
       "</svg>"
      ],
      "text/plain": [
       "<IPython.core.display.SVG object>"
      ]
     },
     "execution_count": 21,
     "metadata": {},
     "output_type": "execute_result"
    }
   ],
   "source": [
    "SVG(\n",
    "    add_edges(\n",
    "        add_nodes(digraph(), [\n",
    "            ('A', {'label': 'Node A'}),\n",
    "            ('B', {'label': 'Node B'}),\n",
    "            'C',\n",
    "            ('D', {'label': 'Node D'})\n",
    "        ]),\n",
    "        [\n",
    "            (('A', 'B'), {'label': 'Edge 1'}),\n",
    "            (('A', 'C'), {'label': 'Edge 2'}),\n",
    "            ('B', 'C'),\n",
    "            (('B', 'D'), {'label': 'Edge 4'}),\n",
    "        ]\n",
    "    ).render('img/g5')\n",
    ")"
   ]
  },
  {
   "cell_type": "markdown",
   "metadata": {},
   "source": [
    "## Styling"
   ]
  },
  {
   "cell_type": "code",
   "execution_count": 22,
   "metadata": {
    "collapsed": true
   },
   "outputs": [],
   "source": [
    "g6 = add_edges(\n",
    "    add_nodes(digraph(), [\n",
    "        ('A', {'label': 'Node A'}),\n",
    "        ('B', {'label': 'Node B'}),\n",
    "        'C'\n",
    "    ]),\n",
    "    [\n",
    "        (('A', 'B'), {'label': 'Edge 1'}),\n",
    "        (('A', 'C'), {'label': 'Edge 2'}),\n",
    "        ('B', 'C')\n",
    "    ]\n",
    ")"
   ]
  },
  {
   "cell_type": "markdown",
   "metadata": {},
   "source": [
    " use a simple dictionary to specifiy the attributes that we want to change"
   ]
  },
  {
   "cell_type": "code",
   "execution_count": 23,
   "metadata": {
    "collapsed": true
   },
   "outputs": [],
   "source": [
    "styles = {\n",
    "    'graph': {\n",
    "        'label': 'A Fancy Graph',\n",
    "        'fontsize': '16',\n",
    "        'fontcolor': 'white',\n",
    "        'bgcolor': '#333333',\n",
    "        'rankdir': 'BT',\n",
    "    },\n",
    "    'nodes': {\n",
    "        'fontname': 'Helvetica',\n",
    "        'shape': 'hexagon',\n",
    "        'fontcolor': 'white',\n",
    "        'color': 'white',\n",
    "        'style': 'filled',\n",
    "        'fillcolor': '#006699',\n",
    "    },\n",
    "    'edges': {\n",
    "        'style': 'dashed',\n",
    "        'color': 'white',\n",
    "        'arrowhead': 'open',\n",
    "        'fontname': 'Courier',\n",
    "        'fontsize': '12',\n",
    "        'fontcolor': 'white',\n",
    "    }\n",
    "}"
   ]
  },
  {
   "cell_type": "code",
   "execution_count": 24,
   "metadata": {
    "collapsed": true
   },
   "outputs": [],
   "source": [
    "def apply_styles(graph, styles):\n",
    "    graph.graph_attr.update(\n",
    "        ('graph' in styles and styles['graph']) or {}\n",
    "    )\n",
    "    graph.node_attr.update(\n",
    "        ('nodes' in styles and styles['nodes']) or {}\n",
    "    )\n",
    "    graph.edge_attr.update(\n",
    "        ('edges' in styles and styles['edges']) or {}\n",
    "    )\n",
    "    return graph"
   ]
  },
  {
   "cell_type": "code",
   "execution_count": null,
   "metadata": {
    "collapsed": true
   },
   "outputs": [],
   "source": [
    "g6 = apply_styles(g6, styles)\n",
    "g6.render('img/g6')"
   ]
  },
  {
   "cell_type": "code",
   "execution_count": 26,
   "metadata": {
    "collapsed": false
   },
   "outputs": [
    {
     "data": {
      "image/svg+xml": [
       "<svg height=\"228pt\" viewBox=\"0.00 0.00 177.78 228.00\" width=\"178pt\" xmlns=\"http://www.w3.org/2000/svg\" xmlns:xlink=\"http://www.w3.org/1999/xlink\">\n",
       "<g class=\"graph\" id=\"graph0\" transform=\"scale(1 1) rotate(0) translate(4 224)\">\n",
       "<title>%3</title>\n",
       "<polygon fill=\"#333333\" points=\"-4,4 -4,-224 173.782,-224 173.782,4 -4,4\" stroke=\"none\"/>\n",
       "<text fill=\"white\" font-family=\"Times New Roman,serif\" font-size=\"16.00\" text-anchor=\"middle\" x=\"84.8909\" y=\"-9.2\">A Fancy Graph</text>\n",
       "<!-- A -->\n",
       "<g class=\"node\" id=\"node1\"><title>A</title>\n",
       "<polygon fill=\"#006699\" points=\"151.346,-44 127.064,-62 78.4995,-62 54.2173,-44 78.4995,-26 127.064,-26 151.346,-44\" stroke=\"white\"/>\n",
       "<text fill=\"white\" font-family=\"Helvetica,sans-Serif\" font-size=\"14.00\" text-anchor=\"middle\" x=\"102.782\" y=\"-40.3\">Node A</text>\n",
       "</g>\n",
       "<!-- B -->\n",
       "<g class=\"node\" id=\"node2\"><title>B</title>\n",
       "<polygon fill=\"#006699\" points=\"97.3463,-129 73.064,-147 24.4995,-147 0.217259,-129 24.4995,-111 73.064,-111 97.3463,-129\" stroke=\"white\"/>\n",
       "<text fill=\"white\" font-family=\"Helvetica,sans-Serif\" font-size=\"14.00\" text-anchor=\"middle\" x=\"48.7818\" y=\"-125.3\">Node B</text>\n",
       "</g>\n",
       "<!-- A&#45;&gt;B -->\n",
       "<g class=\"edge\" id=\"edge1\"><title>A-&gt;B</title>\n",
       "<path d=\"M87.2695,-62.2413C82.6717,-67.7301 77.797,-73.9515 73.7818,-80 69.3517,-86.6734 65.0997,-94.2251 61.3986,-101.33\" fill=\"none\" stroke=\"white\" stroke-dasharray=\"5,2\"/>\n",
       "<polygon fill=\"white\" points=\"56.7279,-110.618 57.2006,-99.6618 58.9744,-106.151 61.2208,-101.684 61.2208,-101.684 61.2208,-101.684 58.9744,-106.151 65.2411,-103.705 56.7279,-110.618 56.7279,-110.618\" stroke=\"white\"/>\n",
       "<text fill=\"white\" font-family=\"Courier,monospace\" font-size=\"12.00\" text-anchor=\"middle\" x=\"96.7818\" y=\"-83.4\">Edge 1</text>\n",
       "</g>\n",
       "<!-- C -->\n",
       "<g class=\"node\" id=\"node3\"><title>C</title>\n",
       "<polygon fill=\"#006699\" points=\"132.782,-202 119.282,-220 92.2818,-220 78.7818,-202 92.2818,-184 119.282,-184 132.782,-202\" stroke=\"white\"/>\n",
       "<text fill=\"white\" font-family=\"Helvetica,sans-Serif\" font-size=\"14.00\" text-anchor=\"middle\" x=\"105.782\" y=\"-198.3\">C</text>\n",
       "</g>\n",
       "<!-- A&#45;&gt;C -->\n",
       "<g class=\"edge\" id=\"edge2\"><title>A-&gt;C</title>\n",
       "<path d=\"M113.058,-62.2312C115.801,-67.7196 118.389,-73.9433 119.782,-80 127.123,-111.918 120.458,-149.503 114.046,-174.216\" fill=\"none\" stroke=\"white\" stroke-dasharray=\"5,2\"/>\n",
       "<polygon fill=\"white\" points=\"111.356,-183.965 109.678,-173.128 112.686,-179.145 114.016,-174.325 114.016,-174.325 114.016,-174.325 112.686,-179.145 118.354,-175.522 111.356,-183.965 111.356,-183.965\" stroke=\"white\"/>\n",
       "<text fill=\"white\" font-family=\"Courier,monospace\" font-size=\"12.00\" text-anchor=\"middle\" x=\"146.782\" y=\"-125.9\">Edge 2</text>\n",
       "</g>\n",
       "<!-- B&#45;&gt;C -->\n",
       "<g class=\"edge\" id=\"edge3\"><title>B-&gt;C</title>\n",
       "<path d=\"M62.5799,-147.187C69.5113,-155.821 78.0404,-166.445 85.684,-175.966\" fill=\"none\" stroke=\"white\" stroke-dasharray=\"5,2\"/>\n",
       "<polygon fill=\"white\" points=\"92.1107,-183.971 82.3413,-178.99 88.9805,-180.072 85.8504,-176.173 85.8504,-176.173 85.8504,-176.173 88.9805,-180.072 89.3594,-173.356 92.1107,-183.971 92.1107,-183.971\" stroke=\"white\"/>\n",
       "</g>\n",
       "</g>\n",
       "</svg>"
      ],
      "text/plain": [
       "<IPython.core.display.SVG object>"
      ]
     },
     "execution_count": 26,
     "metadata": {},
     "output_type": "execute_result"
    }
   ],
   "source": [
    "g6 = apply_styles(g6, styles)\n",
    "SVG(g6.render('img/g6'))"
   ]
  },
  {
   "cell_type": "markdown",
   "metadata": {},
   "source": [
    "## Subgraphs"
   ]
  },
  {
   "cell_type": "markdown",
   "metadata": {},
   "source": [
    "First, let's create two seperate graphs g7 and g8, each with their own styling."
   ]
  },
  {
   "cell_type": "code",
   "execution_count": 33,
   "metadata": {
    "collapsed": true
   },
   "outputs": [],
   "source": [
    "g7 = add_edges(\n",
    "    add_nodes(digraph(), [\n",
    "        ('A', {'label': 'Node A'}),\n",
    "        ('B', {'label': 'Node B'}),\n",
    "        'C'\n",
    "    ]),\n",
    "    [\n",
    "        (('A', 'B'), {'label': 'Edge 1'}),\n",
    "        (('A', 'C'), {'label': 'Edge 2'}),\n",
    "        ('B', 'C')\n",
    "    ]\n",
    ")"
   ]
  },
  {
   "cell_type": "code",
   "execution_count": 34,
   "metadata": {
    "collapsed": true
   },
   "outputs": [],
   "source": [
    "g8 = apply_styles(\n",
    "    add_edges(\n",
    "        add_nodes(digraph(), [\n",
    "            ('D', {'label': 'Node D'}),\n",
    "            ('E', {'label': 'Node E'}),\n",
    "            'F'\n",
    "        ]),\n",
    "        [\n",
    "            (('D', 'E'), {'label': 'Edge 3'}),\n",
    "            (('D', 'F'), {'label': 'Edge 4'}),\n",
    "            ('E', 'F')\n",
    "        ]\n",
    "    ),\n",
    "    {\n",
    "        'nodes': {\n",
    "            'shape': 'square',\n",
    "            'style': 'filled',\n",
    "            'fillcolor': '#cccccc',\n",
    "        }\n",
    "    }\n",
    ")"
   ]
  },
  {
   "cell_type": "markdown",
   "metadata": {},
   "source": [
    "we combine the two graphs by making g8 a subgraph of g7 and adding an extra edge to connect the two:"
   ]
  },
  {
   "cell_type": "code",
   "execution_count": 35,
   "metadata": {
    "collapsed": true
   },
   "outputs": [],
   "source": [
    "g7.subgraph(g8)\n",
    "g7.edge('B', 'D', color='red', weight='2')"
   ]
  },
  {
   "cell_type": "code",
   "execution_count": 36,
   "metadata": {
    "collapsed": false
   },
   "outputs": [
    {
     "data": {
      "image/svg+xml": [
       "<svg height=\"412pt\" viewBox=\"0.00 0.00 188.50 412.00\" width=\"189pt\" xmlns=\"http://www.w3.org/2000/svg\" xmlns:xlink=\"http://www.w3.org/1999/xlink\">\n",
       "<g class=\"graph\" id=\"graph0\" transform=\"scale(1 1) rotate(0) translate(4 408)\">\n",
       "<title>%3</title>\n",
       "<polygon fill=\"white\" points=\"-4,4 -4,-408 184.5,-408 184.5,4 -4,4\" stroke=\"none\"/>\n",
       "<!-- A -->\n",
       "<g class=\"node\" id=\"node1\"><title>A</title>\n",
       "<ellipse cx=\"109.5\" cy=\"-386\" fill=\"none\" rx=\"39.7935\" ry=\"18\" stroke=\"black\"/>\n",
       "<text font-family=\"Times New Roman,serif\" font-size=\"14.00\" text-anchor=\"middle\" x=\"109.5\" y=\"-382.3\">Node A</text>\n",
       "</g>\n",
       "<!-- B -->\n",
       "<g class=\"node\" id=\"node2\"><title>B</title>\n",
       "<ellipse cx=\"67.5\" cy=\"-299\" fill=\"none\" rx=\"38.9931\" ry=\"18\" stroke=\"black\"/>\n",
       "<text font-family=\"Times New Roman,serif\" font-size=\"14.00\" text-anchor=\"middle\" x=\"67.5\" y=\"-295.3\">Node B</text>\n",
       "</g>\n",
       "<!-- A&#45;&gt;B -->\n",
       "<g class=\"edge\" id=\"edge1\"><title>A-&gt;B</title>\n",
       "<path d=\"M98.9633,-368.539C95.4522,-362.776 91.639,-356.195 88.5,-350 84.6698,-342.441 80.9372,-334.018 77.707,-326.271\" fill=\"none\" stroke=\"black\"/>\n",
       "<polygon fill=\"black\" points=\"80.9214,-324.884 73.9145,-316.938 74.4363,-327.52 80.9214,-324.884\" stroke=\"black\"/>\n",
       "<text font-family=\"Times New Roman,serif\" font-size=\"14.00\" text-anchor=\"middle\" x=\"108.5\" y=\"-338.8\">Edge 1</text>\n",
       "</g>\n",
       "<!-- C -->\n",
       "<g class=\"node\" id=\"node3\"><title>C</title>\n",
       "<ellipse cx=\"143.5\" cy=\"-213.5\" fill=\"none\" rx=\"27\" ry=\"18\" stroke=\"black\"/>\n",
       "<text font-family=\"Times New Roman,serif\" font-size=\"14.00\" text-anchor=\"middle\" x=\"143.5\" y=\"-209.8\">C</text>\n",
       "</g>\n",
       "<!-- A&#45;&gt;C -->\n",
       "<g class=\"edge\" id=\"edge2\"><title>A-&gt;C</title>\n",
       "<path d=\"M120.161,-368.496C123.346,-362.839 126.514,-356.333 128.5,-350 139.876,-313.714 142.881,-269.6 143.541,-241.779\" fill=\"none\" stroke=\"black\"/>\n",
       "<polygon fill=\"black\" points=\"147.043,-241.669 143.695,-231.617 140.044,-241.563 147.043,-241.669\" stroke=\"black\"/>\n",
       "<text font-family=\"Times New Roman,serif\" font-size=\"14.00\" text-anchor=\"middle\" x=\"160.5\" y=\"-295.3\">Edge 2</text>\n",
       "</g>\n",
       "<!-- B&#45;&gt;C -->\n",
       "<g class=\"edge\" id=\"edge3\"><title>B-&gt;C</title>\n",
       "<path d=\"M82.1536,-281.9C93.8726,-269.025 110.428,-250.835 123.388,-236.597\" fill=\"none\" stroke=\"black\"/>\n",
       "<polygon fill=\"black\" points=\"126.021,-238.903 130.164,-229.152 120.844,-234.192 126.021,-238.903\" stroke=\"black\"/>\n",
       "</g>\n",
       "<!-- D -->\n",
       "<g class=\"node\" id=\"node4\"><title>D</title>\n",
       "<polygon fill=\"#cccccc\" points=\"98,-244 37,-244 37,-183 98,-183 98,-244\" stroke=\"black\"/>\n",
       "<text font-family=\"Times New Roman,serif\" font-size=\"14.00\" text-anchor=\"middle\" x=\"67.5\" y=\"-209.8\">Node D</text>\n",
       "</g>\n",
       "<!-- B&#45;&gt;D -->\n",
       "<g class=\"edge\" id=\"edge7\"><title>B-&gt;D</title>\n",
       "<path d=\"M67.5,-280.699C67.5,-273.063 67.5,-263.743 67.5,-254.534\" fill=\"none\" stroke=\"red\"/>\n",
       "<polygon fill=\"red\" points=\"71.0001,-254.281 67.5,-244.281 64.0001,-254.281 71.0001,-254.281\" stroke=\"red\"/>\n",
       "</g>\n",
       "<!-- E -->\n",
       "<g class=\"node\" id=\"node5\"><title>E</title>\n",
       "<polygon fill=\"#cccccc\" points=\"59,-132 0,-132 0,-73 59,-73 59,-132\" stroke=\"black\"/>\n",
       "<text font-family=\"Times New Roman,serif\" font-size=\"14.00\" text-anchor=\"middle\" x=\"29.5\" y=\"-98.8\">Node E</text>\n",
       "</g>\n",
       "<!-- D&#45;&gt;E -->\n",
       "<g class=\"edge\" id=\"edge4\"><title>D-&gt;E</title>\n",
       "<path d=\"M49.4109,-182.744C46.4417,-177 43.6406,-170.924 41.5,-165 38.878,-157.744 36.7877,-149.788 35.1359,-142.077\" fill=\"none\" stroke=\"black\"/>\n",
       "<polygon fill=\"black\" points=\"38.5523,-141.31 33.2091,-132.161 31.6808,-142.645 38.5523,-141.31\" stroke=\"black\"/>\n",
       "<text font-family=\"Times New Roman,serif\" font-size=\"14.00\" text-anchor=\"middle\" x=\"61.5\" y=\"-153.8\">Edge 3</text>\n",
       "</g>\n",
       "<!-- F -->\n",
       "<g class=\"node\" id=\"node6\"><title>F</title>\n",
       "<polygon fill=\"#cccccc\" points=\"90.5,-36 54.5,-36 54.5,-0 90.5,-0 90.5,-36\" stroke=\"black\"/>\n",
       "<text font-family=\"Times New Roman,serif\" font-size=\"14.00\" text-anchor=\"middle\" x=\"72.5\" y=\"-14.3\">F</text>\n",
       "</g>\n",
       "<!-- D&#45;&gt;F -->\n",
       "<g class=\"edge\" id=\"edge5\"><title>D-&gt;F</title>\n",
       "<path d=\"M77.6409,-182.891C79.2452,-177.028 80.6528,-170.871 81.5,-165 87.4437,-123.81 82.0899,-75.5273 77.4668,-46.1112\" fill=\"none\" stroke=\"black\"/>\n",
       "<polygon fill=\"black\" points=\"80.9081,-45.4679 75.819,-36.1753 74.0024,-46.6132 80.9081,-45.4679\" stroke=\"black\"/>\n",
       "<text font-family=\"Times New Roman,serif\" font-size=\"14.00\" text-anchor=\"middle\" x=\"104.5\" y=\"-98.8\">Edge 4</text>\n",
       "</g>\n",
       "<!-- E&#45;&gt;F -->\n",
       "<g class=\"edge\" id=\"edge6\"><title>E-&gt;F</title>\n",
       "<path d=\"M44.5393,-72.6455C49.1636,-63.7734 54.2274,-54.0579 58.7598,-45.3619\" fill=\"none\" stroke=\"black\"/>\n",
       "<polygon fill=\"black\" points=\"61.9052,-46.8997 63.4235,-36.4142 55.6977,-43.6643 61.9052,-46.8997\" stroke=\"black\"/>\n",
       "</g>\n",
       "</g>\n",
       "</svg>"
      ],
      "text/plain": [
       "<IPython.core.display.SVG object>"
      ]
     },
     "execution_count": 36,
     "metadata": {},
     "output_type": "execute_result"
    }
   ],
   "source": [
    "SVG(g7.render('img/g7'))"
   ]
  },
  {
   "cell_type": "markdown",
   "metadata": {},
   "source": [
    "\n",
    "http://www.graphviz.org/content/fsm"
   ]
  },
  {
   "cell_type": "code",
   "execution_count": 9,
   "metadata": {
    "collapsed": false
   },
   "outputs": [
    {
     "data": {
      "image/svg+xml": [
       "<?xml version=\"1.0\" encoding=\"UTF-8\" standalone=\"no\"?>\r\n",
       "<!DOCTYPE svg PUBLIC \"-//W3C//DTD SVG 1.1//EN\"\r\n",
       " \"http://www.w3.org/Graphics/SVG/1.1/DTD/svg11.dtd\">\r\n",
       "<!-- Generated by graphviz version 2.38.0 (20140413.2041)\r\n",
       " -->\r\n",
       "<!-- Title: finite_state_machine Pages: 1 -->\r\n",
       "<svg width=\"576pt\" height=\"258pt\"\r\n",
       " viewBox=\"0.00 0.00 576.00 258.45\" xmlns=\"http://www.w3.org/2000/svg\" xmlns:xlink=\"http://www.w3.org/1999/xlink\">\r\n",
       "<g id=\"graph0\" class=\"graph\" transform=\"scale(0.769883 0.769883) rotate(0) translate(4 331.694)\">\r\n",
       "<title>finite_state_machine</title>\r\n",
       "<polygon fill=\"white\" stroke=\"none\" points=\"-4,4 -4,-331.694 744.166,-331.694 744.166,4 -4,4\"/>\r\n",
       "<!-- LR_0 -->\r\n",
       "<g id=\"node1\" class=\"node\"><title>LR_0</title>\r\n",
       "<ellipse fill=\"none\" stroke=\"black\" cx=\"35.8472\" cy=\"-106.847\" rx=\"31.712\" ry=\"31.712\"/>\r\n",
       "<ellipse fill=\"none\" stroke=\"black\" cx=\"35.8472\" cy=\"-106.847\" rx=\"35.695\" ry=\"35.695\"/>\r\n",
       "<text text-anchor=\"middle\" x=\"35.8472\" y=\"-103.147\" font-family=\"Times New Roman,serif\" font-size=\"14.00\">LR_0</text>\r\n",
       "</g>\r\n",
       "<!-- LR_2 -->\r\n",
       "<g id=\"node5\" class=\"node\"><title>LR_2</title>\r\n",
       "<ellipse fill=\"none\" stroke=\"black\" cx=\"174.542\" cy=\"-146.847\" rx=\"31.6951\" ry=\"31.6951\"/>\r\n",
       "<text text-anchor=\"middle\" x=\"174.542\" y=\"-143.147\" font-family=\"Times New Roman,serif\" font-size=\"14.00\">LR_2</text>\r\n",
       "</g>\r\n",
       "<!-- LR_0&#45;&gt;LR_2 -->\r\n",
       "<g id=\"edge1\" class=\"edge\"><title>LR_0&#45;&gt;LR_2</title>\r\n",
       "<path fill=\"none\" stroke=\"black\" d=\"M70.6368,-116.735C89.8449,-122.356 113.995,-129.422 134.071,-135.297\"/>\r\n",
       "<polygon fill=\"black\" stroke=\"black\" points=\"133.274,-138.711 143.855,-138.16 135.24,-131.992 133.274,-138.711\"/>\r\n",
       "<text text-anchor=\"middle\" x=\"107.194\" y=\"-135.647\" font-family=\"Times New Roman,serif\" font-size=\"14.00\">SS(B)</text>\r\n",
       "</g>\r\n",
       "<!-- LR_1 -->\r\n",
       "<g id=\"node6\" class=\"node\"><title>LR_1</title>\r\n",
       "<ellipse fill=\"none\" stroke=\"black\" cx=\"174.542\" cy=\"-54.8472\" rx=\"31.6951\" ry=\"31.6951\"/>\r\n",
       "<text text-anchor=\"middle\" x=\"174.542\" y=\"-51.1472\" font-family=\"Times New Roman,serif\" font-size=\"14.00\">LR_1</text>\r\n",
       "</g>\r\n",
       "<!-- LR_0&#45;&gt;LR_1 -->\r\n",
       "<g id=\"edge2\" class=\"edge\"><title>LR_0&#45;&gt;LR_1</title>\r\n",
       "<path fill=\"none\" stroke=\"black\" d=\"M69.5889,-94.3919C89.2263,-86.9216 114.304,-77.3816 134.909,-69.5435\"/>\r\n",
       "<polygon fill=\"black\" stroke=\"black\" points=\"136.22,-72.7895 144.322,-65.9626 133.731,-66.2469 136.22,-72.7895\"/>\r\n",
       "<text text-anchor=\"middle\" x=\"107.194\" y=\"-89.6472\" font-family=\"Times New Roman,serif\" font-size=\"14.00\">SS(S)</text>\r\n",
       "</g>\r\n",
       "<!-- LR_3 -->\r\n",
       "<g id=\"node2\" class=\"node\"><title>LR_3</title>\r\n",
       "<ellipse fill=\"none\" stroke=\"black\" cx=\"323.236\" cy=\"-35.8472\" rx=\"31.712\" ry=\"31.712\"/>\r\n",
       "<ellipse fill=\"none\" stroke=\"black\" cx=\"323.236\" cy=\"-35.8472\" rx=\"35.695\" ry=\"35.695\"/>\r\n",
       "<text text-anchor=\"middle\" x=\"323.236\" y=\"-32.1472\" font-family=\"Times New Roman,serif\" font-size=\"14.00\">LR_3</text>\r\n",
       "</g>\r\n",
       "<!-- LR_4 -->\r\n",
       "<g id=\"node3\" class=\"node\"><title>LR_4</title>\r\n",
       "<ellipse fill=\"none\" stroke=\"black\" cx=\"323.236\" cy=\"-291.847\" rx=\"31.712\" ry=\"31.712\"/>\r\n",
       "<ellipse fill=\"none\" stroke=\"black\" cx=\"323.236\" cy=\"-291.847\" rx=\"35.695\" ry=\"35.695\"/>\r\n",
       "<text text-anchor=\"middle\" x=\"323.236\" y=\"-288.147\" font-family=\"Times New Roman,serif\" font-size=\"14.00\">LR_4</text>\r\n",
       "</g>\r\n",
       "<!-- LR_8 -->\r\n",
       "<g id=\"node4\" class=\"node\"><title>LR_8</title>\r\n",
       "<ellipse fill=\"none\" stroke=\"black\" cx=\"704.319\" cy=\"-147.847\" rx=\"31.712\" ry=\"31.712\"/>\r\n",
       "<ellipse fill=\"none\" stroke=\"black\" cx=\"704.319\" cy=\"-147.847\" rx=\"35.695\" ry=\"35.695\"/>\r\n",
       "<text text-anchor=\"middle\" x=\"704.319\" y=\"-144.147\" font-family=\"Times New Roman,serif\" font-size=\"14.00\">LR_8</text>\r\n",
       "</g>\r\n",
       "<!-- LR_6 -->\r\n",
       "<g id=\"node7\" class=\"node\"><title>LR_6</title>\r\n",
       "<ellipse fill=\"none\" stroke=\"black\" cx=\"323.236\" cy=\"-172.847\" rx=\"31.6951\" ry=\"31.6951\"/>\r\n",
       "<text text-anchor=\"middle\" x=\"323.236\" y=\"-169.147\" font-family=\"Times New Roman,serif\" font-size=\"14.00\">LR_6</text>\r\n",
       "</g>\r\n",
       "<!-- LR_8&#45;&gt;LR_6 -->\r\n",
       "<g id=\"edge13\" class=\"edge\"><title>LR_8&#45;&gt;LR_6</title>\r\n",
       "<path fill=\"none\" stroke=\"black\" d=\"M669.127,-154.782C625.934,-163.158 549.217,-176.756 482.777,-181.847 454.552,-184.01 447.36,-183.186 419.083,-181.847 401.296,-181.005 381.696,-179.28 364.953,-177.563\"/>\r\n",
       "<polygon fill=\"black\" stroke=\"black\" points=\"365.251,-174.075 354.939,-176.503 364.515,-181.036 365.251,-174.075\"/>\r\n",
       "<text text-anchor=\"middle\" x=\"513.277\" y=\"-184.647\" font-family=\"Times New Roman,serif\" font-size=\"14.00\">S(b)</text>\r\n",
       "</g>\r\n",
       "<!-- LR_5 -->\r\n",
       "<g id=\"node8\" class=\"node\"><title>LR_5</title>\r\n",
       "<ellipse fill=\"none\" stroke=\"black\" cx=\"450.93\" cy=\"-107.847\" rx=\"31.6951\" ry=\"31.6951\"/>\r\n",
       "<text text-anchor=\"middle\" x=\"450.93\" y=\"-104.147\" font-family=\"Times New Roman,serif\" font-size=\"14.00\">LR_5</text>\r\n",
       "</g>\r\n",
       "<!-- LR_8&#45;&gt;LR_5 -->\r\n",
       "<g id=\"edge14\" class=\"edge\"><title>LR_8&#45;&gt;LR_5</title>\r\n",
       "<path fill=\"none\" stroke=\"black\" d=\"M668.545,-142.414C628.191,-136.095 559.65,-125.319 500.777,-115.847 498.086,-115.414 495.312,-114.966 492.517,-114.512\"/>\r\n",
       "<polygon fill=\"black\" stroke=\"black\" points=\"492.845,-111.02 482.413,-112.867 491.72,-117.929 492.845,-111.02\"/>\r\n",
       "<text text-anchor=\"middle\" x=\"575.625\" y=\"-137.647\" font-family=\"Times New Roman,serif\" font-size=\"14.00\">S(a)</text>\r\n",
       "</g>\r\n",
       "<!-- LR_2&#45;&gt;LR_4 -->\r\n",
       "<g id=\"edge6\" class=\"edge\"><title>LR_2&#45;&gt;LR_4</title>\r\n",
       "<path fill=\"none\" stroke=\"black\" d=\"M197.821,-168.87C222.322,-193.087 261.915,-232.223 289.846,-259.831\"/>\r\n",
       "<polygon fill=\"black\" stroke=\"black\" points=\"287.463,-262.397 297.035,-266.938 292.384,-257.418 287.463,-262.397\"/>\r\n",
       "<text text-anchor=\"middle\" x=\"246.889\" y=\"-239.647\" font-family=\"Times New Roman,serif\" font-size=\"14.00\">S(A)</text>\r\n",
       "</g>\r\n",
       "<!-- LR_2&#45;&gt;LR_6 -->\r\n",
       "<g id=\"edge4\" class=\"edge\"><title>LR_2&#45;&gt;LR_6</title>\r\n",
       "<path fill=\"none\" stroke=\"black\" d=\"M205.937,-152.234C227.893,-156.126 257.777,-161.422 281.754,-165.672\"/>\r\n",
       "<polygon fill=\"black\" stroke=\"black\" points=\"281.17,-169.123 291.628,-167.422 282.392,-162.231 281.17,-169.123\"/>\r\n",
       "<text text-anchor=\"middle\" x=\"246.889\" y=\"-167.647\" font-family=\"Times New Roman,serif\" font-size=\"14.00\">SS(b)</text>\r\n",
       "</g>\r\n",
       "<!-- LR_2&#45;&gt;LR_5 -->\r\n",
       "<g id=\"edge5\" class=\"edge\"><title>LR_2&#45;&gt;LR_5</title>\r\n",
       "<path fill=\"none\" stroke=\"black\" d=\"M205.087,-137.127C227.428,-130.219 259.001,-121.39 287.389,-116.847 328.309,-110.299 375.679,-108.299 408.684,-107.786\"/>\r\n",
       "<polygon fill=\"black\" stroke=\"black\" points=\"408.911,-111.284 418.87,-107.668 408.829,-104.284 408.911,-111.284\"/>\r\n",
       "<text text-anchor=\"middle\" x=\"323.236\" y=\"-120.647\" font-family=\"Times New Roman,serif\" font-size=\"14.00\">SS(a)</text>\r\n",
       "</g>\r\n",
       "<!-- LR_1&#45;&gt;LR_3 -->\r\n",
       "<g id=\"edge3\" class=\"edge\"><title>LR_1&#45;&gt;LR_3</title>\r\n",
       "<path fill=\"none\" stroke=\"black\" d=\"M206.293,-50.8642C226.839,-48.2031 254.208,-44.6582 277.196,-41.6808\"/>\r\n",
       "<polygon fill=\"black\" stroke=\"black\" points=\"277.941,-45.1136 287.409,-40.358 277.042,-38.1716 277.941,-45.1136\"/>\r\n",
       "<text text-anchor=\"middle\" x=\"246.889\" y=\"-52.6472\" font-family=\"Times New Roman,serif\" font-size=\"14.00\">S($end)</text>\r\n",
       "</g>\r\n",
       "<!-- LR_6&#45;&gt;LR_6 -->\r\n",
       "<g id=\"edge9\" class=\"edge\"><title>LR_6&#45;&gt;LR_6</title>\r\n",
       "<path fill=\"none\" stroke=\"black\" d=\"M311.262,-202.528C310.87,-213.589 314.861,-222.694 323.236,-222.694 328.863,-222.694 332.511,-218.584 334.18,-212.532\"/>\r\n",
       "<polygon fill=\"black\" stroke=\"black\" points=\"337.667,-212.834 335.21,-202.528 330.704,-212.117 337.667,-212.834\"/>\r\n",
       "<text text-anchor=\"middle\" x=\"323.236\" y=\"-226.494\" font-family=\"Times New Roman,serif\" font-size=\"14.00\">S(b)</text>\r\n",
       "</g>\r\n",
       "<!-- LR_6&#45;&gt;LR_5 -->\r\n",
       "<g id=\"edge10\" class=\"edge\"><title>LR_6&#45;&gt;LR_5</title>\r\n",
       "<path fill=\"none\" stroke=\"black\" d=\"M351.82,-158.583C369.912,-149.227 393.768,-136.89 413.426,-126.724\"/>\r\n",
       "<polygon fill=\"black\" stroke=\"black\" points=\"415.136,-129.781 422.41,-122.078 411.92,-123.563 415.136,-129.781\"/>\r\n",
       "<text text-anchor=\"middle\" x=\"389.083\" y=\"-148.647\" font-family=\"Times New Roman,serif\" font-size=\"14.00\">S(a)</text>\r\n",
       "</g>\r\n",
       "<!-- LR_5&#45;&gt;LR_5 -->\r\n",
       "<g id=\"edge8\" class=\"edge\"><title>LR_5&#45;&gt;LR_5</title>\r\n",
       "<path fill=\"none\" stroke=\"black\" d=\"M439.691,-138.022C439.45,-148.859 443.196,-157.694 450.93,-157.694 456.006,-157.694 459.364,-153.889 461.005,-148.211\"/>\r\n",
       "<polygon fill=\"black\" stroke=\"black\" points=\"464.511,-148.355 462.169,-138.022 457.556,-147.56 464.511,-148.355\"/>\r\n",
       "<text text-anchor=\"middle\" x=\"450.93\" y=\"-161.494\" font-family=\"Times New Roman,serif\" font-size=\"14.00\">S(a)</text>\r\n",
       "</g>\r\n",
       "<!-- LR_7 -->\r\n",
       "<g id=\"node9\" class=\"node\"><title>LR_7</title>\r\n",
       "<ellipse fill=\"none\" stroke=\"black\" cx=\"575.625\" cy=\"-79.8472\" rx=\"31.6951\" ry=\"31.6951\"/>\r\n",
       "<text text-anchor=\"middle\" x=\"575.625\" y=\"-76.1472\" font-family=\"Times New Roman,serif\" font-size=\"14.00\">LR_7</text>\r\n",
       "</g>\r\n",
       "<!-- LR_5&#45;&gt;LR_7 -->\r\n",
       "<g id=\"edge7\" class=\"edge\"><title>LR_5&#45;&gt;LR_7</title>\r\n",
       "<path fill=\"none\" stroke=\"black\" d=\"M482.259,-100.926C497.891,-97.3585 517.169,-92.959 534.063,-89.1037\"/>\r\n",
       "<polygon fill=\"black\" stroke=\"black\" points=\"535.249,-92.4232 544.219,-86.7859 533.691,-85.5986 535.249,-92.4232\"/>\r\n",
       "<text text-anchor=\"middle\" x=\"513.277\" y=\"-100.647\" font-family=\"Times New Roman,serif\" font-size=\"14.00\">S(b)</text>\r\n",
       "</g>\r\n",
       "<!-- LR_7&#45;&gt;LR_8 -->\r\n",
       "<g id=\"edge11\" class=\"edge\"><title>LR_7&#45;&gt;LR_8</title>\r\n",
       "<path fill=\"none\" stroke=\"black\" d=\"M604.384,-94.3732C618.255,-101.666 635.28,-110.668 650.472,-118.847 654.739,-121.145 659.192,-123.56 663.624,-125.976\"/>\r\n",
       "<polygon fill=\"black\" stroke=\"black\" points=\"662.172,-129.17 672.625,-130.896 665.529,-123.028 662.172,-129.17\"/>\r\n",
       "<text text-anchor=\"middle\" x=\"637.972\" y=\"-122.647\" font-family=\"Times New Roman,serif\" font-size=\"14.00\">S(b)</text>\r\n",
       "</g>\r\n",
       "<!-- LR_7&#45;&gt;LR_5 -->\r\n",
       "<g id=\"edge12\" class=\"edge\"><title>LR_7&#45;&gt;LR_5</title>\r\n",
       "<path fill=\"none\" stroke=\"black\" d=\"M544.569,-71.6302C530.928,-69.2535 514.755,-68.3565 500.777,-72.8472 494.781,-74.7738 488.895,-77.7384 483.403,-81.1443\"/>\r\n",
       "<polygon fill=\"black\" stroke=\"black\" points=\"481.431,-78.2524 475.135,-86.7737 485.371,-84.0385 481.431,-78.2524\"/>\r\n",
       "<text text-anchor=\"middle\" x=\"513.277\" y=\"-76.6472\" font-family=\"Times New Roman,serif\" font-size=\"14.00\">S(a)</text>\r\n",
       "</g>\r\n",
       "</g>\r\n",
       "</svg>\r\n"
      ],
      "text/plain": [
       "<graphviz.dot.Digraph at 0x5270240>"
      ]
     },
     "execution_count": 9,
     "metadata": {},
     "output_type": "execute_result"
    }
   ],
   "source": [
    "import graphviz as gv\n",
    "f = gv.Digraph('finite_state_machine', filename='fsm.gv')\n",
    "f.attr(rankdir='LR', size='8,5')\n",
    "\n",
    "f.attr('node', shape='doublecircle')\n",
    "f.node('LR_0')\n",
    "f.node('LR_3')\n",
    "f.node('LR_4')\n",
    "f.node('LR_8')\n",
    "\n",
    "f.attr('node', shape='circle')\n",
    "f.edge('LR_0', 'LR_2', label='SS(B)')\n",
    "f.edge('LR_0', 'LR_1', label='SS(S)')\n",
    "f.edge('LR_1', 'LR_3', label='S($end)')\n",
    "f.edge('LR_2', 'LR_6', label='SS(b)')\n",
    "f.edge('LR_2', 'LR_5', label='SS(a)')\n",
    "f.edge('LR_2', 'LR_4', label='S(A)')\n",
    "f.edge('LR_5', 'LR_7', label='S(b)')\n",
    "f.edge('LR_5', 'LR_5', label='S(a)')\n",
    "f.edge('LR_6', 'LR_6', label='S(b)')\n",
    "f.edge('LR_6', 'LR_5', label='S(a)')\n",
    "f.edge('LR_7', 'LR_8', label='S(b)')\n",
    "f.edge('LR_7', 'LR_5', label='S(a)')\n",
    "f.edge('LR_8', 'LR_6', label='S(b)')\n",
    "f.edge('LR_8', 'LR_5', label='S(a)')\n",
    "\n",
    "f"
   ]
  },
  {
   "cell_type": "markdown",
   "metadata": {},
   "source": [
    "## use raw DOT\n",
    "\n",
    "To render a ready-made DOT source code string (instead of assembling one with the higher-level interface of Graph or Digraph), create a Source object holding your DOT string:"
   ]
  },
  {
   "cell_type": "code",
   "execution_count": 2,
   "metadata": {
    "collapsed": true
   },
   "outputs": [],
   "source": [
    "from graphviz import Source"
   ]
  },
  {
   "cell_type": "code",
   "execution_count": 3,
   "metadata": {
    "collapsed": true
   },
   "outputs": [],
   "source": [
    "src = Source('digraph \"the holy hand grenade\" { rankdir=LR; \"ML\" -> \"AI\" -> \"IoT\" -> \"Cloud\" }')"
   ]
  },
  {
   "cell_type": "code",
   "execution_count": 4,
   "metadata": {
    "collapsed": false
   },
   "outputs": [
    {
     "data": {
      "image/svg+xml": [
       "<?xml version=\"1.0\" encoding=\"UTF-8\" standalone=\"no\"?>\r\n",
       "<!DOCTYPE svg PUBLIC \"-//W3C//DTD SVG 1.1//EN\"\r\n",
       " \"http://www.w3.org/Graphics/SVG/1.1/DTD/svg11.dtd\">\r\n",
       "<!-- Generated by graphviz version 2.38.0 (20140413.2041)\r\n",
       " -->\r\n",
       "<!-- Title: the holy hand grenade Pages: 1 -->\r\n",
       "<svg width=\"344pt\" height=\"44pt\"\r\n",
       " viewBox=\"0.00 0.00 344.29 44.00\" xmlns=\"http://www.w3.org/2000/svg\" xmlns:xlink=\"http://www.w3.org/1999/xlink\">\r\n",
       "<g id=\"graph0\" class=\"graph\" transform=\"scale(1 1) rotate(0) translate(4 40)\">\r\n",
       "<title>the holy hand grenade</title>\r\n",
       "<polygon fill=\"white\" stroke=\"none\" points=\"-4,4 -4,-40 340.294,-40 340.294,4 -4,4\"/>\r\n",
       "<!-- ML -->\r\n",
       "<g id=\"node1\" class=\"node\"><title>ML</title>\r\n",
       "<ellipse fill=\"none\" stroke=\"black\" cx=\"27\" cy=\"-18\" rx=\"27\" ry=\"18\"/>\r\n",
       "<text text-anchor=\"middle\" x=\"27\" y=\"-14.3\" font-family=\"Times New Roman,serif\" font-size=\"14.00\">ML</text>\r\n",
       "</g>\r\n",
       "<!-- AI -->\r\n",
       "<g id=\"node2\" class=\"node\"><title>AI</title>\r\n",
       "<ellipse fill=\"none\" stroke=\"black\" cx=\"117\" cy=\"-18\" rx=\"27\" ry=\"18\"/>\r\n",
       "<text text-anchor=\"middle\" x=\"117\" y=\"-14.3\" font-family=\"Times New Roman,serif\" font-size=\"14.00\">AI</text>\r\n",
       "</g>\r\n",
       "<!-- ML&#45;&gt;AI -->\r\n",
       "<g id=\"edge1\" class=\"edge\"><title>ML&#45;&gt;AI</title>\r\n",
       "<path fill=\"none\" stroke=\"black\" d=\"M54.4029,-18C62.3932,-18 71.3106,-18 79.8241,-18\"/>\r\n",
       "<polygon fill=\"black\" stroke=\"black\" points=\"79.919,-21.5001 89.919,-18 79.919,-14.5001 79.919,-21.5001\"/>\r\n",
       "</g>\r\n",
       "<!-- IoT -->\r\n",
       "<g id=\"node3\" class=\"node\"><title>IoT</title>\r\n",
       "<ellipse fill=\"none\" stroke=\"black\" cx=\"207\" cy=\"-18\" rx=\"27\" ry=\"18\"/>\r\n",
       "<text text-anchor=\"middle\" x=\"207\" y=\"-14.3\" font-family=\"Times New Roman,serif\" font-size=\"14.00\">IoT</text>\r\n",
       "</g>\r\n",
       "<!-- AI&#45;&gt;IoT -->\r\n",
       "<g id=\"edge2\" class=\"edge\"><title>AI&#45;&gt;IoT</title>\r\n",
       "<path fill=\"none\" stroke=\"black\" d=\"M144.403,-18C152.393,-18 161.311,-18 169.824,-18\"/>\r\n",
       "<polygon fill=\"black\" stroke=\"black\" points=\"169.919,-21.5001 179.919,-18 169.919,-14.5001 169.919,-21.5001\"/>\r\n",
       "</g>\r\n",
       "<!-- Cloud -->\r\n",
       "<g id=\"node4\" class=\"node\"><title>Cloud</title>\r\n",
       "<ellipse fill=\"none\" stroke=\"black\" cx=\"303.147\" cy=\"-18\" rx=\"33.2948\" ry=\"18\"/>\r\n",
       "<text text-anchor=\"middle\" x=\"303.147\" y=\"-14.3\" font-family=\"Times New Roman,serif\" font-size=\"14.00\">Cloud</text>\r\n",
       "</g>\r\n",
       "<!-- IoT&#45;&gt;Cloud -->\r\n",
       "<g id=\"edge3\" class=\"edge\"><title>IoT&#45;&gt;Cloud</title>\r\n",
       "<path fill=\"none\" stroke=\"black\" d=\"M234.225,-18C242.125,-18 251.006,-18 259.677,-18\"/>\r\n",
       "<polygon fill=\"black\" stroke=\"black\" points=\"259.687,-21.5001 269.687,-18 259.687,-14.5001 259.687,-21.5001\"/>\r\n",
       "</g>\r\n",
       "</g>\r\n",
       "</svg>\r\n"
      ],
      "text/plain": [
       "<graphviz.files.Source at 0x7cc240>"
      ]
     },
     "execution_count": 4,
     "metadata": {},
     "output_type": "execute_result"
    }
   ],
   "source": [
    "src"
   ]
  },
  {
   "cell_type": "code",
   "execution_count": 5,
   "metadata": {
    "collapsed": false
   },
   "outputs": [
    {
     "data": {
      "text/plain": [
       "'test-output/holy-grenade.gv.pdf'"
      ]
     },
     "execution_count": 5,
     "metadata": {},
     "output_type": "execute_result"
    }
   ],
   "source": [
    "src.render('test-output/holy-grenade.gv', view=True)  "
   ]
  },
  {
   "cell_type": "code",
   "execution_count": 6,
   "metadata": {
    "collapsed": true
   },
   "outputs": [],
   "source": [
    "src2 = Source(\"\"\" \n",
    "digraph G {\n",
    "  size =\"4,4\";\n",
    "  main [shape=box]; /* this is a comment */\n",
    "  main -> parse [weight=8];\n",
    "  parse -> execute;\n",
    "  main -> init [style=dotted];\n",
    "  main -> cleanup;\n",
    "  execute -> { make_string; printf};\n",
    "  init [shape=circle, color=\"red\"];\n",
    "  init -> make_string;\n",
    "  edge [color=red]; // so is this\n",
    "  main -> printf [style=bold,label=\"100 times\"];\n",
    "  make_string [label=\"make a\\nstring\"];\n",
    "  node [shape=box,style=filled,color=\".7 .3 1.0\"];\n",
    "  execute -> compare;\n",
    "}\n",
    "\"\"\")"
   ]
  },
  {
   "cell_type": "code",
   "execution_count": 7,
   "metadata": {
    "collapsed": false
   },
   "outputs": [
    {
     "data": {
      "image/svg+xml": [
       "<?xml version=\"1.0\" encoding=\"UTF-8\" standalone=\"no\"?>\r\n",
       "<!DOCTYPE svg PUBLIC \"-//W3C//DTD SVG 1.1//EN\"\r\n",
       " \"http://www.w3.org/Graphics/SVG/1.1/DTD/svg11.dtd\">\r\n",
       "<!-- Generated by graphviz version 2.38.0 (20140413.2041)\r\n",
       " -->\r\n",
       "<!-- Title: G Pages: 1 -->\r\n",
       "<svg width=\"253pt\" height=\"288pt\"\r\n",
       " viewBox=\"0.00 0.00 252.52 288.00\" xmlns=\"http://www.w3.org/2000/svg\" xmlns:xlink=\"http://www.w3.org/1999/xlink\">\r\n",
       "<g id=\"graph0\" class=\"graph\" transform=\"scale(0.892646 0.892646) rotate(0) translate(4 318.636)\">\r\n",
       "<title>G</title>\r\n",
       "<polygon fill=\"white\" stroke=\"none\" points=\"-4,4 -4,-318.636 278.894,-318.636 278.894,4 -4,4\"/>\r\n",
       "<!-- main -->\r\n",
       "<g id=\"node1\" class=\"node\"><title>main</title>\r\n",
       "<polygon fill=\"none\" stroke=\"black\" points=\"138.547,-314.636 84.5473,-314.636 84.5473,-278.636 138.547,-278.636 138.547,-314.636\"/>\r\n",
       "<text text-anchor=\"middle\" x=\"111.547\" y=\"-292.936\" font-family=\"Times New Roman,serif\" font-size=\"14.00\">main</text>\r\n",
       "</g>\r\n",
       "<!-- parse -->\r\n",
       "<g id=\"node2\" class=\"node\"><title>parse</title>\r\n",
       "<ellipse fill=\"none\" stroke=\"black\" cx=\"111.547\" cy=\"-223.636\" rx=\"30.5947\" ry=\"18\"/>\r\n",
       "<text text-anchor=\"middle\" x=\"111.547\" y=\"-219.936\" font-family=\"Times New Roman,serif\" font-size=\"14.00\">parse</text>\r\n",
       "</g>\r\n",
       "<!-- main&#45;&gt;parse -->\r\n",
       "<g id=\"edge1\" class=\"edge\"><title>main&#45;&gt;parse</title>\r\n",
       "<path fill=\"none\" stroke=\"black\" d=\"M111.547,-278.449C111.547,-270.426 111.547,-260.684 111.547,-251.705\"/>\r\n",
       "<polygon fill=\"black\" stroke=\"black\" points=\"115.047,-251.665 111.547,-241.665 108.047,-251.665 115.047,-251.665\"/>\r\n",
       "</g>\r\n",
       "<!-- init -->\r\n",
       "<g id=\"node4\" class=\"node\"><title>init</title>\r\n",
       "<ellipse fill=\"none\" stroke=\"red\" cx=\"173.547\" cy=\"-166.188\" rx=\"21.3963\" ry=\"21.3963\"/>\r\n",
       "<text text-anchor=\"middle\" x=\"173.547\" y=\"-162.488\" font-family=\"Times New Roman,serif\" font-size=\"14.00\">init</text>\r\n",
       "</g>\r\n",
       "<!-- main&#45;&gt;init -->\r\n",
       "<g id=\"edge3\" class=\"edge\"><title>main&#45;&gt;init</title>\r\n",
       "<path fill=\"none\" stroke=\"black\" stroke-dasharray=\"1,5\" d=\"M126.942,-278.181C135.197,-268.08 144.989,-254.793 151.547,-241.636 158.447,-227.795 163.581,-211.404 167.147,-197.53\"/>\r\n",
       "<polygon fill=\"black\" stroke=\"black\" points=\"170.625,-198.038 169.571,-187.495 163.821,-196.394 170.625,-198.038\"/>\r\n",
       "</g>\r\n",
       "<!-- cleanup -->\r\n",
       "<g id=\"node5\" class=\"node\"><title>cleanup</title>\r\n",
       "<ellipse fill=\"none\" stroke=\"black\" cx=\"236.547\" cy=\"-223.636\" rx=\"38.1938\" ry=\"18\"/>\r\n",
       "<text text-anchor=\"middle\" x=\"236.547\" y=\"-219.936\" font-family=\"Times New Roman,serif\" font-size=\"14.00\">cleanup</text>\r\n",
       "</g>\r\n",
       "<!-- main&#45;&gt;cleanup -->\r\n",
       "<g id=\"edge4\" class=\"edge\"><title>main&#45;&gt;cleanup</title>\r\n",
       "<path fill=\"none\" stroke=\"black\" d=\"M138.77,-283.83C152.73,-277.466 169.842,-269.179 184.547,-260.636 192.463,-256.037 200.738,-250.616 208.299,-245.395\"/>\r\n",
       "<polygon fill=\"black\" stroke=\"black\" points=\"210.623,-248.039 216.783,-239.419 206.592,-242.316 210.623,-248.039\"/>\r\n",
       "</g>\r\n",
       "<!-- printf -->\r\n",
       "<g id=\"node7\" class=\"node\"><title>printf</title>\r\n",
       "<ellipse fill=\"none\" stroke=\"black\" cx=\"30.5473\" cy=\"-26.8701\" rx=\"30.5947\" ry=\"18\"/>\r\n",
       "<text text-anchor=\"middle\" x=\"30.5473\" y=\"-23.1701\" font-family=\"Times New Roman,serif\" font-size=\"14.00\">printf</text>\r\n",
       "</g>\r\n",
       "<!-- main&#45;&gt;printf -->\r\n",
       "<g id=\"edge8\" class=\"edge\"><title>main&#45;&gt;printf</title>\r\n",
       "<path fill=\"none\" stroke=\"red\" stroke-width=\"2\" d=\"M96.7158,-278.573C88.4387,-268.385 78.4387,-254.885 71.5473,-241.636 39.624,-180.265 32.3913,-97.3545 30.8613,-55.0929\"/>\r\n",
       "<polygon fill=\"red\" stroke=\"red\" stroke-width=\"2\" points=\"34.3579,-54.9195 30.5788,-45.0216 27.3606,-55.1158 34.3579,-54.9195\"/>\r\n",
       "<text text-anchor=\"middle\" x=\"77.5473\" y=\"-162.488\" font-family=\"Times New Roman,serif\" font-size=\"14.00\">100 times</text>\r\n",
       "</g>\r\n",
       "<!-- execute -->\r\n",
       "<g id=\"node3\" class=\"node\"><title>execute</title>\r\n",
       "<ellipse fill=\"none\" stroke=\"black\" cx=\"111.547\" cy=\"-108.74\" rx=\"38.1938\" ry=\"18\"/>\r\n",
       "<text text-anchor=\"middle\" x=\"111.547\" y=\"-105.04\" font-family=\"Times New Roman,serif\" font-size=\"14.00\">execute</text>\r\n",
       "</g>\r\n",
       "<!-- parse&#45;&gt;execute -->\r\n",
       "<g id=\"edge2\" class=\"edge\"><title>parse&#45;&gt;execute</title>\r\n",
       "<path fill=\"none\" stroke=\"black\" d=\"M111.547,-205.49C111.547,-187.337 111.547,-158.42 111.547,-137.109\"/>\r\n",
       "<polygon fill=\"black\" stroke=\"black\" points=\"115.047,-137.048 111.547,-127.048 108.047,-137.048 115.047,-137.048\"/>\r\n",
       "</g>\r\n",
       "<!-- make_string -->\r\n",
       "<g id=\"node6\" class=\"node\"><title>make_string</title>\r\n",
       "<ellipse fill=\"none\" stroke=\"black\" cx=\"201.547\" cy=\"-26.8701\" rx=\"39.6962\" ry=\"26.7407\"/>\r\n",
       "<text text-anchor=\"middle\" x=\"201.547\" y=\"-30.6701\" font-family=\"Times New Roman,serif\" font-size=\"14.00\">make a</text>\r\n",
       "<text text-anchor=\"middle\" x=\"201.547\" y=\"-15.6701\" font-family=\"Times New Roman,serif\" font-size=\"14.00\">string</text>\r\n",
       "</g>\r\n",
       "<!-- execute&#45;&gt;make_string -->\r\n",
       "<g id=\"edge5\" class=\"edge\"><title>execute&#45;&gt;make_string</title>\r\n",
       "<path fill=\"none\" stroke=\"black\" d=\"M128.9,-92.3404C140.709,-81.8605 156.666,-67.7001 170.616,-55.3197\"/>\r\n",
       "<polygon fill=\"black\" stroke=\"black\" points=\"172.965,-57.9149 178.121,-48.6595 168.318,-52.6793 172.965,-57.9149\"/>\r\n",
       "</g>\r\n",
       "<!-- execute&#45;&gt;printf -->\r\n",
       "<g id=\"edge6\" class=\"edge\"><title>execute&#45;&gt;printf</title>\r\n",
       "<path fill=\"none\" stroke=\"black\" d=\"M95.5443,-91.9604C83.4424,-80.0273 66.6661,-63.485 53.1889,-50.1958\"/>\r\n",
       "<polygon fill=\"black\" stroke=\"black\" points=\"55.2732,-47.3357 45.6952,-42.8066 50.3583,-52.3201 55.2732,-47.3357\"/>\r\n",
       "</g>\r\n",
       "<!-- compare -->\r\n",
       "<g id=\"node8\" class=\"node\"><title>compare</title>\r\n",
       "<polygon fill=\"#c1b2ff\" stroke=\"#c1b2ff\" points=\"144.047,-44.8701 79.0473,-44.8701 79.0473,-8.87006 144.047,-8.87006 144.047,-44.8701\"/>\r\n",
       "<text text-anchor=\"middle\" x=\"111.547\" y=\"-23.1701\" font-family=\"Times New Roman,serif\" font-size=\"14.00\">compare</text>\r\n",
       "</g>\r\n",
       "<!-- execute&#45;&gt;compare -->\r\n",
       "<g id=\"edge9\" class=\"edge\"><title>execute&#45;&gt;compare</title>\r\n",
       "<path fill=\"none\" stroke=\"red\" d=\"M111.547,-90.4095C111.547,-80.0823 111.547,-66.7479 111.547,-55.0464\"/>\r\n",
       "<polygon fill=\"red\" stroke=\"red\" points=\"115.047,-54.8924 111.547,-44.8925 108.047,-54.8925 115.047,-54.8924\"/>\r\n",
       "</g>\r\n",
       "<!-- init&#45;&gt;make_string -->\r\n",
       "<g id=\"edge7\" class=\"edge\"><title>init&#45;&gt;make_string</title>\r\n",
       "<path fill=\"none\" stroke=\"black\" d=\"M177.679,-144.926C182.03,-123.587 188.969,-89.5579 194.246,-63.677\"/>\r\n",
       "<polygon fill=\"black\" stroke=\"black\" points=\"197.681,-64.3476 196.25,-53.8499 190.822,-62.949 197.681,-64.3476\"/>\r\n",
       "</g>\r\n",
       "</g>\r\n",
       "</svg>\r\n"
      ],
      "text/plain": [
       "<graphviz.files.Source at 0x4c9fc18>"
      ]
     },
     "execution_count": 7,
     "metadata": {},
     "output_type": "execute_result"
    }
   ],
   "source": [
    "src2"
   ]
  },
  {
   "cell_type": "code",
   "execution_count": null,
   "metadata": {
    "collapsed": true
   },
   "outputs": [],
   "source": []
  }
 ],
 "metadata": {
  "anaconda-cloud": {},
  "kernelspec": {
   "display_name": "Python [default]",
   "language": "python",
   "name": "python3"
  },
  "language_info": {
   "codemirror_mode": {
    "name": "ipython",
    "version": 3
   },
   "file_extension": ".py",
   "mimetype": "text/x-python",
   "name": "python",
   "nbconvert_exporter": "python",
   "pygments_lexer": "ipython3",
   "version": "3.5.2"
  }
 },
 "nbformat": 4,
 "nbformat_minor": 1
}
