{
 "cells": [
  {
   "cell_type": "markdown",
   "metadata": {},
   "source": [
    "# Pride & Prejudice analysis"
   ]
  },
  {
   "cell_type": "markdown",
   "metadata": {},
   "source": [
    "# Real text analysis\n",
    "\n",
    "We got familiar with Spacy. In the next section we are going to analyse a real text (Pride & Prejudice). \n",
    "\n",
    "We would like to:\n",
    "* Extract the names of all the characters from the book (e.g. Elizabeth, Darcy, Bingley)\n",
    "* Visualize characters' occurences with regards to relative position in the book\n",
    "* Authomatically describe any character from the book\n",
    "* Find out which characters have been mentioned in a context of marriage\n",
    "* Build keywords extraction that could be used to display a word cloud ([example](http://www.cytora.com/data-samples.html))"
   ]
  },
  {
   "cell_type": "markdown",
   "metadata": {},
   "source": [
    "## Load text file"
   ]
  },
  {
   "cell_type": "code",
   "execution_count": 4,
   "metadata": {
    "collapsed": false
   },
   "outputs": [],
   "source": [
    "def read_file(file_name):\n",
    "    with open(file_name, 'r') as file:\n",
    "        return file.read()  #.decode('utf-8')"
   ]
  },
  {
   "cell_type": "markdown",
   "metadata": {},
   "source": [
    "## Process full text"
   ]
  },
  {
   "cell_type": "code",
   "execution_count": 5,
   "metadata": {
    "collapsed": false
   },
   "outputs": [],
   "source": [
    "import spacy\n",
    "\n",
    "nlp = spacy.load('en')\n",
    "\n",
    "# Process `text` with Spacy NLP Parser\n",
    "text = read_file('data/pride_and_prejudice.txt')\n",
    "processed_text = nlp(text)"
   ]
  },
  {
   "cell_type": "code",
   "execution_count": 6,
   "metadata": {
    "collapsed": false
   },
   "outputs": [
    {
     "name": "stdout",
     "output_type": "stream",
     "text": [
      "5464\n",
      "[\"What is his name?\"\n",
      "\n",
      "\"Bingley.\"\n",
      "\n",
      ", \"Is he married or single?\"\n",
      "\n",
      "\"Oh!, Single, my dear, to be sure!, A single man of large fortune; four or\n",
      "five thousand a year., What a fine thing for our girls!\"\n",
      "\n",
      "]\n"
     ]
    }
   ],
   "source": [
    "# How many sentences are in the book (Pride & Prejudice)?\n",
    "sentences = [s for s in processed_text.sents]\n",
    "print(len(sentences))\n",
    "\n",
    "# Print sentences from index 10 to index 15, to make sure that we have parsed the correct book\n",
    "print(sentences[10:15])"
   ]
  },
  {
   "cell_type": "markdown",
   "metadata": {},
   "source": [
    "## Find all the personal names"
   ]
  },
  {
   "cell_type": "code",
   "execution_count": null,
   "metadata": {
    "collapsed": true
   },
   "outputs": [],
   "source": [
    "# Extract all the personal names from Pride & Prejudice and count their occurrences. \n",
    "# Expected output is a list in the following form: [('elizabeth', 622), ('darcy', 312), ('jane', 286), ('bennet', 266) ...].\n",
    "\n",
    "from collections import Counter, defaultdict\n",
    "\n",
    "def find_character_occurences(doc):\n",
    "    \"\"\"\n",
    "    Return a list of actors from `doc` with corresponding occurences.\n",
    "    \n",
    "    :param doc: Spacy NLP parsed document\n",
    "    :return: list of tuples in form\n",
    "        [('elizabeth', 622), ('darcy', 312), ('jane', 286), ('bennet', 266)]\n",
    "    \"\"\"\n",
    "    \n",
    "    characters = Counter()\n",
    "    for ent in doc.ents:\n",
    "        if ent.label_ == 'PERSON':\n",
    "            characters[ent.lemma_] += 1\n",
    "            \n",
    "    return characters.most_common()"
   ]
  },
  {
   "cell_type": "code",
   "execution_count": 11,
   "metadata": {
    "collapsed": false
   },
   "outputs": [
    {
     "data": {
      "text/plain": [
       "[('elizabeth', 608),\n",
       " ('darcy', 288),\n",
       " ('jane', 286),\n",
       " ('bennet', 248),\n",
       " ('wickham', 179),\n",
       " ('collins', 175),\n",
       " ('bingley', 166),\n",
       " ('lydia', 160),\n",
       " ('lizzy', 92),\n",
       " ('gardiner', 91),\n",
       " ('lady catherine', 71),\n",
       " ('kitty', 69),\n",
       " ('mary', 36),\n",
       " ('hurst', 32),\n",
       " ('phillips', 30),\n",
       " ('miss bingley', 30),\n",
       " ('catherine', 24),\n",
       " ('longbourn', 24),\n",
       " ('forster', 22)]"
      ]
     },
     "execution_count": 11,
     "metadata": {},
     "output_type": "execute_result"
    }
   ],
   "source": [
    "[n for n in find_character_occurences(processed_text)[:20] if n[0]]"
   ]
  },
  {
   "cell_type": "markdown",
   "metadata": {},
   "source": [
    "## Plot characters personal names as a time series "
   ]
  },
  {
   "cell_type": "code",
   "execution_count": 12,
   "metadata": {
    "collapsed": false
   },
   "outputs": [],
   "source": [
    "# Matplotlib Jupyter HACK\n",
    "%matplotlib inline\n",
    "\n",
    "import matplotlib\n",
    "import numpy as np\n",
    "import matplotlib.pyplot as plt"
   ]
  },
  {
   "cell_type": "code",
   "execution_count": 13,
   "metadata": {
    "collapsed": false
   },
   "outputs": [],
   "source": [
    "# Plot characters' mentions as a time series relative to the position of the actor's occurrence in a book.\n",
    "\n",
    "def get_character_offsets(doc):\n",
    "    \"\"\"\n",
    "    For every character in a `doc` collect all the occurences offsets and store them into a list. \n",
    "    The function returns a dictionary that has actor lemma as a key and list of occurences as a value for every character.\n",
    "    \n",
    "    :param doc: Spacy NLP parsed document\n",
    "    :return: dict object in form\n",
    "        {'elizabeth': [123, 543, 4534], 'darcy': [205, 2111]}\n",
    "    \"\"\"\n",
    "    \n",
    "    character_offsets = defaultdict(list)\n",
    "    for ent in doc.ents:\n",
    "        if ent.label_ == 'PERSON':\n",
    "            character_offsets[ent.lemma_].append(ent.start)\n",
    "            \n",
    "    return dict(character_offsets)\n",
    "\n",
    "character_occurences = get_character_offsets(processed_text)"
   ]
  },
  {
   "cell_type": "code",
   "execution_count": 14,
   "metadata": {
    "collapsed": false
   },
   "outputs": [
    {
     "data": {
      "image/png": "[encoded data removed]",
      "text/plain": [
       "<matplotlib.figure.Figure at 0xb1e60f0>"
      ]
     },
     "metadata": {},
     "output_type": "display_data"
    }
   ],
   "source": [
    "from matplotlib.pyplot import hist\n",
    "from cycler import cycler\n",
    "\n",
    "NUM_BINS = 10\n",
    "\n",
    "def normalize(occurencies, normalization_constant):\n",
    "    return [o / float(len(processed_text)) for o in occurencies]\n",
    "\n",
    "def plot_character_timeseries(character_offsets, character_labels, normalization_constant=None):\n",
    "    \"\"\"\n",
    "    Plot characters' personal names specified in `character_labels` list as time series.\n",
    "    \n",
    "    :param character_offsets: dict object in form {'elizabeth': [123, 543, 4534], 'darcy': [205, 2111]}\n",
    "    :param character_labels: list of strings that should match some of the keys in `character_offsets`\n",
    "    :param normalization_constant: int\n",
    "    \"\"\"\n",
    "    x = [character_offsets[character_label] for character_label in character_labels] \n",
    "        \n",
    "    with plt.style.context('fivethirtyeight'):\n",
    "        plt.figure()\n",
    "        n, bins, patches = plt.hist(x, NUM_BINS, label=character_labels)\n",
    "        plt.clf()\n",
    "        \n",
    "        ax = plt.subplot(111)\n",
    "        for i, a in enumerate(n):\n",
    "            ax.plot([float(x) / (NUM_BINS - 1) for x in range(len(a))], a, label=character_labels[i])\n",
    "            \n",
    "        matplotlib.rcParams['axes.prop_cycle'] = cycler(color=['r','k','c','b','y','m','g','#54a1FF'])\n",
    "        ax.legend(loc='center left', bbox_to_anchor=(1, 0.5))\n",
    "\n",
    "#plot_character_timeseries(character_occurences, ['darcy', 'bingley'], normalization_constant=len(processed_text))\n",
    "plot_character_timeseries(character_occurences, ['darcy', 'bingley'])"
   ]
  },
  {
   "cell_type": "markdown",
   "metadata": {},
   "source": [
    "## Spacy parse tree in action"
   ]
  },
  {
   "cell_type": "code",
   "execution_count": 16,
   "metadata": {
    "collapsed": false
   },
   "outputs": [],
   "source": [
    "# Find words (adjectives) that describe Mr. Darcy.\n",
    "\n",
    "def get_character_adjectives(doc, character_lemma):\n",
    "    \"\"\"\n",
    "    Find all the adjectives related to `character_lemma` in `doc`\n",
    "    \n",
    "    :param doc: Spacy NLP parsed document\n",
    "    :param character_lemma: string object\n",
    "    :return: list of adjectives related to `character_lemma`\n",
    "    \"\"\"\n",
    "    \n",
    "    adjectives = []\n",
    "    for ent in processed_text.ents:\n",
    "        if ent.lemma_ == character_lemma:\n",
    "            for token in ent.subtree:\n",
    "                if token.pos_ == 'ADJ': # Replace with if token.dep_ == 'amod':\n",
    "                    adjectives.append(token.lemma_)\n",
    "    \n",
    "    for ent in processed_text.ents:\n",
    "        if ent.lemma_ == character_lemma:\n",
    "            if ent.root.dep_ == 'nsubj':\n",
    "                for child in ent.root.head.children:\n",
    "                    if child.dep_ == 'acomp':\n",
    "                        adjectives.append(child.lemma_)\n",
    "    \n",
    "    return adjectives\n",
    "\n",
    "ch_adjs = get_character_adjectives(processed_text, 'darcy')"
   ]
  },
  {
   "cell_type": "code",
   "execution_count": 20,
   "metadata": {
    "collapsed": false
   },
   "outputs": [
    {
     "data": {
      "text/plain": [
       "['abominable',\n",
       " 'all',\n",
       " 'answerable',\n",
       " 'ashamed',\n",
       " 'bad',\n",
       " 'bewitch',\n",
       " 'clever',\n",
       " 'confidential',\n",
       " 'dear',\n",
       " 'deficient',\n",
       " 'delighted',\n",
       " 'disappointing',\n",
       " 'eld',\n",
       " 'engaged',\n",
       " 'equal',\n",
       " 'few',\n",
       " 'fond',\n",
       " 'good',\n",
       " 'grave',\n",
       " 'handsome',\n",
       " 'heightened',\n",
       " 'impatient',\n",
       " 'intimate',\n",
       " 'last',\n",
       " 'late',\n",
       " 'little',\n",
       " 'many',\n",
       " 'much',\n",
       " 'natured',\n",
       " 'opposite',\n",
       " 'own',\n",
       " 'poor',\n",
       " 'present',\n",
       " 'proud',\n",
       " 'punctual',\n",
       " 'same',\n",
       " 'selfish',\n",
       " 'sensible',\n",
       " 'studious',\n",
       " 'such',\n",
       " 'superior',\n",
       " 'sure',\n",
       " 'surprised',\n",
       " 'tall',\n",
       " 'that',\n",
       " 'tranquil',\n",
       " 'true',\n",
       " 'unappeasable',\n",
       " 'unwilling',\n",
       " 'unworthy',\n",
       " 'which',\n",
       " 'whose',\n",
       " 'worth',\n",
       " 'wretched']"
      ]
     },
     "execution_count": 20,
     "metadata": {},
     "output_type": "execute_result"
    }
   ],
   "source": [
    "ch_adjs = list(set(ch_adjs))  # dedup\n",
    "ch_adjs = sorted([c for c in ch_adjs if not ('-' in c or '_' in c)])\n",
    "ch_adjs"
   ]
  },
  {
   "cell_type": "code",
   "execution_count": 21,
   "metadata": {
    "collapsed": false
   },
   "outputs": [
    {
     "data": {
      "text/plain": [
       "[('Elizabeth', 40),\n",
       " ('Bennet', 27),\n",
       " ('Jane', 15),\n",
       " ('Miss Bingley', 7),\n",
       " ('Gardiner', 5),\n",
       " ('Lydia', 5),\n",
       " ('Darcy', 4),\n",
       " ('Wickham', 4),\n",
       " ('Lady Catherine', 4),\n",
       " ('Collins', 4)]"
      ]
     },
     "execution_count": 21,
     "metadata": {},
     "output_type": "execute_result"
    }
   ],
   "source": [
    "# Find characters that are 'talking', 'saying', 'doing' the most. Find the relationship between \n",
    "# entities and corresponding root verbs.\n",
    "\n",
    "character_verb_counter = Counter()\n",
    "VERB_LEMMA = 'say'\n",
    "\n",
    "for ent in processed_text.ents:\n",
    "    if ent.label_ == 'PERSON' and ent.root.head.lemma_ == VERB_LEMMA:\n",
    "        character_verb_counter[ent.text] += 1\n",
    "\n",
    "character_verb_counter.most_common(10)\n",
    "        \n",
    "# Find all the characters that got married in the book.\n",
    "#\n",
    "# Here is an example sentence from which this information could be extracted:\n",
    "# \n",
    "# \"her mother was talking to that one person (Lady Lucas) freely,\n",
    "# openly, and of nothing else but her expectation that Jane would soon\n",
    "# be married to Mr. Bingley.\"\n",
    "#\n"
   ]
  },
  {
   "cell_type": "markdown",
   "metadata": {},
   "source": [
    "## Extract Keywords"
   ]
  },
  {
   "cell_type": "code",
   "execution_count": 22,
   "metadata": {
    "collapsed": false
   },
   "outputs": [
    {
     "data": {
      "text/plain": [
       "[('-PRON-', 16),\n",
       " ('terrorism', 3),\n",
       " ('al - qaeda', 3),\n",
       " ('many country', 2),\n",
       " ('the ministry', 2),\n",
       " ('the responsibility', 2),\n",
       " ('interior', 2),\n",
       " ('social medium', 2),\n",
       " ('religion', 2),\n",
       " ('daesh', 2),\n",
       " ('saudi arabia', 2),\n",
       " ('excommunication', 2),\n",
       " ('god', 1),\n",
       " ('tyrant', 1),\n",
       " ('discussion', 1),\n",
       " ('-PRON- ideology', 1),\n",
       " ('the emergence', 1),\n",
       " ('the youth', 1),\n",
       " ('security expertise', 1),\n",
       " ('such a discourse', 1)]"
      ]
     },
     "execution_count": 22,
     "metadata": {},
     "output_type": "execute_result"
    }
   ],
   "source": [
    "# Extract Keywords using noun chunks from the news article (file 'article.txt').\n",
    "# Spacy will pick some noun chunks that are not informative at all (e.g. we, what, who).\n",
    "# Try to find a way to remove non informative keywords.\n",
    "\n",
    "article = read_file('data/article.txt')\n",
    "doc = nlp(article)\n",
    "\n",
    "keywords = Counter()\n",
    "for chunk in doc.noun_chunks:\n",
    "    if nlp.vocab[chunk.lemma_].prob < - 8: # probablity value -8 is arbitrarily selected threshold\n",
    "        keywords[chunk.lemma_] += 1\n",
    "\n",
    "keywords.most_common(20)"
   ]
  },
  {
   "cell_type": "code",
   "execution_count": null,
   "metadata": {
    "collapsed": true
   },
   "outputs": [],
   "source": []
  }
 ],
 "metadata": {
  "kernelspec": {
   "display_name": "Python [default]",
   "language": "python",
   "name": "python3"
  },
  "language_info": {
   "codemirror_mode": {
    "name": "ipython",
    "version": 3
   },
   "file_extension": ".py",
   "mimetype": "text/x-python",
   "name": "python",
   "nbconvert_exporter": "python",
   "pygments_lexer": "ipython3",
   "version": "3.5.2"
  }
 },
 "nbformat": 4,
 "nbformat_minor": 1
}
