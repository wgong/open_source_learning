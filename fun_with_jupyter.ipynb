{
 "cells": [
  {
   "cell_type": "markdown",
   "metadata": {},
   "source": [
    "# Have Fun with [Jupyter](http://jupyter.org/)"
   ]
  },
  {
   "cell_type": "markdown",
   "metadata": {},
   "source": [
    "## Table of Contents\n",
    "\n",
    "* [Introduction](#hid_intro)\n",
    "* [Problem Statement](#hid_problem)\n",
    "* [Import packages](#hid_pkg)\n",
    "* [Estimate x range](#hid_guess)\n",
    "* [Use IPython as a calculator](#hid_calculator)\n",
    "* [Use Python programming to find solution](#hid_program)\n",
    "* [Graph the solution with matplotlib](#hid_graph)\n",
    "* [Solve equation precisely using SymPy](#hid_sympy)\n",
    "* [Pandas for Big Data Analytics](#hid_panda)\n",
    "* [Multimedia with HTML5 -Text, Image, Audio, Video](#hid_html5)\n",
    "* [Interactive widgets](#hid_widget)\n",
    "* [References](#hid_ref)\n",
    "* [Contributors](#hid_author)"
   ]
  },
  {
   "cell_type": "markdown",
   "metadata": {},
   "source": [
    "## Introduction  <a class=\"anchor\" id=\"hid_intro\"></a>"
   ]
  },
  {
   "cell_type": "markdown",
   "metadata": {},
   "source": [
    "Quoting [jupyter.org](http://jupyter.org/) :\n",
    "> The Jupyter Notebook is an open-source web application that allows you to create and share documents that contain live code, equations, visualizations and explanatory text. Uses include: data cleaning and transformation, numerical simulation, statistical modeling, machine learning and much more.\n",
    "\n",
    "\n",
    "By solving a simple math problem here, I hope to demonstrate many basic cool features of Jupyter Notebook. This excellent tool is useful for many tasks such as\n",
    "\n",
    "* Learning\n",
    "* Research\n",
    "* Documenting work\n",
    "* Collaborating\n",
    "* Communicating\n",
    "* Publishing results\n"
   ]
  },
  {
   "cell_type": "markdown",
   "metadata": {},
   "source": [
    "## Problem Statement <a class=\"anchor\" id=\"hid_problem\"></a>"
   ]
  },
  {
   "cell_type": "markdown",
   "metadata": {},
   "source": [
    "A hot startup is developing an innovative Data Analytics product. \n",
    "\n",
    "In 2014, it hired 30 employees; 3 years later, its head count grows to 250.\n",
    "\n",
    "Question: What is its annual growth rate?\n",
    "\n",
    "_Translate into math:_\n",
    "\n",
    "Let $x$ be annual growth rate, then\n",
    "$$ 30 \\cdot (1 + x)^3 = 250 $$"
   ]
  },
  {
   "cell_type": "markdown",
   "metadata": {},
   "source": [
    "## Import packages  <a class=\"anchor\" id=\"hid_pkg\"></a>"
   ]
  },
  {
   "cell_type": "code",
   "execution_count": 1,
   "metadata": {
    "collapsed": true
   },
   "outputs": [],
   "source": [
    "# math function\n",
    "import math\n",
    "\n",
    "# create np array\n",
    "import numpy as np\n",
    "\n",
    "# pandas for data analysis\n",
    "import pandas as pd\n",
    "\n",
    "# plotting\n",
    "import matplotlib.pyplot as plt\n",
    "%matplotlib inline\n",
    "\n",
    "# symbolic math\n",
    "import sympy as sy\n",
    "\n",
    "# html5\n",
    "from IPython.display import HTML, SVG, YouTubeVideo\n",
    "\n",
    "# widgets\n",
    "from collections import OrderedDict\n",
    "from IPython.display import display, clear_output\n",
    "from ipywidgets import Dropdown"
   ]
  },
  {
   "cell_type": "markdown",
   "metadata": {},
   "source": [
    "## Estimate x range  <a class=\"anchor\" id=\"hid_guess\"></a>"
   ]
  },
  {
   "cell_type": "markdown",
   "metadata": {},
   "source": [
    "If $x$ = 1, then _l.h.s_ = 240, therefore $x$ > 1"
   ]
  },
  {
   "cell_type": "markdown",
   "metadata": {},
   "source": [
    "If $x$ = 1.2, then l.h.s = "
   ]
  },
  {
   "cell_type": "code",
   "execution_count": 2,
   "metadata": {
    "collapsed": false
   },
   "outputs": [
    {
     "data": {
      "text/plain": [
       "319.4400000000001"
      ]
     },
     "execution_count": 2,
     "metadata": {},
     "output_type": "execute_result"
    }
   ],
   "source": [
    "30*(1+1.2)**3"
   ]
  },
  {
   "cell_type": "markdown",
   "metadata": {},
   "source": [
    "therefore  we know $x$ range = (1.0, 1.2)"
   ]
  },
  {
   "cell_type": "markdown",
   "metadata": {},
   "source": [
    "## Use IPython as a calculator  <a class=\"anchor\" id=\"hid_calculator\"></a>"
   ]
  },
  {
   "cell_type": "code",
   "execution_count": 3,
   "metadata": {
    "collapsed": true
   },
   "outputs": [],
   "source": [
    "# import math"
   ]
  },
  {
   "cell_type": "code",
   "execution_count": 4,
   "metadata": {
    "collapsed": false
   },
   "outputs": [
    {
     "data": {
      "text/plain": [
       "1.0274006651911334"
      ]
     },
     "execution_count": 4,
     "metadata": {},
     "output_type": "execute_result"
    }
   ],
   "source": [
    "math.exp(math.log(250/30)/3) - 1"
   ]
  },
  {
   "cell_type": "code",
   "execution_count": 5,
   "metadata": {
    "collapsed": false
   },
   "outputs": [
    {
     "data": {
      "text/plain": [
       "1.0274006651911334"
      ]
     },
     "execution_count": 5,
     "metadata": {},
     "output_type": "execute_result"
    }
   ],
   "source": [
    "10**(math.log10(250/30)/3) - 1"
   ]
  },
  {
   "cell_type": "code",
   "execution_count": 6,
   "metadata": {
    "collapsed": false
   },
   "outputs": [
    {
     "data": {
      "text/plain": [
       "1.0274006651911334"
      ]
     },
     "execution_count": 6,
     "metadata": {},
     "output_type": "execute_result"
    }
   ],
   "source": [
    "math.pow(10, math.log10(250/30)/3) -1"
   ]
  },
  {
   "cell_type": "markdown",
   "metadata": {},
   "source": [
    "** Data Analytics team annual growth rate = 102% **"
   ]
  },
  {
   "cell_type": "markdown",
   "metadata": {},
   "source": [
    "## Use Python programming to find solution  <a class=\"anchor\" id=\"hid_program\"></a>"
   ]
  },
  {
   "cell_type": "markdown",
   "metadata": {},
   "source": [
    "### use loop"
   ]
  },
  {
   "cell_type": "code",
   "execution_count": 7,
   "metadata": {
    "collapsed": false
   },
   "outputs": [
    {
     "data": {
      "text/plain": [
       "list"
      ]
     },
     "execution_count": 7,
     "metadata": {},
     "output_type": "execute_result"
    }
   ],
   "source": [
    "nstep = 100\n",
    "x_min, x_max = 1.0, 1.2\n",
    "dd = (x_max-x_min)/float(nstep)\n",
    "x_l = [(x_min + i*dd) for i in range(nstep)]\n",
    "type(x_l)"
   ]
  },
  {
   "cell_type": "code",
   "execution_count": 8,
   "metadata": {
    "collapsed": false
   },
   "outputs": [
    {
     "name": "stdout",
     "output_type": "stream",
     "text": [
      "[1.0, 1.002, 1.004, 1.006, 1.008, 1.01, 1.012, 1.014, 1.016, 1.018, 1.02, 1.022, 1.024, 1.026, 1.028, 1.03, 1.032, 1.034, 1.036, 1.038, 1.04, 1.042, 1.044, 1.046, 1.048, 1.05, 1.052, 1.054, 1.056, 1.058, 1.06, 1.062, 1.064, 1.066, 1.068, 1.07, 1.072, 1.074, 1.076, 1.078, 1.08, 1.082, 1.084, 1.086, 1.088, 1.09, 1.092, 1.094, 1.096, 1.0979999999999999, 1.1, 1.1019999999999999, 1.104, 1.1059999999999999, 1.108, 1.1099999999999999, 1.1119999999999999, 1.1139999999999999, 1.1159999999999999, 1.1179999999999999, 1.1199999999999999, 1.1219999999999999, 1.1239999999999999, 1.126, 1.128, 1.13, 1.132, 1.134, 1.136, 1.138, 1.14, 1.142, 1.144, 1.146, 1.148, 1.15, 1.152, 1.154, 1.156, 1.158, 1.16, 1.162, 1.164, 1.166, 1.168, 1.17, 1.172, 1.174, 1.176, 1.178, 1.18, 1.182, 1.184, 1.186, 1.188, 1.19, 1.192, 1.194, 1.196, 1.198]\n"
     ]
    }
   ],
   "source": [
    "print(x_l)"
   ]
  },
  {
   "cell_type": "code",
   "execution_count": 9,
   "metadata": {
    "collapsed": false
   },
   "outputs": [
    {
     "name": "stdout",
     "output_type": "stream",
     "text": [
      "t=1.026: error=0.5178\n",
      "t=1.028: error=0.2218\n",
      "t=1.03: error=0.9628\n"
     ]
    }
   ],
   "source": [
    "for t in x_l:\n",
    "    err = abs(30*(1+t)**3 - 250)\n",
    "    if err <= 1.0:\n",
    "        print(\"t={x}: error={e:.4f}\".format(x=t,e=err))"
   ]
  },
  {
   "cell_type": "markdown",
   "metadata": {},
   "source": [
    "### create a numpy array"
   ]
  },
  {
   "cell_type": "code",
   "execution_count": 10,
   "metadata": {
    "collapsed": true
   },
   "outputs": [],
   "source": [
    "# import numpy as np\n",
    "# import pandas as pd"
   ]
  },
  {
   "cell_type": "code",
   "execution_count": 11,
   "metadata": {
    "collapsed": false
   },
   "outputs": [
    {
     "name": "stdout",
     "output_type": "stream",
     "text": [
      "[1.0, 1.002, 1.004, 1.006, 1.008, 1.01, 1.012, 1.014, 1.016, 1.018, 1.02, 1.022, 1.024, 1.026, 1.028, 1.03, 1.032, 1.034, 1.036, 1.038, 1.04, 1.042, 1.044, 1.046, 1.048, 1.05, 1.052, 1.054, 1.056, 1.058, 1.06, 1.062, 1.064, 1.066, 1.068, 1.07, 1.072, 1.074, 1.076, 1.078, 1.08, 1.082, 1.084, 1.086, 1.088, 1.09, 1.092, 1.094, 1.096, 1.0979999999999999, 1.1, 1.1019999999999999, 1.104, 1.1059999999999999, 1.108, 1.1099999999999999, 1.1119999999999999, 1.1139999999999999, 1.1159999999999999, 1.1179999999999999, 1.1199999999999999, 1.1219999999999999, 1.1239999999999999, 1.126, 1.128, 1.13, 1.132, 1.134, 1.136, 1.138, 1.14, 1.142, 1.144, 1.146, 1.148, 1.15, 1.152, 1.154, 1.156, 1.158, 1.16, 1.162, 1.164, 1.166, 1.168, 1.17, 1.172, 1.174, 1.176, 1.178, 1.18, 1.182, 1.184, 1.186, 1.188, 1.19, 1.192, 1.194, 1.196, 1.198]\n"
     ]
    }
   ],
   "source": [
    "print(x_l)"
   ]
  },
  {
   "cell_type": "markdown",
   "metadata": {},
   "source": [
    "####  using arange()"
   ]
  },
  {
   "cell_type": "code",
   "execution_count": 12,
   "metadata": {
    "collapsed": false
   },
   "outputs": [
    {
     "name": "stdout",
     "output_type": "stream",
     "text": [
      "[ 1.     1.005  1.01   1.015  1.02   1.025  1.03   1.035  1.04   1.045\n",
      "  1.05   1.055  1.06   1.065  1.07   1.075  1.08   1.085  1.09   1.095  1.1\n",
      "  1.105  1.11   1.115  1.12   1.125  1.13   1.135  1.14   1.145  1.15\n",
      "  1.155  1.16   1.165  1.17   1.175  1.18   1.185  1.19   1.195]\n"
     ]
    }
   ],
   "source": [
    "x = np.arange(1.0, 1.2, 0.005)\n",
    "print(x)"
   ]
  },
  {
   "cell_type": "markdown",
   "metadata": {},
   "source": [
    "check its type"
   ]
  },
  {
   "cell_type": "code",
   "execution_count": 13,
   "metadata": {
    "collapsed": false
   },
   "outputs": [
    {
     "data": {
      "text/plain": [
       "numpy.ndarray"
      ]
     },
     "execution_count": 13,
     "metadata": {},
     "output_type": "execute_result"
    }
   ],
   "source": [
    "type(x)"
   ]
  },
  {
   "cell_type": "code",
   "execution_count": 14,
   "metadata": {
    "collapsed": false
   },
   "outputs": [
    {
     "data": {
      "text/plain": [
       "40"
      ]
     },
     "execution_count": 14,
     "metadata": {},
     "output_type": "execute_result"
    }
   ],
   "source": [
    "len(x)"
   ]
  },
  {
   "cell_type": "code",
   "execution_count": 15,
   "metadata": {
    "collapsed": false
   },
   "outputs": [
    {
     "name": "stdout",
     "output_type": "stream",
     "text": [
      "[-10.          -8.19549625  -6.38197     -4.55939875  -2.72776     -0.88703125\n",
      "   0.96281      2.82178625   4.68992      6.56723375   8.45375     10.34949125\n",
      "  12.25448     14.16873875  16.09229     18.02515625  19.96736     21.91892375\n",
      "  23.87987     25.85022125  27.83        29.81922875  31.81793     33.82612625\n",
      "  35.84384     37.87109375  39.90791     41.95431125  44.01032     46.07595875\n",
      "  48.15125     50.23621625  52.33088     54.43526375  56.54939     58.67328125\n",
      "  60.80696     62.95044875  65.10377     67.26694625]\n"
     ]
    }
   ],
   "source": [
    "print(30*(1+x)**3 - 250)"
   ]
  },
  {
   "cell_type": "code",
   "execution_count": 16,
   "metadata": {
    "collapsed": false
   },
   "outputs": [
    {
     "data": {
      "text/plain": [
       "array([False, False, False, False, False, False,  True,  True,  True,\n",
       "        True,  True,  True,  True,  True,  True,  True,  True,  True,\n",
       "        True,  True,  True,  True,  True,  True,  True,  True,  True,\n",
       "        True,  True,  True,  True,  True,  True,  True,  True,  True,\n",
       "        True,  True,  True,  True], dtype=bool)"
      ]
     },
     "execution_count": 16,
     "metadata": {},
     "output_type": "execute_result"
    }
   ],
   "source": [
    "x_ge_0 = (30*(1+x)**3 - 250) >= 0\n",
    "x_ge_0"
   ]
  },
  {
   "cell_type": "code",
   "execution_count": 17,
   "metadata": {
    "collapsed": false
   },
   "outputs": [
    {
     "data": {
      "text/plain": [
       "array([ True,  True,  True,  True,  True,  True, False, False, False,\n",
       "       False, False, False, False, False, False, False, False, False,\n",
       "       False, False, False, False, False, False, False, False, False,\n",
       "       False, False, False, False, False, False, False, False, False,\n",
       "       False, False, False, False], dtype=bool)"
      ]
     },
     "execution_count": 17,
     "metadata": {},
     "output_type": "execute_result"
    }
   ],
   "source": [
    "x_lt_0 = (30*(1+x)**3 - 250) < 0\n",
    "x_lt_0"
   ]
  },
  {
   "cell_type": "markdown",
   "metadata": {},
   "source": [
    "x_ge_0 and x_lt_0 are logical array"
   ]
  },
  {
   "cell_type": "code",
   "execution_count": 18,
   "metadata": {
    "collapsed": false
   },
   "outputs": [
    {
     "name": "stdout",
     "output_type": "stream",
     "text": [
      "t=1.0249999999999995: error=0.8870\n",
      "t=1.0299999999999994: error=0.9628\n"
     ]
    }
   ],
   "source": [
    "for t in x:\n",
    "    err = abs(30*(1+t)**3 - 250)\n",
    "    if err <= 1.0:\n",
    "        print(\"t={x}: error={e:.4f}\".format(x=t,e=err))"
   ]
  },
  {
   "cell_type": "markdown",
   "metadata": {},
   "source": [
    "#### using [linspace](https://docs.scipy.org/doc/numpy/reference/generated/numpy.linspace.html)"
   ]
  },
  {
   "cell_type": "code",
   "execution_count": 19,
   "metadata": {
    "collapsed": false
   },
   "outputs": [
    {
     "data": {
      "text/plain": [
       "array([ 1.        ,  1.0020202 ,  1.0040404 ,  1.00606061,  1.00808081,\n",
       "        1.01010101,  1.01212121,  1.01414141,  1.01616162,  1.01818182,\n",
       "        1.02020202,  1.02222222,  1.02424242,  1.02626263,  1.02828283,\n",
       "        1.03030303,  1.03232323,  1.03434343,  1.03636364,  1.03838384,\n",
       "        1.04040404,  1.04242424,  1.04444444,  1.04646465,  1.04848485,\n",
       "        1.05050505,  1.05252525,  1.05454545,  1.05656566,  1.05858586,\n",
       "        1.06060606,  1.06262626,  1.06464646,  1.06666667,  1.06868687,\n",
       "        1.07070707,  1.07272727,  1.07474747,  1.07676768,  1.07878788,\n",
       "        1.08080808,  1.08282828,  1.08484848,  1.08686869,  1.08888889,\n",
       "        1.09090909,  1.09292929,  1.09494949,  1.0969697 ,  1.0989899 ,\n",
       "        1.1010101 ,  1.1030303 ,  1.10505051,  1.10707071,  1.10909091,\n",
       "        1.11111111,  1.11313131,  1.11515152,  1.11717172,  1.11919192,\n",
       "        1.12121212,  1.12323232,  1.12525253,  1.12727273,  1.12929293,\n",
       "        1.13131313,  1.13333333,  1.13535354,  1.13737374,  1.13939394,\n",
       "        1.14141414,  1.14343434,  1.14545455,  1.14747475,  1.14949495,\n",
       "        1.15151515,  1.15353535,  1.15555556,  1.15757576,  1.15959596,\n",
       "        1.16161616,  1.16363636,  1.16565657,  1.16767677,  1.16969697,\n",
       "        1.17171717,  1.17373737,  1.17575758,  1.17777778,  1.17979798,\n",
       "        1.18181818,  1.18383838,  1.18585859,  1.18787879,  1.18989899,\n",
       "        1.19191919,  1.19393939,  1.1959596 ,  1.1979798 ,  1.2       ])"
      ]
     },
     "execution_count": 19,
     "metadata": {},
     "output_type": "execute_result"
    }
   ],
   "source": [
    "x1 = np.linspace(1.0, 1.2, 100)\n",
    "x1"
   ]
  },
  {
   "cell_type": "code",
   "execution_count": 20,
   "metadata": {
    "collapsed": false
   },
   "outputs": [
    {
     "name": "stdout",
     "output_type": "stream",
     "text": [
      "t=1.0262626262626262: error=0.4208\n",
      "t=1.0282828282828282: error=0.3265\n"
     ]
    }
   ],
   "source": [
    "for t in x1:\n",
    "    err = math.fabs(30*(1+t)**3 - 250)\n",
    "    if err <= 1.0:\n",
    "        print(\"t={x}: error={e:.4f}\".format(x=t,e=err))"
   ]
  },
  {
   "cell_type": "markdown",
   "metadata": {},
   "source": [
    "## 4) graph the solution using [matplotlib](http://matplotlib.org/contents.html?v=20170307111739)  \n",
    "<a class=\"anchor\" id=\"hid_graph\"></a>"
   ]
  },
  {
   "cell_type": "markdown",
   "metadata": {},
   "source": [
    "![logo](http://matplotlib.org/_static/logo2.svg)\n",
    "\n",
    "**matplotlib** is visualization pkg for python"
   ]
  },
  {
   "cell_type": "code",
   "execution_count": 21,
   "metadata": {
    "collapsed": true
   },
   "outputs": [],
   "source": [
    "# import matplotlib.pyplot as plt\n",
    "# %matplotlib inline"
   ]
  },
  {
   "cell_type": "code",
   "execution_count": 22,
   "metadata": {
    "collapsed": false
   },
   "outputs": [],
   "source": [
    "x2 = np.linspace(1.0, 1.05, 100)\n",
    "f1 = 30*(1+x2)**3 - 250\n",
    "\n",
    "f2 = np.zeros_like(x2)    # draw a horizontal line at y=0"
   ]
  },
  {
   "cell_type": "markdown",
   "metadata": {},
   "source": [
    "$x$ intersection of two lines f1/f2 gives the solution"
   ]
  },
  {
   "cell_type": "code",
   "execution_count": 23,
   "metadata": {
    "collapsed": false
   },
   "outputs": [
    {
     "data": {
      "image/png": "[encoded data removed]",
      "text/plain": [
       "<matplotlib.figure.Figure at 0x4c1b978>"
      ]
     },
     "metadata": {},
     "output_type": "display_data"
    }
   ],
   "source": [
    "plt.xlabel(r'$x$')\n",
    "plt.ylabel(r'$\\delta$')\n",
    "plt.grid(True)\n",
    "plt.title('IPython is a great analytical tool')\n",
    "plt.axis([0.99,1.2, -11, 9])\n",
    "plt.plot(x1, f1, 'r+')\n",
    "plt.plot(x1, f2, 'b-', lw=2)\n",
    "plt.show()"
   ]
  },
  {
   "cell_type": "markdown",
   "metadata": {},
   "source": [
    "## Solve equation precisely using SymPy  <a class=\"anchor\" id=\"hid_sympy\"></a>"
   ]
  },
  {
   "cell_type": "code",
   "execution_count": 24,
   "metadata": {
    "collapsed": true
   },
   "outputs": [],
   "source": [
    "# from sympy import *\n",
    "# import sympy as sy"
   ]
  },
  {
   "cell_type": "code",
   "execution_count": 25,
   "metadata": {
    "collapsed": false
   },
   "outputs": [
    {
     "data": {
      "text/plain": [
       "x"
      ]
     },
     "execution_count": 25,
     "metadata": {},
     "output_type": "execute_result"
    }
   ],
   "source": [
    "sy.var('x')"
   ]
  },
  {
   "cell_type": "code",
   "execution_count": 26,
   "metadata": {
    "collapsed": false
   },
   "outputs": [
    {
     "data": {
      "text/plain": [
       "[-1 + 15**(2/3)/3,\n",
       " -1 + 15**(2/3)*(-1/2 - sqrt(3)*I/2)/3,\n",
       " -1 + 15**(2/3)*(-1/2 + sqrt(3)*I/2)/3]"
      ]
     },
     "execution_count": 26,
     "metadata": {},
     "output_type": "execute_result"
    }
   ],
   "source": [
    "sy.solve(30*(1+x)**3 - 250, x)"
   ]
  },
  {
   "cell_type": "markdown",
   "metadata": {},
   "source": [
    "Ignore other 2 solutions because they are complex numbers"
   ]
  },
  {
   "cell_type": "code",
   "execution_count": 27,
   "metadata": {
    "collapsed": false
   },
   "outputs": [
    {
     "data": {
      "text/plain": [
       "1.027400665191133"
      ]
     },
     "execution_count": 27,
     "metadata": {},
     "output_type": "execute_result"
    }
   ],
   "source": [
    "grow_rate = -1 + 15**(2/3)/3\n",
    "grow_rate"
   ]
  },
  {
   "cell_type": "markdown",
   "metadata": {},
   "source": [
    "## Pandas for Big Data Analytics  <a class=\"anchor\" id=\"hid_panda\"></a>\n",
    "\n",
    "[pandas](http://pandas.pydata.org/pandas-docs/stable/?v=20170307111739) stands for powerful Python data analysis toolkit"
   ]
  },
  {
   "cell_type": "code",
   "execution_count": 28,
   "metadata": {
    "collapsed": true
   },
   "outputs": [],
   "source": [
    "# import pandas as pd"
   ]
  },
  {
   "cell_type": "code",
   "execution_count": 29,
   "metadata": {
    "collapsed": true
   },
   "outputs": [],
   "source": [
    "year = [2014, 2015, 2016, 2017]"
   ]
  },
  {
   "cell_type": "code",
   "execution_count": 30,
   "metadata": {
    "collapsed": false
   },
   "outputs": [
    {
     "name": "stdout",
     "output_type": "stream",
     "text": [
      "[30.0, 60.822019955733985, 123.31060371652346, 249.9999999999998]\n"
     ]
    }
   ],
   "source": [
    "head_count = [30*(1+grow_rate)**i  for i in range(4)]\n",
    "print(head_count)"
   ]
  },
  {
   "cell_type": "code",
   "execution_count": 31,
   "metadata": {
    "collapsed": false
   },
   "outputs": [
    {
     "data": {
      "text/html": [
       "<div>\n",
       "<table border=\"1\" class=\"dataframe\">\n",
       "  <thead>\n",
       "    <tr style=\"text-align: right;\">\n",
       "      <th></th>\n",
       "      <th>Year</th>\n",
       "      <th>HeadCount</th>\n",
       "    </tr>\n",
       "  </thead>\n",
       "  <tbody>\n",
       "    <tr>\n",
       "      <th>0</th>\n",
       "      <td>2014</td>\n",
       "      <td>30.000000</td>\n",
       "    </tr>\n",
       "    <tr>\n",
       "      <th>1</th>\n",
       "      <td>2015</td>\n",
       "      <td>60.822020</td>\n",
       "    </tr>\n",
       "    <tr>\n",
       "      <th>2</th>\n",
       "      <td>2016</td>\n",
       "      <td>123.310604</td>\n",
       "    </tr>\n",
       "    <tr>\n",
       "      <th>3</th>\n",
       "      <td>2017</td>\n",
       "      <td>250.000000</td>\n",
       "    </tr>\n",
       "  </tbody>\n",
       "</table>\n",
       "</div>"
      ],
      "text/plain": [
       "   Year   HeadCount\n",
       "0  2014   30.000000\n",
       "1  2015   60.822020\n",
       "2  2016  123.310604\n",
       "3  2017  250.000000"
      ]
     },
     "execution_count": 31,
     "metadata": {},
     "output_type": "execute_result"
    }
   ],
   "source": [
    "df = pd.DataFrame(list(zip(year,head_count)), columns=['Year','HeadCount'])\n",
    "df"
   ]
  },
  {
   "cell_type": "code",
   "execution_count": 32,
   "metadata": {
    "collapsed": false
   },
   "outputs": [
    {
     "data": {
      "text/html": [
       "<div>\n",
       "<table border=\"1\" class=\"dataframe\">\n",
       "  <thead>\n",
       "    <tr style=\"text-align: right;\">\n",
       "      <th></th>\n",
       "      <th>Year</th>\n",
       "      <th>HeadCount</th>\n",
       "    </tr>\n",
       "  </thead>\n",
       "  <tbody>\n",
       "    <tr>\n",
       "      <th>0</th>\n",
       "      <td>2014</td>\n",
       "      <td>30.00000</td>\n",
       "    </tr>\n",
       "    <tr>\n",
       "      <th>1</th>\n",
       "      <td>2015</td>\n",
       "      <td>60.82202</td>\n",
       "    </tr>\n",
       "  </tbody>\n",
       "</table>\n",
       "</div>"
      ],
      "text/plain": [
       "   Year  HeadCount\n",
       "0  2014   30.00000\n",
       "1  2015   60.82202"
      ]
     },
     "execution_count": 32,
     "metadata": {},
     "output_type": "execute_result"
    }
   ],
   "source": [
    "df.head(2)"
   ]
  },
  {
   "cell_type": "code",
   "execution_count": 33,
   "metadata": {
    "collapsed": false
   },
   "outputs": [
    {
     "data": {
      "text/html": [
       "<div>\n",
       "<table border=\"1\" class=\"dataframe\">\n",
       "  <thead>\n",
       "    <tr style=\"text-align: right;\">\n",
       "      <th></th>\n",
       "      <th>Year</th>\n",
       "      <th>HeadCount</th>\n",
       "    </tr>\n",
       "  </thead>\n",
       "  <tbody>\n",
       "    <tr>\n",
       "      <th>2</th>\n",
       "      <td>2016</td>\n",
       "      <td>123.310604</td>\n",
       "    </tr>\n",
       "    <tr>\n",
       "      <th>3</th>\n",
       "      <td>2017</td>\n",
       "      <td>250.000000</td>\n",
       "    </tr>\n",
       "  </tbody>\n",
       "</table>\n",
       "</div>"
      ],
      "text/plain": [
       "   Year   HeadCount\n",
       "2  2016  123.310604\n",
       "3  2017  250.000000"
      ]
     },
     "execution_count": 33,
     "metadata": {},
     "output_type": "execute_result"
    }
   ],
   "source": [
    "df.tail(2)"
   ]
  },
  {
   "cell_type": "markdown",
   "metadata": {},
   "source": [
    "#### Line chart"
   ]
  },
  {
   "cell_type": "code",
   "execution_count": 34,
   "metadata": {
    "collapsed": false
   },
   "outputs": [
    {
     "data": {
      "text/plain": [
       "[<matplotlib.lines.Line2D at 0xb3260f0>]"
      ]
     },
     "execution_count": 34,
     "metadata": {},
     "output_type": "execute_result"
    },
    {
     "data": {
      "image/png": "[encoded data removed]",
      "text/plain": [
       "<matplotlib.figure.Figure at 0xae09e10>"
      ]
     },
     "metadata": {},
     "output_type": "display_data"
    }
   ],
   "source": [
    "plt.plot(df['Year'], df['HeadCount'])"
   ]
  },
  {
   "cell_type": "markdown",
   "metadata": {},
   "source": [
    "#### Bar chart"
   ]
  },
  {
   "cell_type": "code",
   "execution_count": 35,
   "metadata": {
    "collapsed": false
   },
   "outputs": [
    {
     "data": {
      "text/plain": [
       "[<matplotlib.lines.Line2D at 0xb396550>]"
      ]
     },
     "execution_count": 35,
     "metadata": {},
     "output_type": "execute_result"
    },
    {
     "data": {
      "image/png": "[encoded data removed]",
      "text/plain": [
       "<matplotlib.figure.Figure at 0xb35a6a0>"
      ]
     },
     "metadata": {},
     "output_type": "display_data"
    }
   ],
   "source": [
    "plt.xlabel('Year')\n",
    "plt.ylabel('Head Count')\n",
    "plt.grid(True)\n",
    "plt.title('Employee Growth')\n",
    "\n",
    "plt.bar(df['Year'], df['HeadCount'])\n",
    "\n",
    "plt.plot(df['Year'], df['HeadCount'], 'r-')"
   ]
  },
  {
   "cell_type": "markdown",
   "metadata": {},
   "source": [
    "## Multimedia with HTML5 -Text, Image, Audio, Video  <a class=\"anchor\" id=\"hid_html5\"></a>"
   ]
  },
  {
   "cell_type": "code",
   "execution_count": 36,
   "metadata": {
    "collapsed": false
   },
   "outputs": [],
   "source": [
    "# from IPython.display import HTML, SVG, YouTubeVideo"
   ]
  },
  {
   "cell_type": "markdown",
   "metadata": {},
   "source": [
    "###   create an HTML table dynamically with Python, and we display it in the (HTML-based) notebook."
   ]
  },
  {
   "cell_type": "code",
   "execution_count": 37,
   "metadata": {
    "collapsed": false
   },
   "outputs": [
    {
     "data": {
      "text/html": [
       "\n",
       "<table style=\"border: 2px solid black;\">\n",
       "<tr><td>0,0</td><td>0,1</td><td>0,2</td><td>0,3</td><td>0,4</td></tr><tr><td>1,0</td><td>1,1</td><td>1,2</td><td>1,3</td><td>1,4</td></tr><tr><td>2,0</td><td>2,1</td><td>2,2</td><td>2,3</td><td>2,4</td></tr><tr><td>3,0</td><td>3,1</td><td>3,2</td><td>3,3</td><td>3,4</td></tr><tr><td>4,0</td><td>4,1</td><td>4,2</td><td>4,3</td><td>4,4</td></tr>\n",
       "</table>\n"
      ],
      "text/plain": [
       "<IPython.core.display.HTML object>"
      ]
     },
     "execution_count": 37,
     "metadata": {},
     "output_type": "execute_result"
    }
   ],
   "source": [
    "HTML('''\n",
    "<table style=\"border: 2px solid black;\">\n",
    "''' + \n",
    "''.join(['<tr>' + \n",
    "         ''.join(['<td>{row},{col}</td>'.format(\n",
    "            row=row, col=col\n",
    "            ) for col in range(5)]) +\n",
    "         '</tr>' for row in range(5)]) +\n",
    "'''\n",
    "</table>\n",
    "''')"
   ]
  },
  {
   "cell_type": "markdown",
   "metadata": {},
   "source": [
    "### display image"
   ]
  },
  {
   "cell_type": "code",
   "execution_count": 38,
   "metadata": {
    "collapsed": false
   },
   "outputs": [
    {
     "data": {
      "text/html": [
       "\n",
       "<img src=\"https://s-media-cache-ak0.pinimg.com/564x/59/b6/cc/59b6cc26b9502fa7d8f494050ca80ac4.jpg\" alt=\"sunset\" style=\"width:250px;height:400px;\">\n"
      ],
      "text/plain": [
       "<IPython.core.display.HTML object>"
      ]
     },
     "execution_count": 38,
     "metadata": {},
     "output_type": "execute_result"
    }
   ],
   "source": [
    "HTML(\"\"\"\n",
    "<img src=\"https://s-media-cache-ak0.pinimg.com/564x/59/b6/cc/59b6cc26b9502fa7d8f494050ca80ac4.jpg\" alt=\"sunset\" style=\"width:250px;height:400px;\">\n",
    "\"\"\")"
   ]
  },
  {
   "cell_type": "markdown",
   "metadata": {},
   "source": [
    "### create a SVG graphics dynamically."
   ]
  },
  {
   "cell_type": "code",
   "execution_count": 39,
   "metadata": {
    "collapsed": false
   },
   "outputs": [
    {
     "data": {
      "image/svg+xml": [
       "<svg height=\"80\" width=\"600\"><circle cx=\"300\" cy=\"30\" fill=\"red\" r=\"0.0\" stroke=\"black\" stroke-width=\"2\">\n",
       "        </circle><circle cx=\"297\" cy=\"30\" fill=\"red\" r=\"3.0\" stroke=\"black\" stroke-width=\"2\">\n",
       "        </circle><circle cx=\"288\" cy=\"30\" fill=\"red\" r=\"6.0\" stroke=\"black\" stroke-width=\"2\">\n",
       "        </circle><circle cx=\"273\" cy=\"30\" fill=\"red\" r=\"9.0\" stroke=\"black\" stroke-width=\"2\">\n",
       "        </circle><circle cx=\"252\" cy=\"30\" fill=\"red\" r=\"12.0\" stroke=\"black\" stroke-width=\"2\">\n",
       "        </circle><circle cx=\"225\" cy=\"30\" fill=\"red\" r=\"15.0\" stroke=\"black\" stroke-width=\"2\">\n",
       "        </circle><circle cx=\"192\" cy=\"30\" fill=\"red\" r=\"18.0\" stroke=\"black\" stroke-width=\"2\">\n",
       "        </circle><circle cx=\"153\" cy=\"30\" fill=\"red\" r=\"21.0\" stroke=\"black\" stroke-width=\"2\">\n",
       "        </circle><circle cx=\"108\" cy=\"30\" fill=\"red\" r=\"24.0\" stroke=\"black\" stroke-width=\"2\">\n",
       "        </circle><circle cx=\"57\" cy=\"30\" fill=\"red\" r=\"27.0\" stroke=\"black\" stroke-width=\"2\">\n",
       "        </circle></svg>"
      ],
      "text/plain": [
       "<IPython.core.display.SVG object>"
      ]
     },
     "execution_count": 39,
     "metadata": {},
     "output_type": "execute_result"
    }
   ],
   "source": [
    "SVG('''<svg width=\"600\" height=\"80\">''' + \n",
    "''.join(['''<circle cx=\"{x}\" cy=\"{y}\" r=\"{r}\"\n",
    "        fill=\"red\" stroke-width=\"2\" stroke=\"black\">\n",
    "        </circle>'''.format(\n",
    "            x=(30+3*i)*(10-i), y=30, r=3.*float(i)\n",
    "        ) for i in range(10)]) + \n",
    "'''</svg>''')"
   ]
  },
  {
   "cell_type": "markdown",
   "metadata": {},
   "source": [
    "### embed an audio clip"
   ]
  },
  {
   "cell_type": "code",
   "execution_count": 40,
   "metadata": {
    "collapsed": false
   },
   "outputs": [
    {
     "data": {
      "text/html": [
       "\n",
       "\n",
       "<table>\n",
       "<tr>\n",
       "<td>\n",
       "<a href=https://talkpython.fm>TalkPython </a>\n",
       "<h2> Guido van Rossum</h2> (Python Creator)\n",
       "<h3> Python past, present, and future </h3>\n",
       "<br/>\n",
       "<audio controls>\n",
       "  <source src=\"https://downloads.talkpython.fm/static/episode_cache/100-guido-van-rossum.mp3\" type=\"audio/mpeg\">\n",
       "Your browser does not support the audio element.\n",
       "</audio>\n",
       "</td>\n",
       "<td>\n",
       "<img src=\"https://pbs.twimg.com/profile_images/424495004/GuidoAvatar_400x400.jpg\" alt=\"Guido\" style=\"width:200px;height:200px;\"\n",
       "</td>\n",
       "</tr>\n",
       "</table>\n"
      ],
      "text/plain": [
       "<IPython.core.display.HTML object>"
      ]
     },
     "execution_count": 40,
     "metadata": {},
     "output_type": "execute_result"
    }
   ],
   "source": [
    "HTML(\"\"\"\n",
    "\n",
    "<table>\n",
    "<tr>\n",
    "<td>\n",
    "<a href=https://talkpython.fm>TalkPython </a>\n",
    "<h2> Guido van Rossum</h2> (Python Creator)\n",
    "<h3> Python past, present, and future </h3>\n",
    "<br/>\n",
    "<audio controls>\n",
    "  <source src=\"https://downloads.talkpython.fm/static/episode_cache/100-guido-van-rossum.mp3\" type=\"audio/mpeg\">\n",
    "Your browser does not support the audio element.\n",
    "</audio>\n",
    "</td>\n",
    "<td>\n",
    "<img src=\"https://pbs.twimg.com/profile_images/424495004/GuidoAvatar_400x400.jpg\" alt=\"Guido\" style=\"width:200px;height:200px;\"\n",
    "</td>\n",
    "</tr>\n",
    "</table>\n",
    "\"\"\")\n"
   ]
  },
  {
   "cell_type": "markdown",
   "metadata": {},
   "source": [
    "### display a Youtube video by giving its identifier to YoutubeVideo."
   ]
  },
  {
   "cell_type": "markdown",
   "metadata": {},
   "source": [
    "#### SciPy 2013 Keynote: IPython"
   ]
  },
  {
   "cell_type": "code",
   "execution_count": 41,
   "metadata": {
    "collapsed": false
   },
   "outputs": [
    {
     "data": {
      "text/html": [
       "\n",
       "        <iframe\n",
       "            width=\"400\"\n",
       "            height=\"300\"\n",
       "            src=\"https://www.youtube.com/embed/j9YpkSX7NNM\"\n",
       "            frameborder=\"0\"\n",
       "            allowfullscreen\n",
       "        ></iframe>\n",
       "        "
      ],
      "text/plain": [
       "<IPython.lib.display.YouTubeVideo at 0xade3c88>"
      ]
     },
     "execution_count": 41,
     "metadata": {},
     "output_type": "execute_result"
    }
   ],
   "source": [
    "YouTubeVideo('j9YpkSX7NNM')"
   ]
  },
  {
   "cell_type": "markdown",
   "metadata": {},
   "source": [
    "## Interactive widgets  <a class=\"anchor\" id=\"hid_widget\"></a>\n",
    "\n",
    "we illustrate the latest interactive features in IPython 2.0+. \n",
    "\n",
    "This version brings graphical widgets in the notebook that can interact with Python objects. \n",
    "\n",
    "We will create a drop-down menu allowing us to display one among several videos."
   ]
  },
  {
   "cell_type": "code",
   "execution_count": 42,
   "metadata": {
    "collapsed": false
   },
   "outputs": [
    {
     "data": {
      "text/plain": [
       "' \\nfrom collections import OrderedDict\\nfrom IPython.display import display, clear_output\\nfrom ipywidgets import Dropdown\\n'"
      ]
     },
     "execution_count": 42,
     "metadata": {},
     "output_type": "execute_result"
    }
   ],
   "source": [
    "# How to comment out multiple lines of code in python\n",
    "\"\"\" \n",
    "from collections import OrderedDict\n",
    "from IPython.display import display, clear_output\n",
    "from ipywidgets import Dropdown\n",
    "\"\"\""
   ]
  },
  {
   "cell_type": "code",
   "execution_count": 43,
   "metadata": {
    "collapsed": false
   },
   "outputs": [
    {
     "data": {
      "text/html": [
       "\n",
       "        <iframe\n",
       "            width=\"400\"\n",
       "            height=\"300\"\n",
       "            src=\"https://www.youtube.com/embed/o1dBg__wsuo\"\n",
       "            frameborder=\"0\"\n",
       "            allowfullscreen\n",
       "        ></iframe>\n",
       "        "
      ],
      "text/plain": [
       "<IPython.lib.display.YouTubeVideo at 0xb3c7f98>"
      ]
     },
     "metadata": {},
     "output_type": "display_data"
    }
   ],
   "source": [
    "# We create a Dropdown widget, with a dictionary containing\n",
    "# the keys (video name) and the values (Youtube identifier) of every menu item.\n",
    "\n",
    "dw = Dropdown(options=OrderedDict([\n",
    "                        ('SciPy 2012', 'iwVvqwLDsJo'), \n",
    "                        ('PyCon 2012', '2G5YTlheCbw'),\n",
    "                        ('SciPy 2013', 'j9YpkSX7NNM'),\n",
    "                        ('Guido Van Rossum', 'EBRMq2Ioxsc'),\n",
    "                        ('Mendelssohn Violin', 'o1dBg__wsuo')\n",
    "        ]))\n",
    "\n",
    "# We create a callback function that displays the requested Youtube video.\n",
    "def on_value_change(name, val):\n",
    "    clear_output()\n",
    "    display(YouTubeVideo(val))\n",
    "# Every time the user selects an item, the function\n",
    "# `on_value_change` is called, and the `val` argument\n",
    "# contains the value of the selected item.\n",
    "dw.on_trait_change(on_value_change, 'value')\n",
    "# We choose a default value.\n",
    "dw.value = dw.options['Mendelssohn Violin']\n",
    "\n",
    "# Finally, we display the widget.\n",
    "display(dw)"
   ]
  },
  {
   "cell_type": "markdown",
   "metadata": {
    "collapsed": true
   },
   "source": [
    "## References <a class=\"anchor\" id=\"hid_ref\"></a>"
   ]
  },
  {
   "cell_type": "markdown",
   "metadata": {},
   "source": [
    "### Websites"
   ]
  },
  {
   "cell_type": "markdown",
   "metadata": {},
   "source": [
    "* http://docs.python.org\n",
    "\n",
    "It goes without saying that Pythonâ€™s own online documentation is an excellent resource if you need to delve into the finer details of the language and modules. Just make sure youâ€™re looking at the documentation for Python 3 and not earlier versions.\n",
    "\n",
    "* http://www.python.org/dev/peps\n",
    "\n",
    "Python Enhancement Proposals (PEPs) are invaluable if you want to understand the motivation for adding new features to the Python language as well as subtle implementation details. This is especially true for some of the more advanced language features. In writing this book, the PEPs were often more useful than the official documentation.\n",
    "\n",
    "* http://pyvideo.org\n",
    "\n",
    "This is a large collection of video presentations and tutorials from past PyCon conferences, user group meetings, and more. It can be an invaluable resource for learning about modern Python development. Many of the videos feature Python core developers talking about the new features being added in Python 3.\n",
    "\n",
    "* http://code.activestate.com/recipes/langs/python\n",
    "\n",
    "The ActiveState Python recipes site has long been a resource for finding the solution to thousands of specific programming problems. As of this writing, it contains approximately 300 recipes specific to Python 3. Youâ€™ll find that many of its recipes either expand upon topics covered in this book or focus on more narrowly defined tasks. As such, itâ€™s a good companion.\n",
    "\n",
    "* http://stackoverflow.com/questions/tagged/python\n",
    "\n",
    "Stack Overflow currently has more than 175,000 questions tagged as Python-related (and almost 5000 questions specific to Python 3). Although the quality of the questions and answers varies, there is a lot of good material to be found."
   ]
  },
  {
   "cell_type": "markdown",
   "metadata": {},
   "source": [
    "### Books"
   ]
  },
  {
   "cell_type": "markdown",
   "metadata": {},
   "source": [
    "*  [Learning IPython for Interactive Computing and Data Visualization - Second Edition (By Cyrille Rossant)](https://github.com/ipython-books/minibook-2nd-code)\n",
    "*  [IPython Interactive Computing and Visualization Cookbook  (By Cyrille Rossant)](https://github.com/ipython-books/cookbook-code)\n",
    "*  [Python Cookbook, 3rd Edition by David Beazley; Brian K. Jones](https://github.com/dabeaz/python-cookbook)\n",
    "*  [Python for Data Analysis by Wes McKinney](https://github.com/wesm/pydata-book)\n",
    "*  [Computational Physics, 3rd Ed - Problem Solving with Python by Rubin Landau](http://physics.oregonstate.edu/~landaur/Books/CPbook/index.html)"
   ]
  },
  {
   "cell_type": "markdown",
   "metadata": {},
   "source": [
    "### Other links"
   ]
  },
  {
   "cell_type": "markdown",
   "metadata": {},
   "source": [
    "* [Awesome Math](https://github.com/rossant/awesome-math)"
   ]
  },
  {
   "cell_type": "markdown",
   "metadata": {},
   "source": [
    "## Contributors <a class=\"anchor\" id=\"hid_author\"></a>"
   ]
  },
  {
   "cell_type": "markdown",
   "metadata": {
    "collapsed": true
   },
   "source": [
    "* wen.gong@oracle.com (first created on 2017-03-09)"
   ]
  },
  {
   "cell_type": "code",
   "execution_count": null,
   "metadata": {
    "collapsed": true
   },
   "outputs": [],
   "source": []
  }
 ],
 "metadata": {
  "anaconda-cloud": {},
  "kernelspec": {
   "display_name": "Python [default]",
   "language": "python",
   "name": "python3"
  },
  "language_info": {
   "codemirror_mode": {
    "name": "ipython",
    "version": 3
   },
   "file_extension": ".py",
   "mimetype": "text/x-python",
   "name": "python",
   "nbconvert_exporter": "python",
   "pygments_lexer": "ipython3",
   "version": "3.5.2"
  }
 },
 "nbformat": 4,
 "nbformat_minor": 1
}
