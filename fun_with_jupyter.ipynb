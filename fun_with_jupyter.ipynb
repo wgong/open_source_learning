{
 "cells": [
  {
   "cell_type": "code",
   "execution_count": 1,
   "metadata": {
    "collapsed": false
   },
   "outputs": [
    {
     "data": {
      "text/html": [
       "\n",
       "<br><br>\n",
       "<a href=http://wwwgong.pythonanywhere.com/cuspea/default/list_talks target=new>\n",
       "<font size=+3 color=blue>CUSPEA Talks</font>\n",
       "</a>\n",
       "<br><br>\n",
       "<img src=images/jupyter-notebook-wen-gong.jpg><br> \n"
      ],
      "text/plain": [
       "<IPython.core.display.HTML object>"
      ]
     },
     "execution_count": 1,
     "metadata": {},
     "output_type": "execute_result"
    }
   ],
   "source": [
    "from IPython.display import HTML\n",
    "HTML(\"\"\"\n",
    "<br><br>\n",
    "<a href=http://wwwgong.pythonanywhere.com/cuspea/default/list_talks target=new>\n",
    "<font size=+3 color=blue>CUSPEA Talks</font>\n",
    "</a>\n",
    "<br><br>\n",
    "<img src=images/jupyter-notebook-wen-gong.jpg><br> \n",
    "\"\"\")"
   ]
  },
  {
   "cell_type": "code",
   "execution_count": null,
   "metadata": {
    "collapsed": true
   },
   "outputs": [],
   "source": []
  },
  {
   "cell_type": "markdown",
   "metadata": {
    "nbpresent": {
     "id": "6ee77bce-39d1-46a1-802d-c7aa0f07f653"
    }
   },
   "source": [
    "# Fun with [Jupyter](http://jupyter.org/)"
   ]
  },
  {
   "cell_type": "markdown",
   "metadata": {
    "nbpresent": {
     "id": "5676905a-4d3a-478a-bd10-06df67ffce84"
    }
   },
   "source": [
    "## Table of Contents\n",
    "\n",
    "* [Motivation](#hid_why)\n",
    "* [Introduction](#hid_intro)\n",
    "* [Problem Statement](#hid_problem)\n",
    "* [Import packages](#hid_pkg)\n",
    "* [Estimate x range](#hid_guess)\n",
    "* [Use IPython as a calculator](#hid_calculator)\n",
    "* [Use Python programming to find solution](#hid_program)\n",
    "* [Graph the solution with matplotlib](#hid_graph)\n",
    "* [Solve equation precisely using SymPy](#hid_sympy)\n",
    "* [Pandas for Big Data Analytics](#hid_panda)\n",
    "* [Multimedia with HTML5 -Text, Image, Audio, Video](#hid_html5)\n",
    "* [Interactive widgets](#hid_widget)\n",
    "* [Working with SQLite Databases](#hid_sqlite)\n",
    "* [References](#hid_ref)\n",
    "* [Contributors](#hid_author)\n",
    "* [Appendix](#hid_apend)\n",
    "    - [How to install Jupyter Notebook](#hid_setup)\n",
    "    - [How to share a notebook](#hid_share)\n",
    "    "
   ]
  },
  {
   "cell_type": "markdown",
   "metadata": {},
   "source": [
    "## Motivation  <a class=\"anchor\" id=\"hid_why\"></a>"
   ]
  },
  {
   "cell_type": "markdown",
   "metadata": {},
   "source": [
    "* Current Choice\n",
    "\n",
    "<img src=http://www.cctechlimited.com/pics/office1.jpg>"
   ]
  },
  {
   "cell_type": "markdown",
   "metadata": {},
   "source": [
    "* A New Option\n",
    "\n",
    "> The __Jupyter Notebook__ is an open-source web application that allows you to create and share documents that contain live code, equations, visualizations and explanatory text. Uses include: data cleaning and transformation, numerical simulation, statistical modeling, machine learning and much more.\n",
    "\n",
    "Useful for many tasks\n",
    "\n",
    "* Programming\n",
    "* Blogging\n",
    "* Learning\n",
    "* Research\n",
    "* Documenting work\n",
    "* Collaborating\n",
    "* Communicating\n",
    "* Publishing results\n",
    "\n",
    "or even\n",
    "\n",
    "* Doing homework as a student\n"
   ]
  },
  {
   "cell_type": "code",
   "execution_count": 2,
   "metadata": {
    "collapsed": false
   },
   "outputs": [
    {
     "data": {
      "text/html": [
       "<img src=images/office-suite.jpg>"
      ],
      "text/plain": [
       "<IPython.core.display.HTML object>"
      ]
     },
     "execution_count": 2,
     "metadata": {},
     "output_type": "execute_result"
    }
   ],
   "source": [
    "HTML(\"<img src=images/office-suite.jpg>\")"
   ]
  },
  {
   "cell_type": "markdown",
   "metadata": {},
   "source": [
    "See this [Demo Notebook](https://nbviewer.jupyter.org/github/waltherg/notebooks/blob/master/2013-12-03-Crank_Nicolson.ipynb) \n",
    "\n",
    "<img src=https://nbviewer.jupyter.org/static/img/example-nb/pde_solver_with_numpy.png>"
   ]
  },
  {
   "cell_type": "markdown",
   "metadata": {
    "nbpresent": {
     "id": "031da43c-0284-4433-bd3d-c6c596c92b27"
    }
   },
   "source": [
    "## Introduction  <a class=\"anchor\" id=\"hid_intro\"></a>"
   ]
  },
  {
   "cell_type": "markdown",
   "metadata": {
    "nbpresent": {
     "id": "dc9f34ec-b74d-4c7b-8fd8-3be534221c35"
    }
   },
   "source": [
    "By solving a simple math problem here, I hope to demonstrate many basic  features of Jupyter Notebook. "
   ]
  },
  {
   "cell_type": "markdown",
   "metadata": {
    "nbpresent": {
     "id": "81e52f61-9b24-49b2-9953-191e6fe26656"
    }
   },
   "source": [
    "## Problem Statement <a class=\"anchor\" id=\"hid_problem\"></a>"
   ]
  },
  {
   "cell_type": "markdown",
   "metadata": {
    "nbpresent": {
     "id": "fcc24795-9fe9-4a15-ae38-3444d4044697"
    }
   },
   "source": [
    "A hot startup is selling a hot product. \n",
    "\n",
    "In 2014, it had 30 customers; 3 years later, its customer base expands to 250.\n",
    "\n",
    "Question: What is its annual growth rate?\n",
    "\n",
    "_Translate into math:_  Let $x$ be annual growth rate, \n",
    "\n",
    "then\n",
    "$$ 30 \\cdot (1 + x)^3 = 250 $$"
   ]
  },
  {
   "cell_type": "markdown",
   "metadata": {
    "nbpresent": {
     "id": "30861e9b-f7e6-41b2-be2d-d1636961816b"
    }
   },
   "source": [
    "## Import packages  <a class=\"anchor\" id=\"hid_pkg\"></a> (check out from Library)"
   ]
  },
  {
   "cell_type": "code",
   "execution_count": 3,
   "metadata": {
    "collapsed": true,
    "nbpresent": {
     "id": "40d4fcce-0acd-452d-b56a-0caf808e1464"
    }
   },
   "outputs": [],
   "source": [
    "# math function\n",
    "import math\n",
    "\n",
    "# create np array\n",
    "import numpy as np\n",
    "\n",
    "# pandas for data analysis\n",
    "import pandas as pd\n",
    "\n",
    "# plotting\n",
    "import matplotlib.pyplot as plt\n",
    "%matplotlib inline\n",
    "\n",
    "# symbolic math\n",
    "import sympy as sy\n",
    "\n",
    "# html5\n",
    "from IPython.display import HTML, SVG, YouTubeVideo\n",
    "\n",
    "# widgets\n",
    "from collections import OrderedDict\n",
    "from IPython.display import display, clear_output\n",
    "from ipywidgets import Dropdown\n",
    "\n",
    "# csv file\n",
    "import csv\n",
    "\n",
    "# work with Sqlite database\n",
    "import sqlite3"
   ]
  },
  {
   "cell_type": "markdown",
   "metadata": {
    "nbpresent": {
     "id": "17336b61-d6bd-496d-863a-1ad759a9e4b7"
    }
   },
   "source": [
    "## Estimate x range  <a class=\"anchor\" id=\"hid_guess\"></a> (in Elementary School)"
   ]
  },
  {
   "cell_type": "markdown",
   "metadata": {
    "collapsed": true
   },
   "source": [
    "If $x$ = 1, then _l.h.s_ = 240, therefore $x$ > 1"
   ]
  },
  {
   "cell_type": "markdown",
   "metadata": {
    "nbpresent": {
     "id": "d63d625e-79d0-4bf8-a405-36c9df127bb5"
    }
   },
   "source": [
    "If $x$ = 1.2, then l.h.s = "
   ]
  },
  {
   "cell_type": "code",
   "execution_count": 4,
   "metadata": {
    "collapsed": false,
    "nbpresent": {
     "id": "0ff80a09-136d-4033-ab6d-4169cff99d42"
    }
   },
   "outputs": [
    {
     "data": {
      "text/plain": [
       "319.4400000000001"
      ]
     },
     "execution_count": 4,
     "metadata": {},
     "output_type": "execute_result"
    }
   ],
   "source": [
    "30*(1+1.2)**3"
   ]
  },
  {
   "cell_type": "markdown",
   "metadata": {
    "nbpresent": {
     "id": "7e061caa-9505-4452-ae28-62a29553ed8b"
    }
   },
   "source": [
    "therefore  we know $x$ range = (1.0, 1.2)"
   ]
  },
  {
   "cell_type": "markdown",
   "metadata": {
    "nbpresent": {
     "id": "1a60ecbe-653f-43fe-bd30-b52425a51920"
    }
   },
   "source": [
    "## Use IPython as a calculator  <a class=\"anchor\" id=\"hid_calculator\"></a> (in Middle School)"
   ]
  },
  {
   "cell_type": "code",
   "execution_count": 5,
   "metadata": {
    "collapsed": true,
    "nbpresent": {
     "id": "5ca9a4ea-0a1b-491f-97bb-03275691c867"
    }
   },
   "outputs": [],
   "source": [
    "# import math"
   ]
  },
  {
   "cell_type": "code",
   "execution_count": 6,
   "metadata": {
    "collapsed": false,
    "nbpresent": {
     "id": "09fdb815-ef9e-4fd7-8dd3-c0f30437990a"
    }
   },
   "outputs": [
    {
     "data": {
      "text/plain": [
       "1.0274006651911334"
      ]
     },
     "execution_count": 6,
     "metadata": {},
     "output_type": "execute_result"
    }
   ],
   "source": [
    "math.exp(math.log(250/30)/3) - 1"
   ]
  },
  {
   "cell_type": "code",
   "execution_count": 7,
   "metadata": {
    "collapsed": false,
    "nbpresent": {
     "id": "543b2781-e45b-4dbb-894e-0b6dfac0dfd3"
    }
   },
   "outputs": [
    {
     "data": {
      "text/plain": [
       "1.0274006651911334"
      ]
     },
     "execution_count": 7,
     "metadata": {},
     "output_type": "execute_result"
    }
   ],
   "source": [
    "10**(math.log10(250/30)/3) - 1"
   ]
  },
  {
   "cell_type": "code",
   "execution_count": 8,
   "metadata": {
    "collapsed": false,
    "nbpresent": {
     "id": "b21b7c89-1442-4320-ae43-9e150e087ff0"
    }
   },
   "outputs": [
    {
     "data": {
      "text/plain": [
       "1.0274006651911334"
      ]
     },
     "execution_count": 8,
     "metadata": {},
     "output_type": "execute_result"
    }
   ],
   "source": [
    "math.pow(10, math.log10(250/30)/3) -1"
   ]
  },
  {
   "cell_type": "markdown",
   "metadata": {
    "nbpresent": {
     "id": "f5c44fb8-78ff-46e5-b444-f484e81030ab"
    }
   },
   "source": [
    "** annual customer growth rate = 102% **"
   ]
  },
  {
   "cell_type": "markdown",
   "metadata": {
    "nbpresent": {
     "id": "8b8d1cf7-3571-43f8-b3a0-66121ce196de"
    }
   },
   "source": [
    "## Use Python programming to find solution  <a class=\"anchor\" id=\"hid_program\"></a> (in High School)"
   ]
  },
  {
   "cell_type": "markdown",
   "metadata": {
    "nbpresent": {
     "id": "66c4b853-a7be-4619-b348-514df558e698"
    }
   },
   "source": [
    "### use loop"
   ]
  },
  {
   "cell_type": "code",
   "execution_count": 9,
   "metadata": {
    "collapsed": false,
    "nbpresent": {
     "id": "8642a48c-db83-4b9a-81d3-84c6255763f8"
    }
   },
   "outputs": [
    {
     "data": {
      "text/plain": [
       "list"
      ]
     },
     "execution_count": 9,
     "metadata": {},
     "output_type": "execute_result"
    }
   ],
   "source": [
    "nstep = 100\n",
    "x_min, x_max = 1.0, 1.2\n",
    "dd = (x_max-x_min)/float(nstep)\n",
    "x_l = [(x_min + i*dd) for i in range(nstep)]\n",
    "type(x_l)"
   ]
  },
  {
   "cell_type": "code",
   "execution_count": 10,
   "metadata": {
    "collapsed": false,
    "nbpresent": {
     "id": "957a73e1-cb5e-4b00-af89-30cff8918b7b"
    }
   },
   "outputs": [
    {
     "name": "stdout",
     "output_type": "stream",
     "text": [
      "[1.0, 1.002, 1.004, 1.006, 1.008, 1.01, 1.012, 1.014, 1.016, 1.018, 1.02, 1.022, 1.024, 1.026, 1.028, 1.03, 1.032, 1.034, 1.036, 1.038, 1.04, 1.042, 1.044, 1.046, 1.048, 1.05, 1.052, 1.054, 1.056, 1.058, 1.06, 1.062, 1.064, 1.066, 1.068, 1.07, 1.072, 1.074, 1.076, 1.078, 1.08, 1.082, 1.084, 1.086, 1.088, 1.09, 1.092, 1.094, 1.096, 1.0979999999999999, 1.1, 1.1019999999999999, 1.104, 1.1059999999999999, 1.108, 1.1099999999999999, 1.1119999999999999, 1.1139999999999999, 1.1159999999999999, 1.1179999999999999, 1.1199999999999999, 1.1219999999999999, 1.1239999999999999, 1.126, 1.128, 1.13, 1.132, 1.134, 1.136, 1.138, 1.14, 1.142, 1.144, 1.146, 1.148, 1.15, 1.152, 1.154, 1.156, 1.158, 1.16, 1.162, 1.164, 1.166, 1.168, 1.17, 1.172, 1.174, 1.176, 1.178, 1.18, 1.182, 1.184, 1.186, 1.188, 1.19, 1.192, 1.194, 1.196, 1.198]\n"
     ]
    }
   ],
   "source": [
    "print(x_l)"
   ]
  },
  {
   "cell_type": "code",
   "execution_count": 11,
   "metadata": {
    "collapsed": false,
    "nbpresent": {
     "id": "79871358-f571-4f61-90fb-ee2e2fe1e792"
    }
   },
   "outputs": [
    {
     "name": "stdout",
     "output_type": "stream",
     "text": [
      "t=1.028: error=0.2218\n"
     ]
    }
   ],
   "source": [
    "for t in x_l:\n",
    "    err = abs(30*(1+t)**3 - 250)\n",
    "    if err <= 0.5:\n",
    "        print(\"t={x}: error={e:.4f}\".format(x=t,e=err))"
   ]
  },
  {
   "cell_type": "markdown",
   "metadata": {
    "nbpresent": {
     "id": "c017894a-42a7-4936-9a3e-b6ad9b916f7e"
    }
   },
   "source": [
    "### create a numpy array"
   ]
  },
  {
   "cell_type": "code",
   "execution_count": 12,
   "metadata": {
    "collapsed": true,
    "nbpresent": {
     "id": "fb3debd8-f726-4a26-9ebf-7c7adfab7996"
    }
   },
   "outputs": [],
   "source": [
    "# import numpy as np\n",
    "# import pandas as pd"
   ]
  },
  {
   "cell_type": "code",
   "execution_count": 13,
   "metadata": {
    "collapsed": false,
    "nbpresent": {
     "id": "64c1a6f3-7751-487c-b71b-0d501cce1199"
    }
   },
   "outputs": [
    {
     "name": "stdout",
     "output_type": "stream",
     "text": [
      "[1.0, 1.002, 1.004, 1.006, 1.008, 1.01, 1.012, 1.014, 1.016, 1.018, 1.02, 1.022, 1.024, 1.026, 1.028, 1.03, 1.032, 1.034, 1.036, 1.038, 1.04, 1.042, 1.044, 1.046, 1.048, 1.05, 1.052, 1.054, 1.056, 1.058, 1.06, 1.062, 1.064, 1.066, 1.068, 1.07, 1.072, 1.074, 1.076, 1.078, 1.08, 1.082, 1.084, 1.086, 1.088, 1.09, 1.092, 1.094, 1.096, 1.0979999999999999, 1.1, 1.1019999999999999, 1.104, 1.1059999999999999, 1.108, 1.1099999999999999, 1.1119999999999999, 1.1139999999999999, 1.1159999999999999, 1.1179999999999999, 1.1199999999999999, 1.1219999999999999, 1.1239999999999999, 1.126, 1.128, 1.13, 1.132, 1.134, 1.136, 1.138, 1.14, 1.142, 1.144, 1.146, 1.148, 1.15, 1.152, 1.154, 1.156, 1.158, 1.16, 1.162, 1.164, 1.166, 1.168, 1.17, 1.172, 1.174, 1.176, 1.178, 1.18, 1.182, 1.184, 1.186, 1.188, 1.19, 1.192, 1.194, 1.196, 1.198]\n"
     ]
    }
   ],
   "source": [
    "print(x_l)"
   ]
  },
  {
   "cell_type": "markdown",
   "metadata": {
    "nbpresent": {
     "id": "dda6cbdf-98e7-4ce7-97c9-ad3715163327"
    }
   },
   "source": [
    "####  using arange()"
   ]
  },
  {
   "cell_type": "code",
   "execution_count": 14,
   "metadata": {
    "collapsed": false,
    "nbpresent": {
     "id": "46cadb76-3a49-44e6-922b-24f60a9398b5"
    }
   },
   "outputs": [
    {
     "name": "stdout",
     "output_type": "stream",
     "text": [
      "[ 1.     1.005  1.01   1.015  1.02   1.025  1.03   1.035  1.04   1.045\n",
      "  1.05   1.055  1.06   1.065  1.07   1.075  1.08   1.085  1.09   1.095  1.1\n",
      "  1.105  1.11   1.115  1.12   1.125  1.13   1.135  1.14   1.145  1.15\n",
      "  1.155  1.16   1.165  1.17   1.175  1.18   1.185  1.19   1.195]\n"
     ]
    }
   ],
   "source": [
    "x = np.arange(1.0, 1.2, 0.005)\n",
    "print(x)"
   ]
  },
  {
   "cell_type": "markdown",
   "metadata": {
    "nbpresent": {
     "id": "c157bb0f-5d4d-456b-8f87-5c8cde8945ff"
    }
   },
   "source": [
    "check its type"
   ]
  },
  {
   "cell_type": "code",
   "execution_count": 15,
   "metadata": {
    "collapsed": false,
    "nbpresent": {
     "id": "76c1bb8b-1f47-4325-9e65-3089408d86b8"
    }
   },
   "outputs": [
    {
     "data": {
      "text/plain": [
       "numpy.ndarray"
      ]
     },
     "execution_count": 15,
     "metadata": {},
     "output_type": "execute_result"
    }
   ],
   "source": [
    "type(x)"
   ]
  },
  {
   "cell_type": "code",
   "execution_count": 16,
   "metadata": {
    "collapsed": false,
    "nbpresent": {
     "id": "b33222f5-ca6f-4f6b-91f4-fa13ae22864a"
    }
   },
   "outputs": [
    {
     "data": {
      "text/plain": [
       "40"
      ]
     },
     "execution_count": 16,
     "metadata": {},
     "output_type": "execute_result"
    }
   ],
   "source": [
    "len(x)"
   ]
  },
  {
   "cell_type": "code",
   "execution_count": 17,
   "metadata": {
    "collapsed": false,
    "nbpresent": {
     "id": "3a342312-18db-4f98-8621-34b695a12c4d"
    }
   },
   "outputs": [
    {
     "name": "stdout",
     "output_type": "stream",
     "text": [
      "[-10.          -8.19549625  -6.38197     -4.55939875  -2.72776     -0.88703125\n",
      "   0.96281      2.82178625   4.68992      6.56723375   8.45375     10.34949125\n",
      "  12.25448     14.16873875  16.09229     18.02515625  19.96736     21.91892375\n",
      "  23.87987     25.85022125  27.83        29.81922875  31.81793     33.82612625\n",
      "  35.84384     37.87109375  39.90791     41.95431125  44.01032     46.07595875\n",
      "  48.15125     50.23621625  52.33088     54.43526375  56.54939     58.67328125\n",
      "  60.80696     62.95044875  65.10377     67.26694625]\n"
     ]
    }
   ],
   "source": [
    "print(30*(1+x)**3 - 250)"
   ]
  },
  {
   "cell_type": "code",
   "execution_count": 18,
   "metadata": {
    "collapsed": false,
    "nbpresent": {
     "id": "a59b53cf-e6b9-4dae-9f5a-b94aca860131"
    }
   },
   "outputs": [
    {
     "data": {
      "text/plain": [
       "array([False, False, False, False, False, False,  True,  True,  True,\n",
       "        True,  True,  True,  True,  True,  True,  True,  True,  True,\n",
       "        True,  True,  True,  True,  True,  True,  True,  True,  True,\n",
       "        True,  True,  True,  True,  True,  True,  True,  True,  True,\n",
       "        True,  True,  True,  True], dtype=bool)"
      ]
     },
     "execution_count": 18,
     "metadata": {},
     "output_type": "execute_result"
    }
   ],
   "source": [
    "x_ge_0 = (30*(1+x)**3 - 250) >= 0\n",
    "x_ge_0"
   ]
  },
  {
   "cell_type": "code",
   "execution_count": 19,
   "metadata": {
    "collapsed": false,
    "nbpresent": {
     "id": "b8c7bd40-31ba-4950-93a7-b9793c3b28d7"
    }
   },
   "outputs": [
    {
     "data": {
      "text/plain": [
       "array([ True,  True,  True,  True,  True,  True, False, False, False,\n",
       "       False, False, False, False, False, False, False, False, False,\n",
       "       False, False, False, False, False, False, False, False, False,\n",
       "       False, False, False, False, False, False, False, False, False,\n",
       "       False, False, False, False], dtype=bool)"
      ]
     },
     "execution_count": 19,
     "metadata": {},
     "output_type": "execute_result"
    }
   ],
   "source": [
    "x_lt_0 = (30*(1+x)**3 - 250) < 0\n",
    "x_lt_0"
   ]
  },
  {
   "cell_type": "markdown",
   "metadata": {
    "nbpresent": {
     "id": "755745d2-55dc-4e42-85b9-42713e2dae83"
    }
   },
   "source": [
    "x_ge_0 and x_lt_0 are logical array"
   ]
  },
  {
   "cell_type": "code",
   "execution_count": 20,
   "metadata": {
    "collapsed": false,
    "nbpresent": {
     "id": "ab275db8-3d80-4efb-b221-2db8de59a314"
    }
   },
   "outputs": [
    {
     "name": "stdout",
     "output_type": "stream",
     "text": [
      "t=1.0249999999999995: error=0.8870\n",
      "t=1.0299999999999994: error=0.9628\n"
     ]
    }
   ],
   "source": [
    "for t in x:\n",
    "    err = abs(30*(1+t)**3 - 250)\n",
    "    if err <= 1.0:\n",
    "        print(\"t={x}: error={e:.4f}\".format(x=t,e=err))"
   ]
  },
  {
   "cell_type": "markdown",
   "metadata": {
    "nbpresent": {
     "id": "c9c0cdfb-e6b9-448a-bc7f-9c54f53089a0"
    }
   },
   "source": [
    "#### using [linspace](https://docs.scipy.org/doc/numpy/reference/generated/numpy.linspace.html)"
   ]
  },
  {
   "cell_type": "code",
   "execution_count": 21,
   "metadata": {
    "collapsed": false,
    "nbpresent": {
     "id": "240d239b-5ffb-4fba-bc1f-66593f0d0d5b"
    }
   },
   "outputs": [
    {
     "data": {
      "text/plain": [
       "array([ 1.        ,  1.0020202 ,  1.0040404 ,  1.00606061,  1.00808081,\n",
       "        1.01010101,  1.01212121,  1.01414141,  1.01616162,  1.01818182,\n",
       "        1.02020202,  1.02222222,  1.02424242,  1.02626263,  1.02828283,\n",
       "        1.03030303,  1.03232323,  1.03434343,  1.03636364,  1.03838384,\n",
       "        1.04040404,  1.04242424,  1.04444444,  1.04646465,  1.04848485,\n",
       "        1.05050505,  1.05252525,  1.05454545,  1.05656566,  1.05858586,\n",
       "        1.06060606,  1.06262626,  1.06464646,  1.06666667,  1.06868687,\n",
       "        1.07070707,  1.07272727,  1.07474747,  1.07676768,  1.07878788,\n",
       "        1.08080808,  1.08282828,  1.08484848,  1.08686869,  1.08888889,\n",
       "        1.09090909,  1.09292929,  1.09494949,  1.0969697 ,  1.0989899 ,\n",
       "        1.1010101 ,  1.1030303 ,  1.10505051,  1.10707071,  1.10909091,\n",
       "        1.11111111,  1.11313131,  1.11515152,  1.11717172,  1.11919192,\n",
       "        1.12121212,  1.12323232,  1.12525253,  1.12727273,  1.12929293,\n",
       "        1.13131313,  1.13333333,  1.13535354,  1.13737374,  1.13939394,\n",
       "        1.14141414,  1.14343434,  1.14545455,  1.14747475,  1.14949495,\n",
       "        1.15151515,  1.15353535,  1.15555556,  1.15757576,  1.15959596,\n",
       "        1.16161616,  1.16363636,  1.16565657,  1.16767677,  1.16969697,\n",
       "        1.17171717,  1.17373737,  1.17575758,  1.17777778,  1.17979798,\n",
       "        1.18181818,  1.18383838,  1.18585859,  1.18787879,  1.18989899,\n",
       "        1.19191919,  1.19393939,  1.1959596 ,  1.1979798 ,  1.2       ])"
      ]
     },
     "execution_count": 21,
     "metadata": {},
     "output_type": "execute_result"
    }
   ],
   "source": [
    "x1 = np.linspace(1.0, 1.2, 100)\n",
    "x1"
   ]
  },
  {
   "cell_type": "code",
   "execution_count": 22,
   "metadata": {
    "collapsed": false,
    "nbpresent": {
     "id": "fb165454-8031-48d4-ad53-13a529881c4f"
    }
   },
   "outputs": [
    {
     "name": "stdout",
     "output_type": "stream",
     "text": [
      "t=1.0262626262626262: error=0.4208\n",
      "t=1.0282828282828282: error=0.3265\n"
     ]
    }
   ],
   "source": [
    "for t in x1:\n",
    "    err = math.fabs(30*(1+t)**3 - 250)\n",
    "    if err <= 1.0:\n",
    "        print(\"t={x}: error={e:.4f}\".format(x=t,e=err))"
   ]
  },
  {
   "cell_type": "markdown",
   "metadata": {
    "nbpresent": {
     "id": "5c813ea9-fbf2-46b2-b5e1-fb75d2497744"
    }
   },
   "source": [
    "## Graph the solution using Matplotlib (in High School)\n",
    "<a class=\"anchor\" id=\"hid_graph\"></a>"
   ]
  },
  {
   "cell_type": "markdown",
   "metadata": {
    "nbpresent": {
     "id": "e52f4a27-8dc3-4f11-9d71-1e05704cdedf"
    }
   },
   "source": [
    "![logo](http://matplotlib.org/_static/logo2.svg)\n",
    "\n",
    "[matplotlib](http://matplotlib.org/contents.html?v=20170307111739)   is visualization pkg for python"
   ]
  },
  {
   "cell_type": "code",
   "execution_count": 23,
   "metadata": {
    "collapsed": true,
    "nbpresent": {
     "id": "31fd2fc9-6d40-42a5-9802-412c8149cb49"
    }
   },
   "outputs": [],
   "source": [
    "# import matplotlib.pyplot as plt\n",
    "# %matplotlib inline"
   ]
  },
  {
   "cell_type": "code",
   "execution_count": 24,
   "metadata": {
    "collapsed": false,
    "nbpresent": {
     "id": "95cf6bd7-4a1d-430c-9c92-f3f0ecfcb1e2"
    }
   },
   "outputs": [],
   "source": [
    "x2 = np.linspace(1.0, 1.05, 100)\n",
    "f1 = 30*(1+x2)**3 - 250\n",
    "\n",
    "f2 = np.zeros_like(x2)    # draw a horizontal line at y=0"
   ]
  },
  {
   "cell_type": "markdown",
   "metadata": {
    "nbpresent": {
     "id": "92028685-116f-4efe-bf56-d5059998a976"
    }
   },
   "source": [
    "$x$ intersection of two lines f1/f2 gives the solution"
   ]
  },
  {
   "cell_type": "code",
   "execution_count": 25,
   "metadata": {
    "collapsed": false,
    "nbpresent": {
     "id": "635887f9-ec1e-4761-87e3-10dd2fb8f229"
    }
   },
   "outputs": [
    {
     "data": {
      "image/png": "[encoded data removed]",
      "text/plain": [
       "<matplotlib.figure.Figure at 0xad9f400>"
      ]
     },
     "metadata": {},
     "output_type": "display_data"
    }
   ],
   "source": [
    "plt.xlabel(r'$x$')\n",
    "plt.ylabel(r'$\\delta$')\n",
    "plt.grid(True)\n",
    "plt.title('IPython is a great analytical tool')\n",
    "plt.axis([0.995,1.055, -11, 9])\n",
    "#plt.axis([1.02, 1.04, -11, 9])\n",
    "plt.plot(x2, f1, 'r+')\n",
    "plt.plot(x2, f2, 'b-', lw=2)\n",
    "plt.show()"
   ]
  },
  {
   "cell_type": "markdown",
   "metadata": {
    "nbpresent": {
     "id": "c4b654eb-9403-4aef-b9b3-e3c53b91a5c3"
    }
   },
   "source": [
    "## Solve equation precisely using SymPy  (in High School) <a class=\"anchor\" id=\"hid_sympy\"></a>"
   ]
  },
  {
   "cell_type": "code",
   "execution_count": 26,
   "metadata": {
    "collapsed": true,
    "nbpresent": {
     "id": "28c3e44a-666b-4f62-9a86-23056fbbcc0b"
    }
   },
   "outputs": [],
   "source": [
    "# from sympy import *\n",
    "# import sympy as sy"
   ]
  },
  {
   "cell_type": "code",
   "execution_count": 27,
   "metadata": {
    "collapsed": false,
    "nbpresent": {
     "id": "46a79e4d-b1cd-43ee-a68d-9263f5b3ddb5"
    }
   },
   "outputs": [
    {
     "data": {
      "text/plain": [
       "x"
      ]
     },
     "execution_count": 27,
     "metadata": {},
     "output_type": "execute_result"
    }
   ],
   "source": [
    "sy.var('x')"
   ]
  },
  {
   "cell_type": "code",
   "execution_count": 28,
   "metadata": {
    "collapsed": false,
    "nbpresent": {
     "id": "cad6f08b-37b5-4539-8e94-66f490c45466"
    }
   },
   "outputs": [
    {
     "data": {
      "text/plain": [
       "[-1 + 15**(2/3)/3,\n",
       " -1 + 15**(2/3)*(-1/2 - sqrt(3)*I/2)/3,\n",
       " -1 + 15**(2/3)*(-1/2 + sqrt(3)*I/2)/3]"
      ]
     },
     "execution_count": 28,
     "metadata": {},
     "output_type": "execute_result"
    }
   ],
   "source": [
    "sy.solve(30*(1+x)**3 - 250, x)"
   ]
  },
  {
   "cell_type": "markdown",
   "metadata": {
    "nbpresent": {
     "id": "4c21da2f-faa6-4ff0-a645-9722cc922919"
    }
   },
   "source": [
    "Ignore other 2 solutions because they are complex numbers"
   ]
  },
  {
   "cell_type": "code",
   "execution_count": 29,
   "metadata": {
    "collapsed": false,
    "nbpresent": {
     "id": "b439d6a8-2071-4e06-b827-1dc3ac81b767"
    }
   },
   "outputs": [
    {
     "data": {
      "text/plain": [
       "1.027400665191133"
      ]
     },
     "execution_count": 29,
     "metadata": {},
     "output_type": "execute_result"
    }
   ],
   "source": [
    "grow_rate = -1 + 15**(2/3)/3\n",
    "grow_rate"
   ]
  },
  {
   "cell_type": "markdown",
   "metadata": {
    "nbpresent": {
     "id": "521ce1d7-514f-4d86-bae5-2fcc4bf4ab7f"
    }
   },
   "source": [
    "## Pandas for Big Data Analytics  (in College) <a class=\"anchor\" id=\"hid_panda\"></a>\n",
    "\n",
    "[pandas](http://pandas.pydata.org/pandas-docs/stable/?v=20170307111739) stands for powerful Python data analysis toolkit"
   ]
  },
  {
   "cell_type": "code",
   "execution_count": 30,
   "metadata": {
    "collapsed": true,
    "nbpresent": {
     "id": "95d6b24e-5799-4179-a690-4c1b492405df"
    }
   },
   "outputs": [],
   "source": [
    "# import pandas as pd"
   ]
  },
  {
   "cell_type": "code",
   "execution_count": 31,
   "metadata": {
    "collapsed": true,
    "nbpresent": {
     "id": "cd8c9d7c-1a28-4894-9382-726f892959ab"
    }
   },
   "outputs": [],
   "source": [
    "year = [2014, 2015, 2016, 2017]"
   ]
  },
  {
   "cell_type": "code",
   "execution_count": 32,
   "metadata": {
    "collapsed": false,
    "nbpresent": {
     "id": "1b7a87cb-30d0-41d7-ae84-3e44c821b406"
    }
   },
   "outputs": [
    {
     "name": "stdout",
     "output_type": "stream",
     "text": [
      "[30.0, 60.822019955733985, 123.31060371652346, 249.9999999999998]\n"
     ]
    }
   ],
   "source": [
    "customer_count = [30*(1+grow_rate)**i  for i in range(4)]\n",
    "print(customer_count)"
   ]
  },
  {
   "cell_type": "code",
   "execution_count": 33,
   "metadata": {
    "collapsed": false,
    "nbpresent": {
     "id": "3d742078-bbfa-4a9c-a99d-0b432f40d5a3"
    }
   },
   "outputs": [
    {
     "data": {
      "text/html": [
       "<div>\n",
       "<table border=\"1\" class=\"dataframe\">\n",
       "  <thead>\n",
       "    <tr style=\"text-align: right;\">\n",
       "      <th></th>\n",
       "      <th>Year</th>\n",
       "      <th>Customers</th>\n",
       "    </tr>\n",
       "  </thead>\n",
       "  <tbody>\n",
       "    <tr>\n",
       "      <th>0</th>\n",
       "      <td>2014</td>\n",
       "      <td>30.000000</td>\n",
       "    </tr>\n",
       "    <tr>\n",
       "      <th>1</th>\n",
       "      <td>2015</td>\n",
       "      <td>60.822020</td>\n",
       "    </tr>\n",
       "    <tr>\n",
       "      <th>2</th>\n",
       "      <td>2016</td>\n",
       "      <td>123.310604</td>\n",
       "    </tr>\n",
       "    <tr>\n",
       "      <th>3</th>\n",
       "      <td>2017</td>\n",
       "      <td>250.000000</td>\n",
       "    </tr>\n",
       "  </tbody>\n",
       "</table>\n",
       "</div>"
      ],
      "text/plain": [
       "   Year   Customers\n",
       "0  2014   30.000000\n",
       "1  2015   60.822020\n",
       "2  2016  123.310604\n",
       "3  2017  250.000000"
      ]
     },
     "execution_count": 33,
     "metadata": {},
     "output_type": "execute_result"
    }
   ],
   "source": [
    "df = pd.DataFrame(list(zip(year,customer_count)), columns=['Year','Customers'])\n",
    "df"
   ]
  },
  {
   "cell_type": "code",
   "execution_count": 34,
   "metadata": {
    "collapsed": false,
    "nbpresent": {
     "id": "340592f6-78d1-48b0-ac3b-bfa9808a4dc1"
    }
   },
   "outputs": [
    {
     "data": {
      "text/html": [
       "<div>\n",
       "<table border=\"1\" class=\"dataframe\">\n",
       "  <thead>\n",
       "    <tr style=\"text-align: right;\">\n",
       "      <th></th>\n",
       "      <th>Year</th>\n",
       "      <th>Customers</th>\n",
       "    </tr>\n",
       "  </thead>\n",
       "  <tbody>\n",
       "    <tr>\n",
       "      <th>0</th>\n",
       "      <td>2014</td>\n",
       "      <td>30.00000</td>\n",
       "    </tr>\n",
       "    <tr>\n",
       "      <th>1</th>\n",
       "      <td>2015</td>\n",
       "      <td>60.82202</td>\n",
       "    </tr>\n",
       "  </tbody>\n",
       "</table>\n",
       "</div>"
      ],
      "text/plain": [
       "   Year  Customers\n",
       "0  2014   30.00000\n",
       "1  2015   60.82202"
      ]
     },
     "execution_count": 34,
     "metadata": {},
     "output_type": "execute_result"
    }
   ],
   "source": [
    "df.head(2)"
   ]
  },
  {
   "cell_type": "code",
   "execution_count": 35,
   "metadata": {
    "collapsed": false,
    "nbpresent": {
     "id": "286db730-6d49-4f87-9e9a-44770f14101a"
    }
   },
   "outputs": [
    {
     "data": {
      "text/html": [
       "<div>\n",
       "<table border=\"1\" class=\"dataframe\">\n",
       "  <thead>\n",
       "    <tr style=\"text-align: right;\">\n",
       "      <th></th>\n",
       "      <th>Year</th>\n",
       "      <th>Customers</th>\n",
       "    </tr>\n",
       "  </thead>\n",
       "  <tbody>\n",
       "    <tr>\n",
       "      <th>2</th>\n",
       "      <td>2016</td>\n",
       "      <td>123.310604</td>\n",
       "    </tr>\n",
       "    <tr>\n",
       "      <th>3</th>\n",
       "      <td>2017</td>\n",
       "      <td>250.000000</td>\n",
       "    </tr>\n",
       "  </tbody>\n",
       "</table>\n",
       "</div>"
      ],
      "text/plain": [
       "   Year   Customers\n",
       "2  2016  123.310604\n",
       "3  2017  250.000000"
      ]
     },
     "execution_count": 35,
     "metadata": {},
     "output_type": "execute_result"
    }
   ],
   "source": [
    "df.tail(2)"
   ]
  },
  {
   "cell_type": "markdown",
   "metadata": {
    "nbpresent": {
     "id": "941ecb8e-8d62-4cba-8d4d-49b851313ca1"
    }
   },
   "source": [
    "#### Line chart"
   ]
  },
  {
   "cell_type": "code",
   "execution_count": 37,
   "metadata": {
    "collapsed": false,
    "nbpresent": {
     "id": "1c17a7bf-7077-48d0-b8f5-38845853660e"
    }
   },
   "outputs": [
    {
     "data": {
      "text/plain": [
       "[<matplotlib.lines.Line2D at 0xb63ad30>]"
      ]
     },
     "execution_count": 37,
     "metadata": {},
     "output_type": "execute_result"
    },
    {
     "data": {
      "image/png": "[encoded data removed]",
      "text/plain": [
       "<matplotlib.figure.Figure at 0xb453b38>"
      ]
     },
     "metadata": {},
     "output_type": "display_data"
    }
   ],
   "source": [
    "plt.plot(df['Year'], df['Customers'])"
   ]
  },
  {
   "cell_type": "markdown",
   "metadata": {
    "nbpresent": {
     "id": "e669accf-2611-4273-8ba0-01d92517a89b"
    }
   },
   "source": [
    "#### Bar chart"
   ]
  },
  {
   "cell_type": "code",
   "execution_count": 39,
   "metadata": {
    "collapsed": false,
    "nbpresent": {
     "id": "8e314949-a08d-475c-8098-43f8cfa78dc6"
    }
   },
   "outputs": [
    {
     "data": {
      "text/plain": [
       "[<matplotlib.lines.Line2D at 0xb68c7f0>]"
      ]
     },
     "execution_count": 39,
     "metadata": {},
     "output_type": "execute_result"
    },
    {
     "data": {
      "image/png": "[encoded data removed]",
      "text/plain": [
       "<matplotlib.figure.Figure at 0xb670518>"
      ]
     },
     "metadata": {},
     "output_type": "display_data"
    }
   ],
   "source": [
    "plt.xlabel('Year')\n",
    "plt.ylabel('Customer Count')\n",
    "plt.grid(True)\n",
    "plt.title('Customer Growth')\n",
    "\n",
    "plt.bar(df['Year'], df['Customers'])\n",
    "\n",
    "plt.plot(df['Year'], df['Customers'], 'r-')"
   ]
  },
  {
   "cell_type": "markdown",
   "metadata": {
    "nbpresent": {
     "id": "d040f9c4-f02a-46c8-b4c6-ab7cb7c0ab46"
    }
   },
   "source": [
    "## Multimedia with HTML5 -Text, Image, Audio, Video  <a class=\"anchor\" id=\"hid_html5\"></a> (Having graduated from all the schools)"
   ]
  },
  {
   "cell_type": "code",
   "execution_count": 42,
   "metadata": {
    "collapsed": false,
    "nbpresent": {
     "id": "1ec80f66-2106-432d-b0cc-2293f8324bd6"
    }
   },
   "outputs": [],
   "source": [
    "# from IPython.display import HTML, SVG, YouTubeVideo"
   ]
  },
  {
   "cell_type": "markdown",
   "metadata": {
    "nbpresent": {
     "id": "5d438cf4-af7e-4df7-8942-90761ccdc03d"
    }
   },
   "source": [
    "###   create an HTML table dynamically with Python, and we display it in the (HTML-based) notebook."
   ]
  },
  {
   "cell_type": "markdown",
   "metadata": {
    "nbpresent": {
     "id": "469d012d-4381-4c97-93c2-e5170b43df46"
    }
   },
   "source": [
    "Let me create a multiplication table"
   ]
  },
  {
   "cell_type": "code",
   "execution_count": 44,
   "metadata": {
    "collapsed": false,
    "nbpresent": {
     "id": "d4eefee9-e016-4e0f-9b67-497f560b01c4"
    }
   },
   "outputs": [
    {
     "data": {
      "text/html": [
       "\n",
       "<table style=\"border: 2px solid black;\">\n",
       "<tr><td>0x0=0</td><td>0x1=0</td><td>0x2=0</td><td>0x3=0</td><td>0x4=0</td><td>0x5=0</td><td>0x6=0</td><td>0x7=0</td><td>0x8=0</td><td>0x9=0</td></tr><tr><td>1x0=0</td><td>1x1=1</td><td>1x2=2</td><td>1x3=3</td><td>1x4=4</td><td>1x5=5</td><td>1x6=6</td><td>1x7=7</td><td>1x8=8</td><td>1x9=9</td></tr><tr><td>2x0=0</td><td>2x1=2</td><td>2x2=4</td><td>2x3=6</td><td>2x4=8</td><td>2x5=10</td><td>2x6=12</td><td>2x7=14</td><td>2x8=16</td><td>2x9=18</td></tr><tr><td>3x0=0</td><td>3x1=3</td><td>3x2=6</td><td>3x3=9</td><td>3x4=12</td><td>3x5=15</td><td>3x6=18</td><td>3x7=21</td><td>3x8=24</td><td>3x9=27</td></tr><tr><td>4x0=0</td><td>4x1=4</td><td>4x2=8</td><td>4x3=12</td><td>4x4=16</td><td>4x5=20</td><td>4x6=24</td><td>4x7=28</td><td>4x8=32</td><td>4x9=36</td></tr><tr><td>5x0=0</td><td>5x1=5</td><td>5x2=10</td><td>5x3=15</td><td>5x4=20</td><td>5x5=25</td><td>5x6=30</td><td>5x7=35</td><td>5x8=40</td><td>5x9=45</td></tr><tr><td>6x0=0</td><td>6x1=6</td><td>6x2=12</td><td>6x3=18</td><td>6x4=24</td><td>6x5=30</td><td>6x6=36</td><td>6x7=42</td><td>6x8=48</td><td>6x9=54</td></tr><tr><td>7x0=0</td><td>7x1=7</td><td>7x2=14</td><td>7x3=21</td><td>7x4=28</td><td>7x5=35</td><td>7x6=42</td><td>7x7=49</td><td>7x8=56</td><td>7x9=63</td></tr><tr><td>8x0=0</td><td>8x1=8</td><td>8x2=16</td><td>8x3=24</td><td>8x4=32</td><td>8x5=40</td><td>8x6=48</td><td>8x7=56</td><td>8x8=64</td><td>8x9=72</td></tr><tr><td>9x0=0</td><td>9x1=9</td><td>9x2=18</td><td>9x3=27</td><td>9x4=36</td><td>9x5=45</td><td>9x6=54</td><td>9x7=63</td><td>9x8=72</td><td>9x9=81</td></tr>\n",
       "</table>\n"
      ],
      "text/plain": [
       "<IPython.core.display.HTML object>"
      ]
     },
     "execution_count": 44,
     "metadata": {},
     "output_type": "execute_result"
    }
   ],
   "source": [
    "HTML('''\n",
    "<table style=\"border: 2px solid black;\">\n",
    "''' + \n",
    "''.join(['<tr>' + \n",
    "         ''.join(['<td>{row}x{col}={prod}</td>'.format(\n",
    "            row=row, col=col, prod=row*col\n",
    "            ) for col in range(10)]) +\n",
    "         '</tr>' for row in range(10)]) +\n",
    "'''\n",
    "</table>\n",
    "''')"
   ]
  },
  {
   "cell_type": "markdown",
   "metadata": {
    "nbpresent": {
     "id": "df9e7c92-a0a3-496c-b213-eafdb304e767"
    }
   },
   "source": [
    "### display image"
   ]
  },
  {
   "cell_type": "code",
   "execution_count": 45,
   "metadata": {
    "collapsed": false,
    "nbpresent": {
     "id": "6605234f-93e2-41e7-8ce0-7c7aac5e7c4b"
    }
   },
   "outputs": [
    {
     "data": {
      "text/html": [
       "\n",
       "<img src=\"https://s-media-cache-ak0.pinimg.com/564x/59/b6/cc/59b6cc26b9502fa7d8f494050ca80ac4.jpg\" alt=\"sunset\" style=\"width:250px;height:400px;\">\n"
      ],
      "text/plain": [
       "<IPython.core.display.HTML object>"
      ]
     },
     "execution_count": 45,
     "metadata": {},
     "output_type": "execute_result"
    }
   ],
   "source": [
    "HTML(\"\"\"\n",
    "<img src=\"https://s-media-cache-ak0.pinimg.com/564x/59/b6/cc/59b6cc26b9502fa7d8f494050ca80ac4.jpg\" alt=\"sunset\" style=\"width:250px;height:400px;\">\n",
    "\"\"\")"
   ]
  },
  {
   "cell_type": "markdown",
   "metadata": {
    "nbpresent": {
     "id": "42ac8c27-526c-4f9e-ac2e-a398b3776c0a"
    }
   },
   "source": [
    "### create a SVG graphics dynamically."
   ]
  },
  {
   "cell_type": "code",
   "execution_count": 46,
   "metadata": {
    "collapsed": false,
    "nbpresent": {
     "id": "eb0843a1-e45a-4ef9-b191-3d12a6dc8c7c"
    }
   },
   "outputs": [
    {
     "data": {
      "image/svg+xml": [
       "<svg height=\"80\" width=\"600\"><circle cx=\"300\" cy=\"30\" fill=\"red\" r=\"0.0\" stroke=\"black\" stroke-width=\"2\">\n",
       "        </circle><circle cx=\"297\" cy=\"30\" fill=\"red\" r=\"3.0\" stroke=\"black\" stroke-width=\"2\">\n",
       "        </circle><circle cx=\"288\" cy=\"30\" fill=\"red\" r=\"6.0\" stroke=\"black\" stroke-width=\"2\">\n",
       "        </circle><circle cx=\"273\" cy=\"30\" fill=\"red\" r=\"9.0\" stroke=\"black\" stroke-width=\"2\">\n",
       "        </circle><circle cx=\"252\" cy=\"30\" fill=\"red\" r=\"12.0\" stroke=\"black\" stroke-width=\"2\">\n",
       "        </circle><circle cx=\"225\" cy=\"30\" fill=\"red\" r=\"15.0\" stroke=\"black\" stroke-width=\"2\">\n",
       "        </circle><circle cx=\"192\" cy=\"30\" fill=\"red\" r=\"18.0\" stroke=\"black\" stroke-width=\"2\">\n",
       "        </circle><circle cx=\"153\" cy=\"30\" fill=\"red\" r=\"21.0\" stroke=\"black\" stroke-width=\"2\">\n",
       "        </circle><circle cx=\"108\" cy=\"30\" fill=\"red\" r=\"24.0\" stroke=\"black\" stroke-width=\"2\">\n",
       "        </circle><circle cx=\"57\" cy=\"30\" fill=\"red\" r=\"27.0\" stroke=\"black\" stroke-width=\"2\">\n",
       "        </circle></svg>"
      ],
      "text/plain": [
       "<IPython.core.display.SVG object>"
      ]
     },
     "execution_count": 46,
     "metadata": {},
     "output_type": "execute_result"
    }
   ],
   "source": [
    "SVG('''<svg width=\"600\" height=\"80\">''' + \n",
    "''.join(['''<circle cx=\"{x}\" cy=\"{y}\" r=\"{r}\"\n",
    "        fill=\"red\" stroke-width=\"2\" stroke=\"black\">\n",
    "        </circle>'''.format(\n",
    "            x=(30+3*i)*(10-i), y=30, r=3.*float(i)\n",
    "        ) for i in range(10)]) + \n",
    "'''</svg>''')"
   ]
  },
  {
   "cell_type": "markdown",
   "metadata": {
    "nbpresent": {
     "id": "8abf318a-6523-40c3-97d8-aa6e113db74a"
    }
   },
   "source": [
    "### embed an audio clip"
   ]
  },
  {
   "cell_type": "code",
   "execution_count": 47,
   "metadata": {
    "collapsed": false,
    "nbpresent": {
     "id": "1384a433-443d-4b5c-b6b7-ec7486028927"
    }
   },
   "outputs": [
    {
     "data": {
      "text/html": [
       "\n",
       "\n",
       "<table>\n",
       "<tr>\n",
       "<td>\n",
       "<a href=https://talkpython.fm>TalkPython </a>\n",
       "<h2> Guido van Rossum</h2> (Python Creator & Tsar)\n",
       "<h3> Python past, present, and future </h3>\n",
       "<br/>\n",
       "<audio controls>\n",
       "  <source src=\"https://downloads.talkpython.fm/static/episode_cache/100-guido-van-rossum.mp3\" type=\"audio/mpeg\">\n",
       "Your browser does not support the audio element.\n",
       "</audio>\n",
       "</td>\n",
       "<td>\n",
       "<img src=\"https://pbs.twimg.com/profile_images/424495004/GuidoAvatar_400x400.jpg\" alt=\"Guido\" style=\"width:200px;height:200px;\"\n",
       "</td>\n",
       "</tr>\n",
       "</table>\n"
      ],
      "text/plain": [
       "<IPython.core.display.HTML object>"
      ]
     },
     "execution_count": 47,
     "metadata": {},
     "output_type": "execute_result"
    }
   ],
   "source": [
    "HTML(\"\"\"\n",
    "\n",
    "<table>\n",
    "<tr>\n",
    "<td>\n",
    "<a href=https://talkpython.fm>TalkPython </a>\n",
    "<h2> Guido van Rossum</h2> (Python Creator & Tsar)\n",
    "<h3> Python past, present, and future </h3>\n",
    "<br/>\n",
    "<audio controls>\n",
    "  <source src=\"https://downloads.talkpython.fm/static/episode_cache/100-guido-van-rossum.mp3\" type=\"audio/mpeg\">\n",
    "Your browser does not support the audio element.\n",
    "</audio>\n",
    "</td>\n",
    "<td>\n",
    "<img src=\"https://pbs.twimg.com/profile_images/424495004/GuidoAvatar_400x400.jpg\" alt=\"Guido\" style=\"width:200px;height:200px;\"\n",
    "</td>\n",
    "</tr>\n",
    "</table>\n",
    "\"\"\")\n"
   ]
  },
  {
   "cell_type": "markdown",
   "metadata": {
    "nbpresent": {
     "id": "cf191bef-5eb9-4a6d-8628-d3041143a995"
    }
   },
   "source": [
    "### display a Youtube video by giving its identifier to YoutubeVideo."
   ]
  },
  {
   "cell_type": "markdown",
   "metadata": {
    "nbpresent": {
     "id": "6d56798b-148a-4838-98fc-b32974781ceb"
    }
   },
   "source": [
    "#### SciPy 2013 Keynote: IPython"
   ]
  },
  {
   "cell_type": "code",
   "execution_count": 48,
   "metadata": {
    "collapsed": false,
    "nbpresent": {
     "id": "f0a8f2a1-b6c8-4454-932f-c6faf1d4a4b9"
    }
   },
   "outputs": [
    {
     "data": {
      "image/jpeg": "[encoded data removed]",
      "text/html": [
       "\n",
       "        <iframe\n",
       "            width=\"400\"\n",
       "            height=\"300\"\n",
       "            src=\"https://www.youtube.com/embed/j9YpkSX7NNM\"\n",
       "            frameborder=\"0\"\n",
       "            allowfullscreen\n",
       "        ></iframe>\n",
       "        "
      ],
      "text/plain": [
       "<IPython.lib.display.YouTubeVideo at 0xb67a3c8>"
      ]
     },
     "execution_count": 48,
     "metadata": {},
     "output_type": "execute_result"
    }
   ],
   "source": [
    "YouTubeVideo('j9YpkSX7NNM')"
   ]
  },
  {
   "cell_type": "markdown",
   "metadata": {
    "nbpresent": {
     "id": "b35dd3ab-1fe9-4328-b416-61ab83ee438a"
    }
   },
   "source": [
    "## Interactive widgets  <a class=\"anchor\" id=\"hid_widget\"></a>\n",
    "\n",
    "we illustrate the latest interactive features in IPython 2.0+. \n",
    "\n",
    "This version brings graphical widgets in the notebook that can interact with Python objects. \n",
    "\n",
    "We will create a drop-down menu allowing us to display one among several videos."
   ]
  },
  {
   "cell_type": "code",
   "execution_count": 49,
   "metadata": {
    "collapsed": false,
    "nbpresent": {
     "id": "89084255-cc83-4070-b2f5-5434e7f433f8"
    }
   },
   "outputs": [
    {
     "data": {
      "text/plain": [
       "' \\nfrom collections import OrderedDict\\nfrom IPython.display import display, clear_output\\nfrom ipywidgets import Dropdown\\n'"
      ]
     },
     "execution_count": 49,
     "metadata": {},
     "output_type": "execute_result"
    }
   ],
   "source": [
    "# How to comment out multiple lines of code in python\n",
    "\"\"\" \n",
    "from collections import OrderedDict\n",
    "from IPython.display import display, clear_output\n",
    "from ipywidgets import Dropdown\n",
    "\"\"\""
   ]
  },
  {
   "cell_type": "code",
   "execution_count": 50,
   "metadata": {
    "collapsed": false,
    "nbpresent": {
     "id": "469b7baf-79e3-46f6-a5a6-d2219c22f23d"
    }
   },
   "outputs": [
    {
     "data": {
      "image/jpeg": "[encoded data removed]",
      "text/html": [
       "\n",
       "        <iframe\n",
       "            width=\"400\"\n",
       "            height=\"300\"\n",
       "            src=\"https://www.youtube.com/embed/o1dBg__wsuo\"\n",
       "            frameborder=\"0\"\n",
       "            allowfullscreen\n",
       "        ></iframe>\n",
       "        "
      ],
      "text/plain": [
       "<IPython.lib.display.YouTubeVideo at 0xb187fd0>"
      ]
     },
     "metadata": {},
     "output_type": "display_data"
    },
    {
     "name": "stderr",
     "output_type": "stream",
     "text": [
      "Widget Javascript not detected.  It may not be installed properly. Did you enable the widgetsnbextension? If not, then run \"jupyter nbextension enable --py --sys-prefix widgetsnbextension\"\n"
     ]
    }
   ],
   "source": [
    "# We create a Dropdown widget, with a dictionary containing\n",
    "# the keys (video name) and the values (Youtube identifier) of every menu item.\n",
    "\n",
    "dw = Dropdown(options=OrderedDict([\n",
    "                        ('SciPy 2012', 'iwVvqwLDsJo'), \n",
    "                        ('PyCon 2012', '2G5YTlheCbw'),\n",
    "                        ('SciPy 2013', 'j9YpkSX7NNM'),\n",
    "                        ('Guido Van Rossum', 'EBRMq2Ioxsc'),\n",
    "                        ('Mendelssohn Violin', 'o1dBg__wsuo')\n",
    "        ]))\n",
    "\n",
    "# We create a callback function that displays the requested Youtube video.\n",
    "def on_value_change(name, val):\n",
    "    clear_output()\n",
    "    display(YouTubeVideo(val))\n",
    "# Every time the user selects an item, the function\n",
    "# `on_value_change` is called, and the `val` argument\n",
    "# contains the value of the selected item.\n",
    "dw.on_trait_change(on_value_change, 'value')\n",
    "# We choose a default value.\n",
    "dw.value = dw.options['Mendelssohn Violin']\n",
    "\n",
    "# Finally, we display the widget.\n",
    "display(dw)"
   ]
  },
  {
   "cell_type": "markdown",
   "metadata": {},
   "source": [
    "## Working with SQLite Databases  <a class=\"anchor\" id=\"hid_sqlite\"></a>\n",
    "\n",
    "read [blog](https://www.dataquest.io/blog/python-pandas-databases/) at [DataQuest](https://www.dataquest.io)"
   ]
  },
  {
   "cell_type": "code",
   "execution_count": 51,
   "metadata": {
    "collapsed": false
   },
   "outputs": [
    {
     "data": {
      "text/html": [
       "<div>\n",
       "<table border=\"1\" class=\"dataframe\">\n",
       "  <thead>\n",
       "    <tr style=\"text-align: right;\">\n",
       "      <th></th>\n",
       "      <th>year</th>\n",
       "      <th>subject</th>\n",
       "      <th>subjecturl</th>\n",
       "      <th>person</th>\n",
       "      <th>picture</th>\n",
       "      <th>history</th>\n",
       "    </tr>\n",
       "  </thead>\n",
       "  <tbody>\n",
       "    <tr>\n",
       "      <th>0</th>\n",
       "      <td>1983</td>\n",
       "      <td>GNU Project : gcc, Emacs, gdb</td>\n",
       "      <td>https://en.wikipedia.org/wiki/GNU_Project</td>\n",
       "      <td>Richard Stallman</td>\n",
       "      <td>https://upload.wikimedia.org/wikipedia/commons...</td>\n",
       "      <td>Launch of the free software movement and found...</td>\n",
       "    </tr>\n",
       "    <tr>\n",
       "      <th>1</th>\n",
       "      <td>1984</td>\n",
       "      <td>X Window Systerm</td>\n",
       "      <td>https://en.wikipedia.org/wiki/X_Window_System</td>\n",
       "      <td>X.Org</td>\n",
       "      <td>https://upload.wikimedia.org/wikipedia/commons...</td>\n",
       "      <td>basic framework for a GUI environment</td>\n",
       "    </tr>\n",
       "    <tr>\n",
       "      <th>2</th>\n",
       "      <td>1983</td>\n",
       "      <td>GNU Project : gcc, Emacs, gdb</td>\n",
       "      <td>https://en.wikipedia.org/wiki/GNU_Project</td>\n",
       "      <td>Richard Stallman</td>\n",
       "      <td>https://upload.wikimedia.org/wikipedia/commons...</td>\n",
       "      <td>Launch of the free software movement and found...</td>\n",
       "    </tr>\n",
       "    <tr>\n",
       "      <th>3</th>\n",
       "      <td>1984</td>\n",
       "      <td>X Window Systerm</td>\n",
       "      <td>https://en.wikipedia.org/wiki/X_Window_System</td>\n",
       "      <td>X.Org</td>\n",
       "      <td>https://upload.wikimedia.org/wikipedia/commons...</td>\n",
       "      <td>basic framework for a GUI environment</td>\n",
       "    </tr>\n",
       "    <tr>\n",
       "      <th>4</th>\n",
       "      <td>1985</td>\n",
       "      <td>GNU Manifesto: GNU's Not Unix</td>\n",
       "      <td>https://en.wikipedia.org/wiki/GNU_Manifesto</td>\n",
       "      <td>Richard Stallman</td>\n",
       "      <td>https://upload.wikimedia.org/wikipedia/en/thum...</td>\n",
       "      <td>disagreement between Stallman and Symbolics, I...</td>\n",
       "    </tr>\n",
       "  </tbody>\n",
       "</table>\n",
       "</div>"
      ],
      "text/plain": [
       "   year                        subject  \\\n",
       "0  1983  GNU Project : gcc, Emacs, gdb   \n",
       "1  1984               X Window Systerm   \n",
       "2  1983  GNU Project : gcc, Emacs, gdb   \n",
       "3  1984               X Window Systerm   \n",
       "4  1985  GNU Manifesto: GNU's Not Unix   \n",
       "\n",
       "                                      subjecturl            person  \\\n",
       "0      https://en.wikipedia.org/wiki/GNU_Project  Richard Stallman   \n",
       "1  https://en.wikipedia.org/wiki/X_Window_System             X.Org   \n",
       "2      https://en.wikipedia.org/wiki/GNU_Project  Richard Stallman   \n",
       "3  https://en.wikipedia.org/wiki/X_Window_System             X.Org   \n",
       "4    https://en.wikipedia.org/wiki/GNU_Manifesto  Richard Stallman   \n",
       "\n",
       "                                             picture  \\\n",
       "0  https://upload.wikimedia.org/wikipedia/commons...   \n",
       "1  https://upload.wikimedia.org/wikipedia/commons...   \n",
       "2  https://upload.wikimedia.org/wikipedia/commons...   \n",
       "3  https://upload.wikimedia.org/wikipedia/commons...   \n",
       "4  https://upload.wikimedia.org/wikipedia/en/thum...   \n",
       "\n",
       "                                             history  \n",
       "0  Launch of the free software movement and found...  \n",
       "1              basic framework for a GUI environment  \n",
       "2  Launch of the free software movement and found...  \n",
       "3              basic framework for a GUI environment  \n",
       "4  disagreement between Stallman and Symbolics, I...  "
      ]
     },
     "execution_count": 51,
     "metadata": {},
     "output_type": "execute_result"
    }
   ],
   "source": [
    "# open connection to db\n",
    "conn = sqlite3.connect(\"dataset/open_src.sqlite\")\n",
    "\n",
    "# create a cursor\n",
    "cur = conn.cursor()\n",
    "\n",
    "# select query\n",
    "results = cur.execute(\"select * from os_history limit 100;\").fetchall()\n",
    "#print(results)\n",
    "\n",
    "# count # of rows\n",
    "results = cur.execute(\"select count(*) from os_history;\").fetchall()\n",
    "#print(results)\n",
    "\n",
    "# store data from csv file into db\n",
    "with open('dataset/open_src_move_v2_1.csv') as csvfile:\n",
    "    reader = csv.DictReader(csvfile)\n",
    "    for row in reader:\n",
    "        #print(row['Year'])\n",
    "        insert_str=\"\"\"\n",
    "            insert into os_history(year,subject,subjecturl,person,picture,history)\n",
    "            values ({year}, \"{subject}\", \"{subject_url}\", \"{person}\", \"{picture}\", \"{history}\")\n",
    "        \"\"\"\n",
    "        #print(insert_str.format(year=row['Year'],subject=row['Subject'],subject_url=row['SubjectURL'],person=row['Person'],picture=row['Picture'],history=row['History']))\n",
    "        cur.execute(insert_str.format(year=row['Year'],subject=row['Subject'],subject_url=row['SubjectURL'],person=row['Person'],picture=row['Picture'],history=row['History']))\n",
    "    conn.commit()\n",
    "    \n",
    "# create a dataframe\n",
    "df = pd.read_sql_query(\"select * from os_history limit 5;\",conn)\n",
    "\n",
    "# inspect data\n",
    "df"
   ]
  },
  {
   "cell_type": "markdown",
   "metadata": {
    "collapsed": true,
    "nbpresent": {
     "id": "58dc82ce-5499-45ba-a45d-5983a5c22edb"
    }
   },
   "source": [
    "## References <a class=\"anchor\" id=\"hid_ref\"></a>"
   ]
  },
  {
   "cell_type": "markdown",
   "metadata": {
    "nbpresent": {
     "id": "ac06c191-b6a8-48f6-86f6-c78c76462861"
    }
   },
   "source": [
    "### Websites"
   ]
  },
  {
   "cell_type": "markdown",
   "metadata": {
    "nbpresent": {
     "id": "bcf75c29-93f1-453d-81c1-fbd5d2c95c2c"
    }
   },
   "source": [
    "* [DataCamp - Jupyter Notebook Tutorial](https://www.datacamp.com/community/tutorials/tutorial-jupyter-notebook#gs.ClmI4Jc)\n",
    "\n",
    "\n",
    "* http://docs.python.org\n",
    "\n",
    "It goes without saying that Pythonâ€™s own online documentation is an excellent resource if you need to delve into the finer details of the language and modules. Just make sure youâ€™re looking at the documentation for Python 3 and not earlier versions.\n",
    "\n",
    "* http://www.python.org/dev/peps\n",
    "\n",
    "Python Enhancement Proposals (PEPs) are invaluable if you want to understand the motivation for adding new features to the Python language as well as subtle implementation details. This is especially true for some of the more advanced language features. In writing this book, the PEPs were often more useful than the official documentation.\n",
    "\n",
    "* http://pyvideo.org\n",
    "\n",
    "This is a large collection of video presentations and tutorials from past PyCon conferences, user group meetings, and more. It can be an invaluable resource for learning about modern Python development. Many of the videos feature Python core developers talking about the new features being added in Python 3.\n",
    "\n",
    "* http://code.activestate.com/recipes/langs/python\n",
    "\n",
    "The ActiveState Python recipes site has long been a resource for finding the solution to thousands of specific programming problems. As of this writing, it contains approximately 300 recipes specific to Python 3. Youâ€™ll find that many of its recipes either expand upon topics covered in this book or focus on more narrowly defined tasks. As such, itâ€™s a good companion.\n",
    "\n",
    "* http://stackoverflow.com/questions/tagged/python\n",
    "\n",
    "Stack Overflow currently has more than 175,000 questions tagged as Python-related (and almost 5000 questions specific to Python 3). Although the quality of the questions and answers varies, there is a lot of good material to be found."
   ]
  },
  {
   "cell_type": "markdown",
   "metadata": {
    "nbpresent": {
     "id": "66662698-f8b7-4482-b9dc-d220a918e51d"
    }
   },
   "source": [
    "### Books"
   ]
  },
  {
   "cell_type": "markdown",
   "metadata": {
    "nbpresent": {
     "id": "28979679-24a9-455b-a06c-f82ace24848b"
    }
   },
   "source": [
    "*  [Learning IPython for Interactive Computing and Data Visualization - Second Edition (By Cyrille Rossant)](https://github.com/ipython-books/minibook-2nd-code)\n",
    "*  [IPython Interactive Computing and Visualization Cookbook  (By Cyrille Rossant)](https://github.com/ipython-books/cookbook-code)\n",
    "*  [Python Cookbook, 3rd Edition by David Beazley; Brian K. Jones](https://github.com/dabeaz/python-cookbook)\n",
    "*  [Python for Data Analysis by Wes McKinney](https://github.com/wesm/pydata-book)\n"
   ]
  },
  {
   "cell_type": "markdown",
   "metadata": {
    "nbpresent": {
     "id": "06ce80e4-29de-4994-9808-c8feffa25d8d"
    }
   },
   "source": [
    "### Other Resources\n",
    "\n",
    "* Idea\n",
    "    - [Google Search](http://www.google.com)\n",
    "* Text\n",
    "    - [Wikipedia](https://www.wikipedia.org/)\n",
    "* Image\n",
    "    - [Google Images](https://www.google.com/imghp)\n",
    "* Video\n",
    "    - [YouTube](https://www.youtube.com/)\n"
   ]
  },
  {
   "cell_type": "markdown",
   "metadata": {
    "nbpresent": {
     "id": "095385ad-d26d-4168-9bd6-09029a9fe701"
    }
   },
   "source": [
    "## Contributors <a class=\"anchor\" id=\"hid_author\"></a>"
   ]
  },
  {
   "cell_type": "markdown",
   "metadata": {
    "collapsed": true,
    "nbpresent": {
     "id": "3c647eed-ff6d-4b34-ae0b-08ee99798711"
    }
   },
   "source": [
    "* wen.gong@oracle.com (first created on 2017-03-09)"
   ]
  },
  {
   "cell_type": "markdown",
   "metadata": {
    "collapsed": true,
    "nbpresent": {
     "id": "08d52625-4758-4290-b292-0f166e9ae95d"
    }
   },
   "source": [
    "## Appendix <a class=\"anchor\" id=\"hid_apend\"></a> "
   ]
  },
  {
   "cell_type": "markdown",
   "metadata": {
    "collapsed": true,
    "nbpresent": {
     "id": "ec7bcfc3-e3fc-413c-ab52-59da41e9d885"
    }
   },
   "source": [
    "### How to install Jupyter Notebook <a class=\"anchor\" id=\"hid_setup\"></a>"
   ]
  },
  {
   "cell_type": "markdown",
   "metadata": {
    "nbpresent": {
     "id": "6d1f3b83-78be-4853-bc1d-e61c7e1950c6"
    }
   },
   "source": [
    "I use Windows and follow this link to [install Ananconda Python distribution](https://www.tensorflow.org/install/)\n",
    "\n",
    "* Follow the instructions on the [Anaconda download site](https://www.continuum.io/downloads) to download and install Anaconda.\n",
    "\n",
    "* open a DOS command box, launch jupyter by typing\n",
    "    > jupyter notebook\n",
    "    \n",
    "* wait till Jupyter homepage to open in a browser\n",
    "\n",
    "* start to create your own Notebook"
   ]
  },
  {
   "cell_type": "markdown",
   "metadata": {
    "nbpresent": {
     "id": "fa5bff1d-0529-4f92-8a18-3acc585bcbd7"
    }
   },
   "source": [
    "### How to share a notebook <a class=\"anchor\" id=\"hid_share\"></a>"
   ]
  },
  {
   "cell_type": "markdown",
   "metadata": {
    "nbpresent": {
     "id": "02fbc4ce-f18f-4ac0-a8b1-3cca3e3d29e4"
    }
   },
   "source": [
    "share your learning or work via nbviewer at http://nbviewer.jupyter.org/"
   ]
  },
  {
   "cell_type": "code",
   "execution_count": 52,
   "metadata": {
    "collapsed": false
   },
   "outputs": [
    {
     "data": {
      "text/html": [
       "<img src=images/to-be-continued-1.jpg>"
      ],
      "text/plain": [
       "<IPython.core.display.HTML object>"
      ]
     },
     "execution_count": 52,
     "metadata": {},
     "output_type": "execute_result"
    }
   ],
   "source": [
    "HTML(\"<img src=images/to-be-continued-1.jpg>\")"
   ]
  },
  {
   "cell_type": "code",
   "execution_count": null,
   "metadata": {
    "collapsed": true
   },
   "outputs": [],
   "source": []
  },
  {
   "cell_type": "code",
   "execution_count": null,
   "metadata": {
    "collapsed": true
   },
   "outputs": [],
   "source": []
  }
 ],
 "metadata": {
  "anaconda-cloud": {},
  "kernelspec": {
   "display_name": "Python [default]",
   "language": "python",
   "name": "python3"
  },
  "language_info": {
   "codemirror_mode": {
    "name": "ipython",
    "version": 3
   },
   "file_extension": ".py",
   "mimetype": "text/x-python",
   "name": "python",
   "nbconvert_exporter": "python",
   "pygments_lexer": "ipython3",
   "version": "3.5.2"
  },
  "nbpresent": {
   "slides": {
    "036ced81-275e-46c6-b01d-ac7f0fa5a92f": {
     "id": "036ced81-275e-46c6-b01d-ac7f0fa5a92f",
     "prev": "9f5341eb-d510-4ac9-acd6-f017abb357b9",
     "regions": {
      "80cca970-3ef5-48a4-ac47-0b79a58d1265": {
       "attrs": {
        "height": 0.8,
        "width": 0.8,
        "x": 0.1,
        "y": 0.1
       },
       "content": {
        "cell": "51394eeb-0d86-41b0-95d6-9ee591eee1f8",
        "part": "whole"
       },
       "id": "80cca970-3ef5-48a4-ac47-0b79a58d1265"
      }
     }
    },
    "04e16d41-13db-431c-82a5-d682e5954ced": {
     "id": "04e16d41-13db-431c-82a5-d682e5954ced",
     "prev": "74cdd899-9635-4056-a51b-6bfa69f7e39f",
     "regions": {
      "de1a5848-8e1d-493a-9789-0bf20271dc2b": {
       "attrs": {
        "height": 0.8,
        "width": 0.8,
        "x": 0.1,
        "y": 0.1
       },
       "content": {
        "cell": "30861e9b-f7e6-41b2-be2d-d1636961816b",
        "part": "whole"
       },
       "id": "de1a5848-8e1d-493a-9789-0bf20271dc2b"
      }
     }
    },
    "05e95f7b-f99d-469d-b050-5d8088414d64": {
     "id": "05e95f7b-f99d-469d-b050-5d8088414d64",
     "prev": "57d420b3-3a8c-44d5-9140-dd7563653f2e",
     "regions": {
      "5e977b39-f7be-419c-af96-56af32f1ef3f": {
       "attrs": {
        "height": 0.8,
        "width": 0.8,
        "x": 0.1,
        "y": 0.1
       },
       "content": {
        "cell": "95cf6bd7-4a1d-430c-9c92-f3f0ecfcb1e2",
        "part": "whole"
       },
       "id": "5e977b39-f7be-419c-af96-56af32f1ef3f"
      }
     }
    },
    "0637f2ed-d49c-4166-8228-5238ec1f4619": {
     "id": "0637f2ed-d49c-4166-8228-5238ec1f4619",
     "prev": "036ced81-275e-46c6-b01d-ac7f0fa5a92f",
     "regions": {
      "bcbc8176-4ef5-4a8e-a60b-4648e08dfd10": {
       "attrs": {
        "height": 0.8,
        "width": 0.8,
        "x": 0.1,
        "y": 0.1
       },
       "content": {
        "cell": "b3f0a998-06e6-4872-abaf-f454832cf692",
        "part": "whole"
       },
       "id": "bcbc8176-4ef5-4a8e-a60b-4648e08dfd10"
      }
     }
    },
    "06890039-40ea-4db1-985e-ac6e5271d03c": {
     "id": "06890039-40ea-4db1-985e-ac6e5271d03c",
     "prev": "ab352c60-0716-41d3-8d25-1cb1896ff4f9",
     "regions": {
      "4ffcb38f-51b4-4819-86e7-85d4f5e9228c": {
       "attrs": {
        "height": 0.8,
        "width": 0.8,
        "x": 0.1,
        "y": 0.1
       },
       "content": {
        "cell": "469d012d-4381-4c97-93c2-e5170b43df46",
        "part": "whole"
       },
       "id": "4ffcb38f-51b4-4819-86e7-85d4f5e9228c"
      }
     }
    },
    "075abc8a-5f69-450d-a8af-6f8f7b829f31": {
     "id": "075abc8a-5f69-450d-a8af-6f8f7b829f31",
     "prev": "144a87ec-1397-4a2f-a560-e90e05228094",
     "regions": {
      "b7f64d23-cab2-4774-ad92-9d9071e13d70": {
       "attrs": {
        "height": 0.8,
        "width": 0.8,
        "x": 0.1,
        "y": 0.1
       },
       "content": {
        "cell": "543b2781-e45b-4dbb-894e-0b6dfac0dfd3",
        "part": "whole"
       },
       "id": "b7f64d23-cab2-4774-ad92-9d9071e13d70"
      }
     }
    },
    "0dc9db92-5f32-4504-a7a3-72e4736a6daa": {
     "id": "0dc9db92-5f32-4504-a7a3-72e4736a6daa",
     "prev": "2a7843ce-5407-49d9-abdf-f671f57e9ac4",
     "regions": {
      "6b73c16a-322a-4c12-9000-61986481ef3e": {
       "attrs": {
        "height": 0.8,
        "width": 0.8,
        "x": 0.1,
        "y": 0.1
       },
       "content": {
        "cell": "635887f9-ec1e-4761-87e3-10dd2fb8f229",
        "part": "whole"
       },
       "id": "6b73c16a-322a-4c12-9000-61986481ef3e"
      }
     }
    },
    "0f64fb8d-4c40-474f-8aa2-335b212b4419": {
     "id": "0f64fb8d-4c40-474f-8aa2-335b212b4419",
     "prev": "58aa630c-9013-4dfe-860b-44892b216487",
     "regions": {
      "71ac1d54-d46b-4c24-ac78-cdd4aa5713dc": {
       "attrs": {
        "height": 0.8,
        "width": 0.8,
        "x": 0.1,
        "y": 0.1
       },
       "content": {
        "cell": "9f668018-9d46-4cef-8ee0-72b6e34d6490",
        "part": "whole"
       },
       "id": "71ac1d54-d46b-4c24-ac78-cdd4aa5713dc"
      }
     }
    },
    "11144c94-b92b-419d-9db9-1d8794889fd2": {
     "id": "11144c94-b92b-419d-9db9-1d8794889fd2",
     "prev": "04e16d41-13db-431c-82a5-d682e5954ced",
     "regions": {
      "e0981b40-f11e-498f-818d-37151f89a9b8": {
       "attrs": {
        "height": 0.8,
        "width": 0.8,
        "x": 0.1,
        "y": 0.1
       },
       "content": {
        "cell": "40d4fcce-0acd-452d-b56a-0caf808e1464",
        "part": "whole"
       },
       "id": "e0981b40-f11e-498f-818d-37151f89a9b8"
      }
     }
    },
    "115958f1-90cf-46fb-9d1c-54ded399d4a0": {
     "id": "115958f1-90cf-46fb-9d1c-54ded399d4a0",
     "prev": "c4cec335-76e0-4ee0-a661-e21f0ad4870a",
     "regions": {
      "730f062b-c3ab-41c3-816f-722f13abee44": {
       "attrs": {
        "height": 0.8,
        "width": 0.8,
        "x": 0.1,
        "y": 0.1
       },
       "content": {
        "cell": "eb0843a1-e45a-4ef9-b191-3d12a6dc8c7c",
        "part": "whole"
       },
       "id": "730f062b-c3ab-41c3-816f-722f13abee44"
      }
     }
    },
    "144a87ec-1397-4a2f-a560-e90e05228094": {
     "id": "144a87ec-1397-4a2f-a560-e90e05228094",
     "prev": "5fb1985c-994d-46f6-a33d-43536f9501d8",
     "regions": {
      "561fea8c-8171-426f-a550-cc12d2a0000f": {
       "attrs": {
        "height": 0.8,
        "width": 0.8,
        "x": 0.1,
        "y": 0.1
       },
       "content": {
        "cell": "09fdb815-ef9e-4fd7-8dd3-c0f30437990a",
        "part": "whole"
       },
       "id": "561fea8c-8171-426f-a550-cc12d2a0000f"
      }
     }
    },
    "1a8a6a6a-0d64-4827-938e-780fc758683f": {
     "id": "1a8a6a6a-0d64-4827-938e-780fc758683f",
     "prev": "e8e9e758-4f53-4204-bea1-b1af2838246f",
     "regions": {
      "757c42fb-7408-49fd-90b3-1094eb3d4182": {
       "attrs": {
        "height": 0.8,
        "width": 0.8,
        "x": 0.1,
        "y": 0.1
       },
       "content": {
        "cell": "e52f4a27-8dc3-4f11-9d71-1e05704cdedf",
        "part": "whole"
       },
       "id": "757c42fb-7408-49fd-90b3-1094eb3d4182"
      }
     }
    },
    "1e942d95-7f30-41c4-b072-6573de1e7845": {
     "id": "1e942d95-7f30-41c4-b072-6573de1e7845",
     "prev": "4a9310b8-d4c8-46b7-800f-32aad327f420",
     "regions": {
      "42671f45-9326-47dc-a89e-d7f351bc77ba": {
       "attrs": {
        "height": 0.8,
        "width": 0.8,
        "x": 0.1,
        "y": 0.1
       },
       "content": {
        "cell": "1ec80f66-2106-432d-b0cc-2293f8324bd6",
        "part": "whole"
       },
       "id": "42671f45-9326-47dc-a89e-d7f351bc77ba"
      }
     }
    },
    "20af393b-ca44-4a4c-a7dd-9d49883380e0": {
     "id": "20af393b-ca44-4a4c-a7dd-9d49883380e0",
     "prev": "bb09f5a9-54a8-45d8-a1dd-26ae84a99ec1",
     "regions": {
      "1c6a410c-f753-4ccc-8975-cdcf370b25f6": {
       "attrs": {
        "height": 0.8,
        "width": 0.8,
        "x": 0.1,
        "y": 0.1
       },
       "content": {
        "cell": "66c4b853-a7be-4619-b348-514df558e698",
        "part": "whole"
       },
       "id": "1c6a410c-f753-4ccc-8975-cdcf370b25f6"
      }
     }
    },
    "22487b9f-5ccf-4ca0-8186-a622bc7cb6ce": {
     "id": "22487b9f-5ccf-4ca0-8186-a622bc7cb6ce",
     "prev": "ecddb274-e961-42df-b284-60cf59c5c95b",
     "regions": {
      "ecca1285-6ef0-4173-81a6-ecfd37f0d1f2": {
       "attrs": {
        "height": 0.8,
        "width": 0.8,
        "x": 0.1,
        "y": 0.1
       },
       "content": {
        "cell": "b35dd3ab-1fe9-4328-b416-61ab83ee438a",
        "part": "whole"
       },
       "id": "ecca1285-6ef0-4173-81a6-ecfd37f0d1f2"
      }
     }
    },
    "261db34f-c37f-49d2-b605-caadcbd518e5": {
     "id": "261db34f-c37f-49d2-b605-caadcbd518e5",
     "prev": "d5dc4170-5d60-49e8-8949-e535527cb697",
     "regions": {
      "7831fd8f-f357-4075-b66b-fcdb2b75f13a": {
       "attrs": {
        "height": 0.8,
        "width": 0.8,
        "x": 0.1,
        "y": 0.1
       },
       "content": {
        "cell": "6d56798b-148a-4838-98fc-b32974781ceb",
        "part": "whole"
       },
       "id": "7831fd8f-f357-4075-b66b-fcdb2b75f13a"
      }
     }
    },
    "29fc4bb8-1991-48ff-9666-8e6ff5b43264": {
     "id": "29fc4bb8-1991-48ff-9666-8e6ff5b43264",
     "prev": "eabecd1d-34fd-45a2-843c-a6ae518fe2bd",
     "regions": {
      "4835d08f-34af-4b02-b20f-5308005f9779": {
       "attrs": {
        "height": 0.8,
        "width": 0.8,
        "x": 0.1,
        "y": 0.1
       },
       "content": {
        "cell": "b8c7bd40-31ba-4950-93a7-b9793c3b28d7",
        "part": "whole"
       },
       "id": "4835d08f-34af-4b02-b20f-5308005f9779"
      }
     }
    },
    "2a0fc452-39ff-438c-af38-e7494abde8aa": {
     "id": "2a0fc452-39ff-438c-af38-e7494abde8aa",
     "prev": "a1cbf7df-6709-4749-88e7-beec40938f40",
     "regions": {
      "83be5888-a56a-4b74-80b8-ddf0b1bc4b1f": {
       "attrs": {
        "height": 0.8,
        "width": 0.8,
        "x": 0.1,
        "y": 0.1
       },
       "content": {
        "cell": "6605234f-93e2-41e7-8ce0-7c7aac5e7c4b",
        "part": "whole"
       },
       "id": "83be5888-a56a-4b74-80b8-ddf0b1bc4b1f"
      }
     }
    },
    "2a7843ce-5407-49d9-abdf-f671f57e9ac4": {
     "id": "2a7843ce-5407-49d9-abdf-f671f57e9ac4",
     "prev": "05e95f7b-f99d-469d-b050-5d8088414d64",
     "regions": {
      "e3db3729-8686-478a-8758-57f6de30b865": {
       "attrs": {
        "height": 0.8,
        "width": 0.8,
        "x": 0.1,
        "y": 0.1
       },
       "content": {
        "cell": "92028685-116f-4efe-bf56-d5059998a976",
        "part": "whole"
       },
       "id": "e3db3729-8686-478a-8758-57f6de30b865"
      }
     }
    },
    "2b224373-9c9d-4990-847a-65811e8add40": {
     "id": "2b224373-9c9d-4990-847a-65811e8add40",
     "prev": "4e677e1d-e325-4736-8a1c-84067c0b9956",
     "regions": {
      "06dab78e-5f43-457d-bb8a-678d036fd59a": {
       "attrs": {
        "height": 0.8,
        "width": 0.8,
        "x": 0.1,
        "y": 0.1
       },
       "content": {
        "cell": "79871358-f571-4f61-90fb-ee2e2fe1e792",
        "part": "whole"
       },
       "id": "06dab78e-5f43-457d-bb8a-678d036fd59a"
      }
     }
    },
    "2bed995a-0d32-4a48-a845-d942590380f3": {
     "id": "2bed995a-0d32-4a48-a845-d942590380f3",
     "prev": "d79c79be-5606-41b7-b6f1-9f99c269f5b7",
     "regions": {
      "6523a5ad-d328-4f47-ac4c-41415be41c5f": {
       "attrs": {
        "height": 0.8,
        "width": 0.8,
        "x": 0.1,
        "y": 0.1
       },
       "content": {
        "cell": "81e52f61-9b24-49b2-9953-191e6fe26656",
        "part": "whole"
       },
       "id": "6523a5ad-d328-4f47-ac4c-41415be41c5f"
      }
     }
    },
    "2ea7baab-c063-477b-8af9-fc27f90ba85a": {
     "id": "2ea7baab-c063-477b-8af9-fc27f90ba85a",
     "prev": "fc637b7b-ef49-4335-a3e6-ad26af60dd37",
     "regions": {
      "02ff5915-0007-4441-8664-99e53d05dabd": {
       "attrs": {
        "height": 0.8,
        "width": 0.8,
        "x": 0.1,
        "y": 0.1
       },
       "content": {
        "cell": "b33222f5-ca6f-4f6b-91f4-fa13ae22864a",
        "part": "whole"
       },
       "id": "02ff5915-0007-4441-8664-99e53d05dabd"
      }
     }
    },
    "3374c0bf-0438-4fa4-b82e-2a5a1675f0fc": {
     "id": "3374c0bf-0438-4fa4-b82e-2a5a1675f0fc",
     "prev": "9c99d28b-3487-450e-9059-c7a32acfd5be",
     "regions": {
      "4bc4a03e-286c-434a-a415-5e5b2694e4da": {
       "attrs": {
        "height": 0.8,
        "width": 0.8,
        "x": 0.1,
        "y": 0.1
       },
       "content": {
        "cell": "ac06c191-b6a8-48f6-86f6-c78c76462861",
        "part": "whole"
       },
       "id": "4bc4a03e-286c-434a-a415-5e5b2694e4da"
      }
     }
    },
    "37429a93-ffc4-4a9c-adaf-5a1bc7a42bc1": {
     "id": "37429a93-ffc4-4a9c-adaf-5a1bc7a42bc1",
     "prev": "8fe76d21-14ba-44eb-a84c-a7ee1e04f3a5",
     "regions": {
      "bd676766-069f-4b0b-bffe-13df9142af32": {
       "attrs": {
        "height": 0.8,
        "width": 0.8,
        "x": 0.1,
        "y": 0.1
       },
       "content": {
        "cell": "469b7baf-79e3-46f6-a5a6-d2219c22f23d",
        "part": "whole"
       },
       "id": "bd676766-069f-4b0b-bffe-13df9142af32"
      }
     }
    },
    "3761c3be-4383-4d06-877d-364d51be6b7a": {
     "id": "3761c3be-4383-4d06-877d-364d51be6b7a",
     "prev": "595a1073-bcd4-4dbc-a354-5f1154f9d799",
     "regions": {
      "6d0b25c3-938e-45d5-9811-e2a5b5e6745a": {
       "attrs": {
        "height": 0.8,
        "width": 0.8,
        "x": 0.1,
        "y": 0.1
       },
       "content": {
        "cell": "46a79e4d-b1cd-43ee-a68d-9263f5b3ddb5",
        "part": "whole"
       },
       "id": "6d0b25c3-938e-45d5-9811-e2a5b5e6745a"
      }
     }
    },
    "3fcae8c3-c2ec-4b98-9781-834aeec7383d": {
     "id": "3fcae8c3-c2ec-4b98-9781-834aeec7383d",
     "prev": "7e8ef181-a7e1-4d18-8cc0-b39a9b9584b0",
     "regions": {
      "820c073f-b9a6-413f-bc2c-c15f4708e944": {
       "attrs": {
        "height": 0.8,
        "width": 0.8,
        "x": 0.1,
        "y": 0.1
       },
       "content": {
        "cell": "286db730-6d49-4f87-9e9a-44770f14101a",
        "part": "whole"
       },
       "id": "820c073f-b9a6-413f-bc2c-c15f4708e944"
      }
     }
    },
    "40573176-afae-460b-bd6b-fcb9be7bd5dd": {
     "id": "40573176-afae-460b-bd6b-fcb9be7bd5dd",
     "prev": "075abc8a-5f69-450d-a8af-6f8f7b829f31",
     "regions": {
      "232e93fe-8cc2-46b1-8b25-1487783946e3": {
       "attrs": {
        "height": 0.8,
        "width": 0.8,
        "x": 0.1,
        "y": 0.1
       },
       "content": {
        "cell": "b21b7c89-1442-4320-ae43-9e150e087ff0",
        "part": "whole"
       },
       "id": "232e93fe-8cc2-46b1-8b25-1487783946e3"
      }
     }
    },
    "41190a78-fd5d-487b-b834-b00d73321fb4": {
     "id": "41190a78-fd5d-487b-b834-b00d73321fb4",
     "prev": "da53d309-2104-48da-b4f7-fd725aafc8f8",
     "regions": {
      "ed801fd4-84c0-4157-9481-77f1c215b059": {
       "attrs": {
        "height": 0.8,
        "width": 0.8,
        "x": 0.1,
        "y": 0.1
       },
       "content": {
        "cell": "27bcc25f-414c-429f-970f-d72996f62336",
        "part": "whole"
       },
       "id": "ed801fd4-84c0-4157-9481-77f1c215b059"
      }
     }
    },
    "425ce4c2-eb52-4944-8a78-5543d0e9ad82": {
     "id": "425ce4c2-eb52-4944-8a78-5543d0e9ad82",
     "prev": "ce7bee9d-db6f-4278-b1e2-04b77f97fd09",
     "regions": {
      "01b42e43-482e-4b7a-9c1e-418e0d0c384e": {
       "attrs": {
        "height": 0.8,
        "width": 0.8,
        "x": 0.1,
        "y": 0.1
       },
       "content": {
        "cell": "1a60ecbe-653f-43fe-bd30-b52425a51920",
        "part": "whole"
       },
       "id": "01b42e43-482e-4b7a-9c1e-418e0d0c384e"
      }
     }
    },
    "4a9310b8-d4c8-46b7-800f-32aad327f420": {
     "id": "4a9310b8-d4c8-46b7-800f-32aad327f420",
     "prev": "8e7887e9-1654-4d40-a77a-d06b9a9d0284",
     "regions": {
      "617d16cc-596f-41a4-8313-8531af909eaa": {
       "attrs": {
        "height": 0.8,
        "width": 0.8,
        "x": 0.1,
        "y": 0.1
       },
       "content": {
        "cell": "d040f9c4-f02a-46c8-b4c6-ab7cb7c0ab46",
        "part": "whole"
       },
       "id": "617d16cc-596f-41a4-8313-8531af909eaa"
      }
     }
    },
    "4e677e1d-e325-4736-8a1c-84067c0b9956": {
     "id": "4e677e1d-e325-4736-8a1c-84067c0b9956",
     "prev": "5d70839d-e9b1-4184-83e5-438ce3f1dbd7",
     "regions": {
      "cc189083-ffa9-4668-b42e-5108db3fa1b7": {
       "attrs": {
        "height": 0.8,
        "width": 0.8,
        "x": 0.1,
        "y": 0.1
       },
       "content": {
        "cell": "957a73e1-cb5e-4b00-af89-30cff8918b7b",
        "part": "whole"
       },
       "id": "cc189083-ffa9-4668-b42e-5108db3fa1b7"
      }
     }
    },
    "532781c2-8d69-4df7-be7c-93c4a4d6d6aa": {
     "id": "532781c2-8d69-4df7-be7c-93c4a4d6d6aa",
     "prev": "8c4d2512-721d-4b65-9ba0-8a04d88f1a06",
     "regions": {
      "520de171-5b89-4d51-a3b1-af5cae575f65": {
       "attrs": {
        "height": 0.8,
        "width": 0.8,
        "x": 0.1,
        "y": 0.1
       },
       "content": {
        "cell": "521ce1d7-514f-4d86-bae5-2fcc4bf4ab7f",
        "part": "whole"
       },
       "id": "520de171-5b89-4d51-a3b1-af5cae575f65"
      }
     }
    },
    "5497eefd-d14f-4391-ae82-4dca9ad10e4c": {
     "id": "5497eefd-d14f-4391-ae82-4dca9ad10e4c",
     "prev": "69093df6-66b4-4dd9-abcf-ed4eeecf5603",
     "regions": {
      "1b8aac6e-79c9-4c39-9073-8b34365cdb2d": {
       "attrs": {
        "height": 0.8,
        "width": 0.8,
        "x": 0.1,
        "y": 0.1
       },
       "content": {
        "cell": "cd8c9d7c-1a28-4894-9382-726f892959ab",
        "part": "whole"
       },
       "id": "1b8aac6e-79c9-4c39-9073-8b34365cdb2d"
      }
     }
    },
    "55ea3e26-78ce-49d7-966a-64bd8053f8dc": {
     "id": "55ea3e26-78ce-49d7-966a-64bd8053f8dc",
     "prev": "a6fb8184-8b73-4cd6-a21c-0c0698ee9a00",
     "regions": {
      "a721e530-30e5-49f9-869c-a2b4cfceda29": {
       "attrs": {
        "height": 0.8,
        "width": 0.8,
        "x": 0.1,
        "y": 0.1
       },
       "content": {
        "cell": "c157bb0f-5d4d-456b-8f87-5c8cde8945ff",
        "part": "whole"
       },
       "id": "a721e530-30e5-49f9-869c-a2b4cfceda29"
      }
     }
    },
    "57d420b3-3a8c-44d5-9140-dd7563653f2e": {
     "id": "57d420b3-3a8c-44d5-9140-dd7563653f2e",
     "prev": "1a8a6a6a-0d64-4827-938e-780fc758683f",
     "regions": {
      "fe4d31d1-6993-4b86-a24d-2aba5fa0f3ab": {
       "attrs": {
        "height": 0.8,
        "width": 0.8,
        "x": 0.1,
        "y": 0.1
       },
       "content": {
        "cell": "31fd2fc9-6d40-42a5-9802-412c8149cb49",
        "part": "whole"
       },
       "id": "fe4d31d1-6993-4b86-a24d-2aba5fa0f3ab"
      }
     }
    },
    "58aa630c-9013-4dfe-860b-44892b216487": {
     "id": "58aa630c-9013-4dfe-860b-44892b216487",
     "prev": "11144c94-b92b-419d-9db9-1d8794889fd2",
     "regions": {
      "d1e545a7-b2be-4a70-aad4-d3c2ace9b99f": {
       "attrs": {
        "height": 0.8,
        "width": 0.8,
        "x": 0.1,
        "y": 0.1
       },
       "content": {
        "cell": "17336b61-d6bd-496d-863a-1ad759a9e4b7",
        "part": "whole"
       },
       "id": "d1e545a7-b2be-4a70-aad4-d3c2ace9b99f"
      }
     }
    },
    "595a1073-bcd4-4dbc-a354-5f1154f9d799": {
     "id": "595a1073-bcd4-4dbc-a354-5f1154f9d799",
     "prev": "f5f200fb-e5e6-41e3-b513-5e32fa7259d1",
     "regions": {
      "19962e78-01cf-4341-b629-00db312c0c2d": {
       "attrs": {
        "height": 0.8,
        "width": 0.8,
        "x": 0.1,
        "y": 0.1
       },
       "content": {
        "cell": "28c3e44a-666b-4f62-9a86-23056fbbcc0b",
        "part": "whole"
       },
       "id": "19962e78-01cf-4341-b629-00db312c0c2d"
      }
     }
    },
    "5d70839d-e9b1-4184-83e5-438ce3f1dbd7": {
     "id": "5d70839d-e9b1-4184-83e5-438ce3f1dbd7",
     "prev": "20af393b-ca44-4a4c-a7dd-9d49883380e0",
     "regions": {
      "9caa4ed3-0f54-4e29-a730-a44df2d7de83": {
       "attrs": {
        "height": 0.8,
        "width": 0.8,
        "x": 0.1,
        "y": 0.1
       },
       "content": {
        "cell": "8642a48c-db83-4b9a-81d3-84c6255763f8",
        "part": "whole"
       },
       "id": "9caa4ed3-0f54-4e29-a730-a44df2d7de83"
      }
     }
    },
    "5fb1985c-994d-46f6-a33d-43536f9501d8": {
     "id": "5fb1985c-994d-46f6-a33d-43536f9501d8",
     "prev": "425ce4c2-eb52-4944-8a78-5543d0e9ad82",
     "regions": {
      "00d150b9-be67-4715-85cf-e30e1c490ab0": {
       "attrs": {
        "height": 0.8,
        "width": 0.8,
        "x": 0.1,
        "y": 0.1
       },
       "content": {
        "cell": "5ca9a4ea-0a1b-491f-97bb-03275691c867",
        "part": "whole"
       },
       "id": "00d150b9-be67-4715-85cf-e30e1c490ab0"
      }
     }
    },
    "69093df6-66b4-4dd9-abcf-ed4eeecf5603": {
     "id": "69093df6-66b4-4dd9-abcf-ed4eeecf5603",
     "prev": "532781c2-8d69-4df7-be7c-93c4a4d6d6aa",
     "regions": {
      "52f6850e-ade6-4de5-9c16-f894eb77f928": {
       "attrs": {
        "height": 0.8,
        "width": 0.8,
        "x": 0.1,
        "y": 0.1
       },
       "content": {
        "cell": "95d6b24e-5799-4179-a690-4c1b492405df",
        "part": "whole"
       },
       "id": "52f6850e-ade6-4de5-9c16-f894eb77f928"
      }
     }
    },
    "6b03b3d7-6024-4dc4-99ed-e2556b30d1bc": {
     "id": "6b03b3d7-6024-4dc4-99ed-e2556b30d1bc",
     "prev": "a5706fde-fed7-449a-bda0-9e43c4c42390",
     "regions": {
      "4d25853c-d4c5-4964-b032-62fabff38228": {
       "attrs": {
        "height": 0.8,
        "width": 0.8,
        "x": 0.1,
        "y": 0.1
       },
       "content": {
        "cell": "c9c0cdfb-e6b9-448a-bc7f-9c54f53089a0",
        "part": "whole"
       },
       "id": "4d25853c-d4c5-4964-b032-62fabff38228"
      }
     }
    },
    "6bc4e8de-f978-4451-8dba-ebc2ddb33e10": {
     "id": "6bc4e8de-f978-4451-8dba-ebc2ddb33e10",
     "prev": "40573176-afae-460b-bd6b-fcb9be7bd5dd",
     "regions": {
      "2f97e2b5-f728-4851-bdf1-1b307fb770dd": {
       "attrs": {
        "height": 0.8,
        "width": 0.8,
        "x": 0.1,
        "y": 0.1
       },
       "content": {
        "cell": "f5c44fb8-78ff-46e5-b444-f484e81030ab",
        "part": "whole"
       },
       "id": "2f97e2b5-f728-4851-bdf1-1b307fb770dd"
      }
     }
    },
    "6e61afac-3e78-47f4-85ef-cdf4ca275d27": {
     "id": "6e61afac-3e78-47f4-85ef-cdf4ca275d27",
     "prev": "be5c328d-fb73-4106-b07e-6ad5fcf27da2",
     "regions": {
      "73b80939-9376-46af-aea1-2d15d292844a": {
       "attrs": {
        "height": 0.8,
        "width": 0.8,
        "x": 0.1,
        "y": 0.1
       },
       "content": {
        "cell": "1384a433-443d-4b5c-b6b7-ec7486028927",
        "part": "whole"
       },
       "id": "73b80939-9376-46af-aea1-2d15d292844a"
      }
     }
    },
    "6f6c08af-a95a-4e34-b923-4be43ed9fc6d": {
     "id": "6f6c08af-a95a-4e34-b923-4be43ed9fc6d",
     "prev": "c871ebbf-40d2-47a5-8ab2-7ed2910940e9",
     "regions": {
      "2d91ed8d-1daa-4982-b9af-ddb7e91dd3ee": {
       "attrs": {
        "height": 0.8,
        "width": 0.8,
        "x": 0.1,
        "y": 0.1
       },
       "content": {
        "cell": "0ff80a09-136d-4033-ab6d-4169cff99d42",
        "part": "whole"
       },
       "id": "2d91ed8d-1daa-4982-b9af-ddb7e91dd3ee"
      }
     }
    },
    "74cdd899-9635-4056-a51b-6bfa69f7e39f": {
     "id": "74cdd899-9635-4056-a51b-6bfa69f7e39f",
     "prev": "2bed995a-0d32-4a48-a845-d942590380f3",
     "regions": {
      "563d731d-e17c-4453-bafb-b3805ce53636": {
       "attrs": {
        "height": 0.8,
        "width": 0.8,
        "x": 0.1,
        "y": 0.1
       },
       "content": {
        "cell": "fcc24795-9fe9-4a15-ae38-3444d4044697",
        "part": "whole"
       },
       "id": "563d731d-e17c-4453-bafb-b3805ce53636"
      }
     }
    },
    "753d9197-e20c-4a79-a26b-126691d922e3": {
     "id": "753d9197-e20c-4a79-a26b-126691d922e3",
     "prev": "813a29a1-7036-40ac-95d8-f5ae6d3936af",
     "regions": {
      "d47c8791-9ce6-46a5-bff0-a3281e73bd73": {
       "attrs": {
        "height": 0.8,
        "width": 0.8,
        "x": 0.1,
        "y": 0.1
       },
       "content": {
        "cell": "9ff36507-0d51-4b5e-a714-c9dfb0dcd272",
        "part": "whole"
       },
       "id": "d47c8791-9ce6-46a5-bff0-a3281e73bd73"
      }
     }
    },
    "755f0acb-59ee-4b79-b6cf-26fa8f35401b": {
     "id": "755f0acb-59ee-4b79-b6cf-26fa8f35401b",
     "prev": "aaad5d1b-6fa3-4975-b29b-f9e3479ef9fa",
     "regions": {
      "191a6621-1cd9-4fe4-a58f-69eafe036625": {
       "attrs": {
        "height": 0.8,
        "width": 0.8,
        "x": 0.1,
        "y": 0.1
       },
       "content": {
        "cell": "5676905a-4d3a-478a-bd10-06df67ffce84",
        "part": "whole"
       },
       "id": "191a6621-1cd9-4fe4-a58f-69eafe036625"
      }
     }
    },
    "7e8ef181-a7e1-4d18-8cc0-b39a9b9584b0": {
     "id": "7e8ef181-a7e1-4d18-8cc0-b39a9b9584b0",
     "prev": "c84256d3-ebca-4281-aa3b-2f59c8d3fc20",
     "regions": {
      "5d26ea6f-3f20-4edf-96cf-84d1ea5eb815": {
       "attrs": {
        "height": 0.8,
        "width": 0.8,
        "x": 0.1,
        "y": 0.1
       },
       "content": {
        "cell": "340592f6-78d1-48b0-ac3b-bfa9808a4dc1",
        "part": "whole"
       },
       "id": "5d26ea6f-3f20-4edf-96cf-84d1ea5eb815"
      }
     }
    },
    "7f57f864-caa7-4459-be38-8d06474a5de8": {
     "id": "7f57f864-caa7-4459-be38-8d06474a5de8",
     "prev": "b5672963-ff35-43fb-8e00-74e31a6f833f",
     "regions": {
      "4ac37076-8da4-48cc-95ef-f7a680b9dadd": {
       "attrs": {
        "height": 0.8,
        "width": 0.8,
        "x": 0.1,
        "y": 0.1
       },
       "content": {
        "cell": "64c1a6f3-7751-487c-b71b-0d501cce1199",
        "part": "whole"
       },
       "id": "4ac37076-8da4-48cc-95ef-f7a680b9dadd"
      }
     }
    },
    "813a29a1-7036-40ac-95d8-f5ae6d3936af": {
     "id": "813a29a1-7036-40ac-95d8-f5ae6d3936af",
     "prev": "8e37356d-6acc-47d4-8394-6a69c0dc9b86",
     "regions": {
      "60e9cd23-8a2d-4e70-a851-d2776484ec8a": {
       "attrs": {
        "height": 0.8,
        "width": 0.8,
        "x": 0.1,
        "y": 0.1
       },
       "content": {
        "cell": "82ac8516-d950-4887-9da5-98a17d3a449c",
        "part": "whole"
       },
       "id": "60e9cd23-8a2d-4e70-a851-d2776484ec8a"
      }
     }
    },
    "8b01f0a5-7f3e-4207-848f-9b372ef6fc16": {
     "id": "8b01f0a5-7f3e-4207-848f-9b372ef6fc16",
     "prev": "29fc4bb8-1991-48ff-9666-8e6ff5b43264",
     "regions": {
      "9baab0fd-7240-40ca-b4d2-d5c31abc658d": {
       "attrs": {
        "height": 0.8,
        "width": 0.8,
        "x": 0.1,
        "y": 0.1
       },
       "content": {
        "cell": "755745d2-55dc-4e42-85b9-42713e2dae83",
        "part": "whole"
       },
       "id": "9baab0fd-7240-40ca-b4d2-d5c31abc658d"
      }
     }
    },
    "8b6d232c-2b58-44ac-8ac4-c62cb2febbe3": {
     "id": "8b6d232c-2b58-44ac-8ac4-c62cb2febbe3",
     "prev": "ab395c1b-4f5e-486f-832d-e21733e6cf25",
     "regions": {
      "091ef2ba-d19d-40e6-bd4a-249ce37274ea": {
       "attrs": {
        "height": 0.8,
        "width": 0.8,
        "x": 0.1,
        "y": 0.1
       },
       "content": {
        "cell": "3c647eed-ff6d-4b34-ae0b-08ee99798711",
        "part": "whole"
       },
       "id": "091ef2ba-d19d-40e6-bd4a-249ce37274ea"
      }
     }
    },
    "8c4d2512-721d-4b65-9ba0-8a04d88f1a06": {
     "id": "8c4d2512-721d-4b65-9ba0-8a04d88f1a06",
     "prev": "e42fae4d-8e71-44eb-9fb4-f343902dc69a",
     "regions": {
      "e54d69d6-d7d8-4c84-b280-1d75de7420f2": {
       "attrs": {
        "height": 0.8,
        "width": 0.8,
        "x": 0.1,
        "y": 0.1
       },
       "content": {
        "cell": "b439d6a8-2071-4e06-b827-1dc3ac81b767",
        "part": "whole"
       },
       "id": "e54d69d6-d7d8-4c84-b280-1d75de7420f2"
      }
     }
    },
    "8d6282af-a6fc-4b53-9504-744823b951e6": {
     "id": "8d6282af-a6fc-4b53-9504-744823b951e6",
     "prev": "2b224373-9c9d-4990-847a-65811e8add40",
     "regions": {
      "7fecd4b1-5424-49c2-b312-094d75607bfc": {
       "attrs": {
        "height": 0.8,
        "width": 0.8,
        "x": 0.1,
        "y": 0.1
       },
       "content": {
        "cell": "c017894a-42a7-4936-9a3e-b6ad9b916f7e",
        "part": "whole"
       },
       "id": "7fecd4b1-5424-49c2-b312-094d75607bfc"
      }
     }
    },
    "8e37356d-6acc-47d4-8394-6a69c0dc9b86": {
     "id": "8e37356d-6acc-47d4-8394-6a69c0dc9b86",
     "prev": "0637f2ed-d49c-4166-8228-5238ec1f4619",
     "regions": {
      "a455b418-ab3d-4875-90a5-c7d7e79649cd": {
       "attrs": {
        "height": 0.8,
        "width": 0.8,
        "x": 0.1,
        "y": 0.1
       },
       "content": {
        "cell": "f81c38a5-f920-4c32-9e23-9fc46ac01f63",
        "part": "whole"
       },
       "id": "a455b418-ab3d-4875-90a5-c7d7e79649cd"
      }
     }
    },
    "8e700b82-0f38-4606-bb07-100a58ea0c18": {
     "id": "8e700b82-0f38-4606-bb07-100a58ea0c18",
     "prev": "5497eefd-d14f-4391-ae82-4dca9ad10e4c",
     "regions": {
      "aed9f3ef-adb7-4e8d-9ee3-6d5e9d8a3f41": {
       "attrs": {
        "height": 0.8,
        "width": 0.8,
        "x": 0.1,
        "y": 0.1
       },
       "content": {
        "cell": "1b7a87cb-30d0-41d7-ae84-3e44c821b406",
        "part": "whole"
       },
       "id": "aed9f3ef-adb7-4e8d-9ee3-6d5e9d8a3f41"
      }
     }
    },
    "8e7887e9-1654-4d40-a77a-d06b9a9d0284": {
     "id": "8e7887e9-1654-4d40-a77a-d06b9a9d0284",
     "prev": "d7ca91f1-2961-4ca6-845b-10e3fc665e3b",
     "regions": {
      "55c18ce4-ce26-494a-b332-5ef5a941e9e5": {
       "attrs": {
        "height": 0.8,
        "width": 0.8,
        "x": 0.1,
        "y": 0.1
       },
       "content": {
        "cell": "8e314949-a08d-475c-8098-43f8cfa78dc6",
        "part": "whole"
       },
       "id": "55c18ce4-ce26-494a-b332-5ef5a941e9e5"
      }
     }
    },
    "8fe76d21-14ba-44eb-a84c-a7ee1e04f3a5": {
     "id": "8fe76d21-14ba-44eb-a84c-a7ee1e04f3a5",
     "prev": "22487b9f-5ccf-4ca0-8186-a622bc7cb6ce",
     "regions": {
      "9d37429f-fffd-49ff-ad22-3c7332c5f4a7": {
       "attrs": {
        "height": 0.8,
        "width": 0.8,
        "x": 0.1,
        "y": 0.1
       },
       "content": {
        "cell": "89084255-cc83-4070-b2f5-5434e7f433f8",
        "part": "whole"
       },
       "id": "9d37429f-fffd-49ff-ad22-3c7332c5f4a7"
      }
     }
    },
    "904ce398-7103-40f4-991f-b170545a4563": {
     "id": "904ce398-7103-40f4-991f-b170545a4563",
     "prev": "755f0acb-59ee-4b79-b6cf-26fa8f35401b",
     "regions": {
      "6bdb1de9-92a6-4718-bfd3-8a20d1ac4c76": {
       "attrs": {
        "height": 0.8,
        "width": 0.8,
        "x": 0.1,
        "y": 0.1
       },
       "content": {
        "cell": "031da43c-0284-4433-bd3d-c6c596c92b27",
        "part": "whole"
       },
       "id": "6bdb1de9-92a6-4718-bfd3-8a20d1ac4c76"
      }
     }
    },
    "91370d25-4aa0-4ab8-9d66-b5371089e85f": {
     "id": "91370d25-4aa0-4ab8-9d66-b5371089e85f",
     "prev": "fa8ff021-431e-4d6e-bb46-072b1ead98f0",
     "regions": {
      "6b17d6fc-463b-47ca-bdb5-31c129503209": {
       "attrs": {
        "height": 0.8,
        "width": 0.8,
        "x": 0.1,
        "y": 0.1
       },
       "content": {
        "cell": "fa5bff1d-0529-4f92-8a18-3acc585bcbd7",
        "part": "whole"
       },
       "id": "6b17d6fc-463b-47ca-bdb5-31c129503209"
      }
     }
    },
    "9c99d28b-3487-450e-9059-c7a32acfd5be": {
     "id": "9c99d28b-3487-450e-9059-c7a32acfd5be",
     "prev": "37429a93-ffc4-4a9c-adaf-5a1bc7a42bc1",
     "regions": {
      "5edf62aa-74d5-44da-a0e1-fa3935cea4dc": {
       "attrs": {
        "height": 0.8,
        "width": 0.8,
        "x": 0.1,
        "y": 0.1
       },
       "content": {
        "cell": "58dc82ce-5499-45ba-a45d-5983a5c22edb",
        "part": "whole"
       },
       "id": "5edf62aa-74d5-44da-a0e1-fa3935cea4dc"
      }
     }
    },
    "9f5341eb-d510-4ac9-acd6-f017abb357b9": {
     "id": "9f5341eb-d510-4ac9-acd6-f017abb357b9",
     "prev": "e7660c2c-e571-41f5-a0b6-0a97315e4dff",
     "regions": {
      "4904633b-a407-43a1-8eba-47a4e4e1abd9": {
       "attrs": {
        "height": 0.8,
        "width": 0.8,
        "x": 0.1,
        "y": 0.1
       },
       "content": {
        "cell": "1c05a501-0b6a-4bc1-ae0b-214839767968",
        "part": "whole"
       },
       "id": "4904633b-a407-43a1-8eba-47a4e4e1abd9"
      }
     }
    },
    "a1cbf7df-6709-4749-88e7-beec40938f40": {
     "id": "a1cbf7df-6709-4749-88e7-beec40938f40",
     "prev": "d7498371-4c9e-4957-b0ec-4bf0628951e4",
     "regions": {
      "3c2750a1-1d87-4888-b31b-13eb47af7822": {
       "attrs": {
        "height": 0.8,
        "width": 0.8,
        "x": 0.1,
        "y": 0.1
       },
       "content": {
        "cell": "df9e7c92-a0a3-496c-b213-eafdb304e767",
        "part": "whole"
       },
       "id": "3c2750a1-1d87-4888-b31b-13eb47af7822"
      }
     }
    },
    "a42b9b4d-a545-4067-ba00-68f7d00e244e": {
     "id": "a42b9b4d-a545-4067-ba00-68f7d00e244e",
     "prev": "3fcae8c3-c2ec-4b98-9781-834aeec7383d",
     "regions": {
      "f7f6bb1f-6411-48c8-9e0f-f06e4adec5be": {
       "attrs": {
        "height": 0.8,
        "width": 0.8,
        "x": 0.1,
        "y": 0.1
       },
       "content": {
        "cell": "941ecb8e-8d62-4cba-8d4d-49b851313ca1",
        "part": "whole"
       },
       "id": "f7f6bb1f-6411-48c8-9e0f-f06e4adec5be"
      }
     }
    },
    "a5210d59-99af-4921-9187-8cede87df27e": {
     "id": "a5210d59-99af-4921-9187-8cede87df27e",
     "prev": "be99a2eb-669f-4295-9c24-e4e393c446a4",
     "regions": {
      "715210ab-5164-4a25-a140-af8c99a5b18d": {
       "attrs": {
        "height": 0.8,
        "width": 0.8,
        "x": 0.1,
        "y": 0.1
       },
       "content": {
        "cell": "ec7bcfc3-e3fc-413c-ab52-59da41e9d885",
        "part": "whole"
       },
       "id": "715210ab-5164-4a25-a140-af8c99a5b18d"
      }
     }
    },
    "a5706fde-fed7-449a-bda0-9e43c4c42390": {
     "id": "a5706fde-fed7-449a-bda0-9e43c4c42390",
     "prev": "8b01f0a5-7f3e-4207-848f-9b372ef6fc16",
     "regions": {
      "dc7b56c8-0819-4ea1-a012-f7be5da65ade": {
       "attrs": {
        "height": 0.8,
        "width": 0.8,
        "x": 0.1,
        "y": 0.1
       },
       "content": {
        "cell": "ab275db8-3d80-4efb-b221-2db8de59a314",
        "part": "whole"
       },
       "id": "dc7b56c8-0819-4ea1-a012-f7be5da65ade"
      }
     }
    },
    "a6fb8184-8b73-4cd6-a21c-0c0698ee9a00": {
     "id": "a6fb8184-8b73-4cd6-a21c-0c0698ee9a00",
     "prev": "bbdd125a-0c9a-4e69-975c-b4008b4ee47c",
     "regions": {
      "66276751-2aa5-4b81-ade4-1e644c9e9f40": {
       "attrs": {
        "height": 0.8,
        "width": 0.8,
        "x": 0.1,
        "y": 0.1
       },
       "content": {
        "cell": "46cadb76-3a49-44e6-922b-24f60a9398b5",
        "part": "whole"
       },
       "id": "66276751-2aa5-4b81-ade4-1e644c9e9f40"
      }
     }
    },
    "aaad5d1b-6fa3-4975-b29b-f9e3479ef9fa": {
     "id": "aaad5d1b-6fa3-4975-b29b-f9e3479ef9fa",
     "prev": null,
     "regions": {
      "1bb6a649-f217-4f96-a312-7246bb6956e2": {
       "attrs": {
        "height": 0.8,
        "width": 0.8,
        "x": 0.1,
        "y": 0.1
       },
       "content": {
        "cell": "6ee77bce-39d1-46a1-802d-c7aa0f07f653",
        "part": "whole"
       },
       "id": "1bb6a649-f217-4f96-a312-7246bb6956e2"
      }
     }
    },
    "ab352c60-0716-41d3-8d25-1cb1896ff4f9": {
     "id": "ab352c60-0716-41d3-8d25-1cb1896ff4f9",
     "prev": "1e942d95-7f30-41c4-b072-6573de1e7845",
     "regions": {
      "3f90207f-020d-4210-a10c-7b9ef3c09625": {
       "attrs": {
        "height": 0.8,
        "width": 0.8,
        "x": 0.1,
        "y": 0.1
       },
       "content": {
        "cell": "5d438cf4-af7e-4df7-8942-90761ccdc03d",
        "part": "whole"
       },
       "id": "3f90207f-020d-4210-a10c-7b9ef3c09625"
      }
     }
    },
    "ab395c1b-4f5e-486f-832d-e21733e6cf25": {
     "id": "ab395c1b-4f5e-486f-832d-e21733e6cf25",
     "prev": "bb800a22-447e-4c0c-8a5b-dfea0e028d3c",
     "regions": {
      "6ce98372-e0d2-4ec8-a7db-ef52cb772437": {
       "attrs": {
        "height": 0.8,
        "width": 0.8,
        "x": 0.1,
        "y": 0.1
       },
       "content": {
        "cell": "095385ad-d26d-4168-9bd6-09029a9fe701",
        "part": "whole"
       },
       "id": "6ce98372-e0d2-4ec8-a7db-ef52cb772437"
      }
     }
    },
    "b5672963-ff35-43fb-8e00-74e31a6f833f": {
     "id": "b5672963-ff35-43fb-8e00-74e31a6f833f",
     "prev": "8d6282af-a6fc-4b53-9504-744823b951e6",
     "regions": {
      "c0613e51-8b3b-46df-8dd8-1760cc3141fc": {
       "attrs": {
        "height": 0.8,
        "width": 0.8,
        "x": 0.1,
        "y": 0.1
       },
       "content": {
        "cell": "fb3debd8-f726-4a26-9ebf-7c7adfab7996",
        "part": "whole"
       },
       "id": "c0613e51-8b3b-46df-8dd8-1760cc3141fc"
      }
     }
    },
    "b8fb873b-5b09-4ce5-aa58-101a6e4cbf52": {
     "id": "b8fb873b-5b09-4ce5-aa58-101a6e4cbf52",
     "prev": "2ea7baab-c063-477b-8af9-fc27f90ba85a",
     "regions": {
      "805b735f-5f4e-4665-83e2-2533074042f0": {
       "attrs": {
        "height": 0.8,
        "width": 0.8,
        "x": 0.1,
        "y": 0.1
       },
       "content": {
        "cell": "3a342312-18db-4f98-8621-34b695a12c4d",
        "part": "whole"
       },
       "id": "805b735f-5f4e-4665-83e2-2533074042f0"
      }
     }
    },
    "bb09f5a9-54a8-45d8-a1dd-26ae84a99ec1": {
     "id": "bb09f5a9-54a8-45d8-a1dd-26ae84a99ec1",
     "prev": "6bc4e8de-f978-4451-8dba-ebc2ddb33e10",
     "regions": {
      "0307a2fc-d4dd-48dc-bca9-1097bdb3f955": {
       "attrs": {
        "height": 0.8,
        "width": 0.8,
        "x": 0.1,
        "y": 0.1
       },
       "content": {
        "cell": "8b8d1cf7-3571-43f8-b3a0-66121ce196de",
        "part": "whole"
       },
       "id": "0307a2fc-d4dd-48dc-bca9-1097bdb3f955"
      }
     }
    },
    "bb800a22-447e-4c0c-8a5b-dfea0e028d3c": {
     "id": "bb800a22-447e-4c0c-8a5b-dfea0e028d3c",
     "prev": "c84c3a43-954b-4e49-aed6-40fa37ee273f",
     "regions": {
      "d3ed0794-3198-47e7-850f-50253eba6ee2": {
       "attrs": {
        "height": 0.8,
        "width": 0.8,
        "x": 0.1,
        "y": 0.1
       },
       "content": {
        "cell": "a8ba547f-627c-44ca-be5b-67ffa0793f3f",
        "part": "whole"
       },
       "id": "d3ed0794-3198-47e7-850f-50253eba6ee2"
      }
     }
    },
    "bbdd125a-0c9a-4e69-975c-b4008b4ee47c": {
     "id": "bbdd125a-0c9a-4e69-975c-b4008b4ee47c",
     "prev": "7f57f864-caa7-4459-be38-8d06474a5de8",
     "regions": {
      "f0b6e2cc-de52-4ec5-86e0-1b91f1acecd0": {
       "attrs": {
        "height": 0.8,
        "width": 0.8,
        "x": 0.1,
        "y": 0.1
       },
       "content": {
        "cell": "dda6cbdf-98e7-4ce7-97c9-ad3715163327",
        "part": "whole"
       },
       "id": "f0b6e2cc-de52-4ec5-86e0-1b91f1acecd0"
      }
     }
    },
    "bc6ce0f9-a15a-44f4-b60b-71589ebfe087": {
     "id": "bc6ce0f9-a15a-44f4-b60b-71589ebfe087",
     "prev": "c1c0a14c-4860-493d-8521-0a0f9e7efa26",
     "regions": {
      "8a85d58f-b348-4534-b6ca-734d120caa71": {
       "attrs": {
        "height": 0.8,
        "width": 0.8,
        "x": 0.1,
        "y": 0.1
       },
       "content": {
        "cell": "28979679-24a9-455b-a06c-f82ace24848b",
        "part": "whole"
       },
       "id": "8a85d58f-b348-4534-b6ca-734d120caa71"
      }
     }
    },
    "be5c328d-fb73-4106-b07e-6ad5fcf27da2": {
     "id": "be5c328d-fb73-4106-b07e-6ad5fcf27da2",
     "prev": "115958f1-90cf-46fb-9d1c-54ded399d4a0",
     "regions": {
      "d74686db-259b-4758-b01d-aeb952fe1be8": {
       "attrs": {
        "height": 0.8,
        "width": 0.8,
        "x": 0.1,
        "y": 0.1
       },
       "content": {
        "cell": "8abf318a-6523-40c3-97d8-aa6e113db74a",
        "part": "whole"
       },
       "id": "d74686db-259b-4758-b01d-aeb952fe1be8"
      }
     }
    },
    "be5dfd0d-510d-42e2-a687-18a0646ad044": {
     "id": "be5dfd0d-510d-42e2-a687-18a0646ad044",
     "prev": "41190a78-fd5d-487b-b834-b00d73321fb4",
     "regions": {
      "8c9cf4d7-245c-4e98-8cc6-ec8b63af19d4": {
       "attrs": {
        "height": 0.8,
        "width": 0.8,
        "x": 0.1,
        "y": 0.1
       },
       "content": {
        "cell": "08712a89-cfa5-4e72-a288-110c91c90268",
        "part": "whole"
       },
       "id": "8c9cf4d7-245c-4e98-8cc6-ec8b63af19d4"
      }
     }
    },
    "be99a2eb-669f-4295-9c24-e4e393c446a4": {
     "id": "be99a2eb-669f-4295-9c24-e4e393c446a4",
     "prev": "8b6d232c-2b58-44ac-8ac4-c62cb2febbe3",
     "regions": {
      "8ee11a61-8bd4-454c-a385-454a83b4621d": {
       "attrs": {
        "height": 0.8,
        "width": 0.8,
        "x": 0.1,
        "y": 0.1
       },
       "content": {
        "cell": "08d52625-4758-4290-b292-0f166e9ae95d",
        "part": "whole"
       },
       "id": "8ee11a61-8bd4-454c-a385-454a83b4621d"
      }
     }
    },
    "c1ac27ec-3f42-46cb-b80e-24f577699b1c": {
     "id": "c1ac27ec-3f42-46cb-b80e-24f577699b1c",
     "prev": "3761c3be-4383-4d06-877d-364d51be6b7a",
     "regions": {
      "b5deeab9-015b-4025-b363-b8fa8a7bc070": {
       "attrs": {
        "height": 0.8,
        "width": 0.8,
        "x": 0.1,
        "y": 0.1
       },
       "content": {
        "cell": "cad6f08b-37b5-4539-8e94-66f490c45466",
        "part": "whole"
       },
       "id": "b5deeab9-015b-4025-b363-b8fa8a7bc070"
      }
     }
    },
    "c1c0a14c-4860-493d-8521-0a0f9e7efa26": {
     "id": "c1c0a14c-4860-493d-8521-0a0f9e7efa26",
     "prev": "c5957786-714f-4ccd-a7a6-b4169aa58830",
     "regions": {
      "3c60e752-e998-479e-a568-6c265f62292c": {
       "attrs": {
        "height": 0.8,
        "width": 0.8,
        "x": 0.1,
        "y": 0.1
       },
       "content": {
        "cell": "66662698-f8b7-4482-b9dc-d220a918e51d",
        "part": "whole"
       },
       "id": "3c60e752-e998-479e-a568-6c265f62292c"
      }
     }
    },
    "c4cec335-76e0-4ee0-a661-e21f0ad4870a": {
     "id": "c4cec335-76e0-4ee0-a661-e21f0ad4870a",
     "prev": "2a0fc452-39ff-438c-af38-e7494abde8aa",
     "regions": {
      "79a1e4b1-ba48-44ca-ae86-5b085d72d8c7": {
       "attrs": {
        "height": 0.8,
        "width": 0.8,
        "x": 0.1,
        "y": 0.1
       },
       "content": {
        "cell": "42ac8c27-526c-4f9e-ac2e-a398b3776c0a",
        "part": "whole"
       },
       "id": "79a1e4b1-ba48-44ca-ae86-5b085d72d8c7"
      }
     }
    },
    "c5957786-714f-4ccd-a7a6-b4169aa58830": {
     "id": "c5957786-714f-4ccd-a7a6-b4169aa58830",
     "prev": "3374c0bf-0438-4fa4-b82e-2a5a1675f0fc",
     "regions": {
      "d92050ed-7b62-45cc-96b8-251de28312e4": {
       "attrs": {
        "height": 0.8,
        "width": 0.8,
        "x": 0.1,
        "y": 0.1
       },
       "content": {
        "cell": "bcf75c29-93f1-453d-81c1-fbd5d2c95c2c",
        "part": "whole"
       },
       "id": "d92050ed-7b62-45cc-96b8-251de28312e4"
      }
     }
    },
    "c84256d3-ebca-4281-aa3b-2f59c8d3fc20": {
     "id": "c84256d3-ebca-4281-aa3b-2f59c8d3fc20",
     "prev": "8e700b82-0f38-4606-bb07-100a58ea0c18",
     "regions": {
      "11474c83-798b-466b-9586-bcab71c9ba1f": {
       "attrs": {
        "height": 0.8,
        "width": 0.8,
        "x": 0.1,
        "y": 0.1
       },
       "content": {
        "cell": "3d742078-bbfa-4a9c-a99d-0b432f40d5a3",
        "part": "whole"
       },
       "id": "11474c83-798b-466b-9586-bcab71c9ba1f"
      }
     }
    },
    "c84c3a43-954b-4e49-aed6-40fa37ee273f": {
     "id": "c84c3a43-954b-4e49-aed6-40fa37ee273f",
     "prev": "bc6ce0f9-a15a-44f4-b60b-71589ebfe087",
     "regions": {
      "7ae32563-af50-46bc-a1e6-8f195b23ab9d": {
       "attrs": {
        "height": 0.8,
        "width": 0.8,
        "x": 0.1,
        "y": 0.1
       },
       "content": {
        "cell": "06ce80e4-29de-4994-9808-c8feffa25d8d",
        "part": "whole"
       },
       "id": "7ae32563-af50-46bc-a1e6-8f195b23ab9d"
      }
     }
    },
    "c871ebbf-40d2-47a5-8ab2-7ed2910940e9": {
     "id": "c871ebbf-40d2-47a5-8ab2-7ed2910940e9",
     "prev": "0f64fb8d-4c40-474f-8aa2-335b212b4419",
     "regions": {
      "cd2b7d74-8d42-4e9c-8c3b-a3f4e3514cc2": {
       "attrs": {
        "height": 0.8,
        "width": 0.8,
        "x": 0.1,
        "y": 0.1
       },
       "content": {
        "cell": "d63d625e-79d0-4bf8-a405-36c9df127bb5",
        "part": "whole"
       },
       "id": "cd2b7d74-8d42-4e9c-8c3b-a3f4e3514cc2"
      }
     }
    },
    "ce7bee9d-db6f-4278-b1e2-04b77f97fd09": {
     "id": "ce7bee9d-db6f-4278-b1e2-04b77f97fd09",
     "prev": "6f6c08af-a95a-4e34-b923-4be43ed9fc6d",
     "regions": {
      "a95c6a0d-2f0d-47b4-bd02-6baabc284f81": {
       "attrs": {
        "height": 0.8,
        "width": 0.8,
        "x": 0.1,
        "y": 0.1
       },
       "content": {
        "cell": "7e061caa-9505-4452-ae28-62a29553ed8b",
        "part": "whole"
       },
       "id": "a95c6a0d-2f0d-47b4-bd02-6baabc284f81"
      }
     }
    },
    "d5dc4170-5d60-49e8-8949-e535527cb697": {
     "id": "d5dc4170-5d60-49e8-8949-e535527cb697",
     "prev": "6e61afac-3e78-47f4-85ef-cdf4ca275d27",
     "regions": {
      "2a996748-0006-4e15-8f3b-e052ad23d70c": {
       "attrs": {
        "height": 0.8,
        "width": 0.8,
        "x": 0.1,
        "y": 0.1
       },
       "content": {
        "cell": "cf191bef-5eb9-4a6d-8628-d3041143a995",
        "part": "whole"
       },
       "id": "2a996748-0006-4e15-8f3b-e052ad23d70c"
      }
     }
    },
    "d7498371-4c9e-4957-b0ec-4bf0628951e4": {
     "id": "d7498371-4c9e-4957-b0ec-4bf0628951e4",
     "prev": "06890039-40ea-4db1-985e-ac6e5271d03c",
     "regions": {
      "5f45e90a-d3a5-4776-acdb-5e1511a42290": {
       "attrs": {
        "height": 0.8,
        "width": 0.8,
        "x": 0.1,
        "y": 0.1
       },
       "content": {
        "cell": "d4eefee9-e016-4e0f-9b67-497f560b01c4",
        "part": "whole"
       },
       "id": "5f45e90a-d3a5-4776-acdb-5e1511a42290"
      }
     }
    },
    "d79c79be-5606-41b7-b6f1-9f99c269f5b7": {
     "id": "d79c79be-5606-41b7-b6f1-9f99c269f5b7",
     "prev": "904ce398-7103-40f4-991f-b170545a4563",
     "regions": {
      "94789afb-52be-4467-9809-b8b6231118fd": {
       "attrs": {
        "height": 0.8,
        "width": 0.8,
        "x": 0.1,
        "y": 0.1
       },
       "content": {
        "cell": "dc9f34ec-b74d-4c7b-8fd8-3be534221c35",
        "part": "whole"
       },
       "id": "94789afb-52be-4467-9809-b8b6231118fd"
      }
     }
    },
    "d7ca91f1-2961-4ca6-845b-10e3fc665e3b": {
     "id": "d7ca91f1-2961-4ca6-845b-10e3fc665e3b",
     "prev": "fce280b1-fe44-48e7-a9eb-6cdc1220ac8a",
     "regions": {
      "6dfbda12-37fd-4618-b717-92e34662baa9": {
       "attrs": {
        "height": 0.8,
        "width": 0.8,
        "x": 0.1,
        "y": 0.1
       },
       "content": {
        "cell": "e669accf-2611-4273-8ba0-01d92517a89b",
        "part": "whole"
       },
       "id": "6dfbda12-37fd-4618-b717-92e34662baa9"
      }
     }
    },
    "da53d309-2104-48da-b4f7-fd725aafc8f8": {
     "id": "da53d309-2104-48da-b4f7-fd725aafc8f8",
     "prev": "91370d25-4aa0-4ab8-9d66-b5371089e85f",
     "regions": {
      "1a0d164e-7377-4090-b2c1-2c0c71bcf8c8": {
       "attrs": {
        "height": 0.8,
        "width": 0.8,
        "x": 0.1,
        "y": 0.1
       },
       "content": {
        "cell": "02fbc4ce-f18f-4ac0-a8b1-3cca3e3d29e4",
        "part": "whole"
       },
       "id": "1a0d164e-7377-4090-b2c1-2c0c71bcf8c8"
      }
     }
    },
    "e42fae4d-8e71-44eb-9fb4-f343902dc69a": {
     "id": "e42fae4d-8e71-44eb-9fb4-f343902dc69a",
     "prev": "c1ac27ec-3f42-46cb-b80e-24f577699b1c",
     "regions": {
      "d1179f3f-fe1b-4203-91e8-5cacdbe364c4": {
       "attrs": {
        "height": 0.8,
        "width": 0.8,
        "x": 0.1,
        "y": 0.1
       },
       "content": {
        "cell": "4c21da2f-faa6-4ff0-a645-9722cc922919",
        "part": "whole"
       },
       "id": "d1179f3f-fe1b-4203-91e8-5cacdbe364c4"
      }
     }
    },
    "e7660c2c-e571-41f5-a0b6-0a97315e4dff": {
     "id": "e7660c2c-e571-41f5-a0b6-0a97315e4dff",
     "prev": "be5dfd0d-510d-42e2-a687-18a0646ad044",
     "regions": {
      "6befa91d-559f-438c-9eef-7465f4b4c609": {
       "attrs": {
        "height": 0.8,
        "width": 0.8,
        "x": 0.1,
        "y": 0.1
       },
       "content": {
        "cell": "340d4e41-b5c4-4b84-add3-cdb9d2d720a2",
        "part": "whole"
       },
       "id": "6befa91d-559f-438c-9eef-7465f4b4c609"
      }
     }
    },
    "e8e9e758-4f53-4204-bea1-b1af2838246f": {
     "id": "e8e9e758-4f53-4204-bea1-b1af2838246f",
     "prev": "f9706112-85a5-46bd-8a11-cb59515e94cd",
     "regions": {
      "1f5a4469-9039-4d65-8e50-150d03d05608": {
       "attrs": {
        "height": 0.8,
        "width": 0.8,
        "x": 0.1,
        "y": 0.1
       },
       "content": {
        "cell": "5c813ea9-fbf2-46b2-b5e1-fb75d2497744",
        "part": "whole"
       },
       "id": "1f5a4469-9039-4d65-8e50-150d03d05608"
      }
     }
    },
    "eabecd1d-34fd-45a2-843c-a6ae518fe2bd": {
     "id": "eabecd1d-34fd-45a2-843c-a6ae518fe2bd",
     "prev": "b8fb873b-5b09-4ce5-aa58-101a6e4cbf52",
     "regions": {
      "8f0f3b7d-b200-4301-8c76-85b6cf3a9c1e": {
       "attrs": {
        "height": 0.8,
        "width": 0.8,
        "x": 0.1,
        "y": 0.1
       },
       "content": {
        "cell": "a59b53cf-e6b9-4dae-9f5a-b94aca860131",
        "part": "whole"
       },
       "id": "8f0f3b7d-b200-4301-8c76-85b6cf3a9c1e"
      }
     }
    },
    "eb88581b-04a3-4659-a137-a97bade12350": {
     "id": "eb88581b-04a3-4659-a137-a97bade12350",
     "prev": "6b03b3d7-6024-4dc4-99ed-e2556b30d1bc",
     "regions": {
      "e88065cd-f67d-4fae-a64f-8f948b77f786": {
       "attrs": {
        "height": 0.8,
        "width": 0.8,
        "x": 0.1,
        "y": 0.1
       },
       "content": {
        "cell": "240d239b-5ffb-4fba-bc1f-66593f0d0d5b",
        "part": "whole"
       },
       "id": "e88065cd-f67d-4fae-a64f-8f948b77f786"
      }
     }
    },
    "ecddb274-e961-42df-b284-60cf59c5c95b": {
     "id": "ecddb274-e961-42df-b284-60cf59c5c95b",
     "prev": "261db34f-c37f-49d2-b605-caadcbd518e5",
     "regions": {
      "6312ae95-ecb5-4319-be8b-0ac97f1eaf90": {
       "attrs": {
        "height": 0.8,
        "width": 0.8,
        "x": 0.1,
        "y": 0.1
       },
       "content": {
        "cell": "f0a8f2a1-b6c8-4454-932f-c6faf1d4a4b9",
        "part": "whole"
       },
       "id": "6312ae95-ecb5-4319-be8b-0ac97f1eaf90"
      }
     }
    },
    "f5f200fb-e5e6-41e3-b513-5e32fa7259d1": {
     "id": "f5f200fb-e5e6-41e3-b513-5e32fa7259d1",
     "prev": "0dc9db92-5f32-4504-a7a3-72e4736a6daa",
     "regions": {
      "dc1b4221-9d64-41c7-bd25-242a0f2d7713": {
       "attrs": {
        "height": 0.8,
        "width": 0.8,
        "x": 0.1,
        "y": 0.1
       },
       "content": {
        "cell": "c4b654eb-9403-4aef-b9b3-e3c53b91a5c3",
        "part": "whole"
       },
       "id": "dc1b4221-9d64-41c7-bd25-242a0f2d7713"
      }
     }
    },
    "f9706112-85a5-46bd-8a11-cb59515e94cd": {
     "id": "f9706112-85a5-46bd-8a11-cb59515e94cd",
     "prev": "eb88581b-04a3-4659-a137-a97bade12350",
     "regions": {
      "c4b73d13-0ec2-40cc-9640-4dd6e32c705f": {
       "attrs": {
        "height": 0.8,
        "width": 0.8,
        "x": 0.1,
        "y": 0.1
       },
       "content": {
        "cell": "fb165454-8031-48d4-ad53-13a529881c4f",
        "part": "whole"
       },
       "id": "c4b73d13-0ec2-40cc-9640-4dd6e32c705f"
      }
     }
    },
    "fa8ff021-431e-4d6e-bb46-072b1ead98f0": {
     "id": "fa8ff021-431e-4d6e-bb46-072b1ead98f0",
     "prev": "a5210d59-99af-4921-9187-8cede87df27e",
     "regions": {
      "c4430907-d3cc-45b3-9909-f0917df9a85c": {
       "attrs": {
        "height": 0.8,
        "width": 0.8,
        "x": 0.1,
        "y": 0.1
       },
       "content": {
        "cell": "6d1f3b83-78be-4853-bc1d-e61c7e1950c6",
        "part": "whole"
       },
       "id": "c4430907-d3cc-45b3-9909-f0917df9a85c"
      }
     }
    },
    "fc637b7b-ef49-4335-a3e6-ad26af60dd37": {
     "id": "fc637b7b-ef49-4335-a3e6-ad26af60dd37",
     "prev": "55ea3e26-78ce-49d7-966a-64bd8053f8dc",
     "regions": {
      "6f6b8b30-22bf-41b7-9c5b-8094b8538e1f": {
       "attrs": {
        "height": 0.8,
        "width": 0.8,
        "x": 0.1,
        "y": 0.1
       },
       "content": {
        "cell": "76c1bb8b-1f47-4325-9e65-3089408d86b8",
        "part": "whole"
       },
       "id": "6f6b8b30-22bf-41b7-9c5b-8094b8538e1f"
      }
     }
    },
    "fce280b1-fe44-48e7-a9eb-6cdc1220ac8a": {
     "id": "fce280b1-fe44-48e7-a9eb-6cdc1220ac8a",
     "prev": "a42b9b4d-a545-4067-ba00-68f7d00e244e",
     "regions": {
      "72f53418-fbad-4cd3-8e33-72f94380afa3": {
       "attrs": {
        "height": 0.8,
        "width": 0.8,
        "x": 0.1,
        "y": 0.1
       },
       "content": {
        "cell": "1c17a7bf-7077-48d0-b8f5-38845853660e",
        "part": "whole"
       },
       "id": "72f53418-fbad-4cd3-8e33-72f94380afa3"
      }
     }
    }
   },
   "themes": {}
  },
  "widgets": {
   "state": {
    "7e4286ec187d417baed2aa074f14840f": {
     "views": [
      {
       "cell_index": 86
      }
     ]
    },
    "ea30f0b749e3453a875218980c6ab4b1": {
     "views": [
      {
       "cell_index": 84
      }
     ]
    }
   },
   "version": "1.2.0"
  }
 },
 "nbformat": 4,
 "nbformat_minor": 1
}
